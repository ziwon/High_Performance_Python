{
 "cells": [
  {
   "cell_type": "markdown",
   "metadata": {},
   "source": [
    "- [gevent For the Working Python Developer](http://sdiehl.github.io/gevent-tutorial/) (En)\n",
    "- [Python 개발자를 위한 gevent](http://leekchan.com/gevent-tutorial-ko/) (Ko)"
   ]
  },
  {
   "cell_type": "code",
   "execution_count": 1,
   "metadata": {
    "collapsed": false
   },
   "outputs": [
    {
     "name": "stdout",
     "output_type": "stream",
     "text": [
      "Running in foo\n",
      "Explicit context to bar\n",
      "Explicit context switch to foo again\n",
      "Implicit context switch back to bar\n"
     ]
    },
    {
     "data": {
      "text/plain": [
       "[<Greenlet at 0x7fdc202983d8>, <Greenlet at 0x7fdc20298508>]"
      ]
     },
     "execution_count": 1,
     "metadata": {},
     "output_type": "execute_result"
    }
   ],
   "source": [
    "# yiedling for context switch with gevent.sleep(0)\n",
    "import gevent\n",
    "\n",
    "def foo():\n",
    "    print('Running in foo')\n",
    "    gevent.sleep(0)\n",
    "    print('Explicit context switch to foo again')\n",
    "    \n",
    "def bar():\n",
    "    print('Explicit context to bar')\n",
    "    gevent.sleep(0)\n",
    "    print('Implicit context switch back to bar')\n",
    "    \n",
    "gevent.joinall([\n",
    "    gevent.spawn(foo),\n",
    "    gevent.spawn(bar),\n",
    "])"
   ]
  },
  {
   "cell_type": "code",
   "execution_count": 2,
   "metadata": {
    "collapsed": false
   },
   "outputs": [
    {
     "name": "stdout",
     "output_type": "stream",
     "text": [
      "Started Polling: at 0.0 seconds\n",
      "Started Polling: at 0.0 seconds\n",
      "Hey lets do some stuff while the greenlets poll, at 0.0 seconds\n",
      "Ended Polling: at 2.0 seconds\n",
      "Ended Polling: at 2.0 seconds\n"
     ]
    },
    {
     "data": {
      "text/plain": [
       "[<Greenlet at 0x7fdc20298898>,\n",
       " <Greenlet at 0x7fdc20298768>,\n",
       " <Greenlet at 0x7fdc20298800>]"
      ]
     },
     "execution_count": 2,
     "metadata": {},
     "output_type": "execute_result"
    }
   ],
   "source": [
    "# blocking call using select()\n",
    "\n",
    "import time\n",
    "import gevent\n",
    "from gevent import select\n",
    "\n",
    "start = time.time()\n",
    "tic = lambda: 'at %1.1f seconds' % (time.time() - start)\n",
    "\n",
    "def gr1():\n",
    "    # Busy waits for a second, but we don't want to stick around...\n",
    "    print('Started Polling: %s' % tic())\n",
    "    select.select([], [], [], 2)\n",
    "    print('Ended Polling: %s' % tic())\n",
    "    \n",
    "def gr2():\n",
    "    # Busy waits for a second, but we don't want to stick around...\n",
    "    print('Started Polling: %s' % tic())\n",
    "    select.select([], [], [], 2)\n",
    "    print('Ended Polling: %s' % tic())\n",
    "    \n",
    "def gr3():\n",
    "    print('Hey lets do some stuff while the greenlets poll, %s' % tic())\n",
    "    gevent.sleep(1)\n",
    "    \n",
    "gevent.joinall([\n",
    "    gevent.spawn(gr1),\n",
    "    gevent.spawn(gr2),\n",
    "    gevent.spawn(gr3),\n",
    "])"
   ]
  },
  {
   "cell_type": "code",
   "execution_count": 3,
   "metadata": {
    "collapsed": false
   },
   "outputs": [
    {
     "name": "stdout",
     "output_type": "stream",
     "text": [
      "Synchronous:\n",
      "Task 1 done\n",
      "Task 2 done\n",
      "Task 3 done\n",
      "Task 4 done\n",
      "Task 5 done\n",
      "Task 6 done\n",
      "Task 7 done\n",
      "Task 8 done\n",
      "Task 9 done\n",
      "Asynchronous:\n",
      "Task 3 done\n",
      "Task 5 done\n",
      "Task 0 done\n",
      "Task 1 done\n",
      "Task 2 done\n",
      "Task 8 done\n",
      "Task 9 done\n",
      "Task 4 done\n",
      "Task 6 done\n",
      "Task 7 done\n"
     ]
    }
   ],
   "source": [
    "# non-deterministic task\n",
    "import gevent\n",
    "import random\n",
    "\n",
    "def task(pid):\n",
    "    \"\"\"\n",
    "    some non-deterministic task\n",
    "    \"\"\"\n",
    "    gevent.sleep(random.randint(0,2) * 0.001)\n",
    "    print('Task %s done' % pid)\n",
    "    \n",
    "def synchronous():\n",
    "    for i in range(1, 10):\n",
    "        task(i)\n",
    "        \n",
    "def asynchronous():\n",
    "    threads = [gevent.spawn(task, i) for i in range(10)]\n",
    "    gevent.joinall(threads)\n",
    "    \n",
    "print('Synchronous:')\n",
    "synchronous()\n",
    "\n",
    "print('Asynchronous:')\n",
    "asynchronous()"
   ]
  },
  {
   "cell_type": "code",
   "execution_count": 4,
   "metadata": {
    "collapsed": false
   },
   "outputs": [
    {
     "name": "stdout",
     "output_type": "stream",
     "text": [
      "Synchronous:\n",
      "Process 1: 11:35:14 AM\n",
      "Process 2: 11:35:14 AM\n",
      "Process 3: 11:35:16 AM\n",
      "Process 4: 11:35:16 AM\n",
      "Process 5: 11:35:17 AM\n",
      "Process 6: 11:35:18 AM\n",
      "Process 7: 11:35:18 AM\n",
      "Process 8: 11:35:19 AM\n",
      "Process 9: 11:35:20 AM\n",
      "Asynchronous:\n",
      "Process 6: 11:35:21 AM\n",
      "Process 5: 11:35:21 AM\n",
      "Process 2: 11:35:21 AM\n",
      "Process 4: 11:35:21 AM\n",
      "Process 9: 11:35:21 AM\n",
      "Process 1: 11:35:21 AM\n",
      "Process 8: 11:35:21 AM\n",
      "Process 7: 11:35:21 AM\n",
      "Process 3: 11:35:21 AM\n"
     ]
    }
   ],
   "source": [
    "# synchronous vs asynchronous\n",
    "import gevent.monkey\n",
    "gevent.monkey.patch_socket()\n",
    "\n",
    "import gevent\n",
    "from urllib.request import urlopen\n",
    "import simplejson as json\n",
    "\n",
    "\n",
    "def fetch(pid):\n",
    "    response = urlopen('http://date.jsontest.com/')\n",
    "    result = response.read()\n",
    "    json_result = json.loads(result)\n",
    "    datetime = json_result['time']\n",
    "    \n",
    "    print('Process %s: %s' % (pid, datetime))\n",
    "    return json_result['time']\n",
    "\n",
    "def synchronous():\n",
    "    for i in range(1,10):\n",
    "        fetch(i)\n",
    "\n",
    "def asynchronous():\n",
    "    threads = []\n",
    "    for i in range(1,10):\n",
    "        threads.append(gevent.spawn(fetch, i))\n",
    "    gevent.joinall(threads)\n",
    "\n",
    "print('Synchronous:')\n",
    "synchronous()\n",
    "\n",
    "print('Asynchronous:')\n",
    "asynchronous()"
   ]
  },
  {
   "cell_type": "code",
   "execution_count": 5,
   "metadata": {
    "collapsed": false
   },
   "outputs": [
    {
     "name": "stdout",
     "output_type": "stream",
     "text": [
      "False\n",
      "True\n"
     ]
    }
   ],
   "source": [
    "# deterministic greenlet\n",
    "import time\n",
    "\n",
    "def echo(i):\n",
    "    time.sleep(0.001)\n",
    "    return i\n",
    "\n",
    "# Non Deterministic Process Pool\n",
    "\n",
    "from multiprocessing.pool import Pool\n",
    "\n",
    "p = Pool(10)\n",
    "run1 = [a for a in p.imap_unordered(echo, range(10))]\n",
    "run2 = [a for a in p.imap_unordered(echo, range(10))]\n",
    "run3 = [a for a in p.imap_unordered(echo, range(10))]\n",
    "run4 = [a for a in p.imap_unordered(echo, range(10))]\n",
    "\n",
    "print(run1 == run2 == run3 == run4)\n",
    "\n",
    "# Deterministic Gevent Pool\n",
    "\n",
    "from gevent.pool import Pool\n",
    "\n",
    "p = Pool(10)\n",
    "run1 = [a for a in p.imap_unordered(echo, range(10))]\n",
    "run2 = [a for a in p.imap_unordered(echo, range(10))]\n",
    "run3 = [a for a in p.imap_unordered(echo, range(10))]\n",
    "run4 = [a for a in p.imap_unordered(echo, range(10))]\n",
    "\n",
    "print(run1 == run2 == run3 == run4)"
   ]
  },
  {
   "cell_type": "code",
   "execution_count": 6,
   "metadata": {
    "collapsed": false
   },
   "outputs": [
    {
     "name": "stdout",
     "output_type": "stream",
     "text": [
      "I live!\n",
      "Hello\n"
     ]
    },
    {
     "data": {
      "text/plain": [
       "[<Greenlet at 0x7fdc18adb9c8>,\n",
       " <Greenlet at 0x7fdc18adbdf0>,\n",
       " <Greenlet at 0x7fdc18adbcc0>]"
      ]
     },
     "execution_count": 6,
     "metadata": {},
     "output_type": "execute_result"
    }
   ],
   "source": [
    "# initializing Greenlet 1\n",
    "\n",
    "import gevent\n",
    "from gevent import Greenlet\n",
    "\n",
    "def foo(message, n):\n",
    "    \"\"\"\n",
    "    Each thread will be passed the message, and n arguments\n",
    "    in its initialization.\n",
    "    \"\"\"\n",
    "    gevent.sleep(n)\n",
    "    print(message)\n",
    "    \n",
    "# Initialize a new Greenlet instance running the named function\n",
    "# foo\n",
    "thread1 = Greenlet.spawn(foo, 'Hello', 2)\n",
    "\n",
    "# Wrapper for creating and running a new Greenlet from the named\n",
    "# function foo, with the passed arguments\n",
    "thread2 = gevent.spawn(foo, 'I live!', 1)\n",
    "\n",
    "# Lambda expressions\n",
    "thread3 = gevent.spawn(lambda x: (x+1), 2)\n",
    "\n",
    "threads = [thread1, thread2, thread3]\n",
    "\n",
    "# Block until all threads complete.\n",
    "gevent.joinall(threads)"
   ]
  },
  {
   "cell_type": "code",
   "execution_count": 7,
   "metadata": {
    "collapsed": false
   },
   "outputs": [
    {
     "name": "stdout",
     "output_type": "stream",
     "text": [
      "Hi There!\n"
     ]
    }
   ],
   "source": [
    "# initializing Greenlet 2: extending Greenlet\n",
    "\n",
    "import gevent\n",
    "from gevent import Greenlet\n",
    "\n",
    "class MyGreenlet(Greenlet):\n",
    "    \n",
    "    def __init__(self, message, n):\n",
    "        Greenlet.__init__(self)\n",
    "        self.message = message\n",
    "        self.n = n\n",
    "        \n",
    "    def _run(self):\n",
    "        print(self.message)\n",
    "        gevent.sleep(self.n)\n",
    "        \n",
    "g = MyGreenlet('Hi There!', 3)\n",
    "g.start()\n",
    "g.join()"
   ]
  },
  {
   "cell_type": "code",
   "execution_count": 8,
   "metadata": {
    "collapsed": false
   },
   "outputs": [
    {
     "name": "stdout",
     "output_type": "stream",
     "text": [
      "True\n",
      "True\n",
      "You win!\n",
      "None\n",
      "True\n",
      "True\n",
      "True\n",
      "False\n",
      "You fail at failing\n"
     ]
    },
    {
     "name": "stderr",
     "output_type": "stream",
     "text": [
      "Traceback (most recent call last):\n",
      "  File \"/home/luno/.pyenv/versions/3.6.0/envs/jupyter-env/lib/python3.6/site-packages/gevent/greenlet.py\", line 536, in run\n",
      "    result = self._run(*self.args, **self.kwargs)\n",
      "  File \"<ipython-input-8-3384d5694d5e>\", line 13, in fail\n",
      "    raise Exception('You fail at failing')\n",
      "Exception: You fail at failing\n",
      "Thu Feb 16 20:35:39 2017 <Greenlet at 0x7fdc18adbf20: fail> failed with Exception\n",
      "\n"
     ]
    }
   ],
   "source": [
    "# Greenlet State\n",
    "# - started\n",
    "# - ready\n",
    "# - successful\n",
    "# - value\n",
    "# - exception\n",
    "import gevent\n",
    "\n",
    "def win():\n",
    "    return 'You win!'\n",
    "\n",
    "def fail():\n",
    "    raise Exception('You fail at failing')\n",
    "    \n",
    "winner = gevent.spawn(win)\n",
    "loser = gevent.spawn(fail)\n",
    "\n",
    "print(winner.started)\n",
    "print(loser.started)\n",
    "\n",
    "try:\n",
    "    gevent.joinall([winner, loser])\n",
    "except Exception as e:\n",
    "    print('This will never be reached')\n",
    "    \n",
    "print(winner.value)\n",
    "print(loser.value)\n",
    "\n",
    "print(winner.ready())\n",
    "print(loser.ready())\n",
    "\n",
    "print(winner.successful())\n",
    "print(loser.successful())\n",
    "\n",
    "print(loser.exception)"
   ]
  },
  {
   "cell_type": "code",
   "execution_count": 9,
   "metadata": {
    "collapsed": false
   },
   "outputs": [
    {
     "name": "stderr",
     "output_type": "stream",
     "text": [
      "Traceback (most recent call last):\n",
      "  File \"/home/luno/.pyenv/versions/3.6.0/envs/jupyter-env/lib/python3.6/site-packages/gevent/hub.py\", line 279, in handle\n",
      "    self.handler(*self.args, **self.kwargs)\n",
      "TypeError: kill() missing 1 required positional argument: 'greenlet'\n",
      "Thu Feb 16 20:35:57 2017\n"
     ]
    },
    {
     "ename": "TypeError",
     "evalue": "kill() missing 1 required positional argument: 'greenlet'",
     "output_type": "error",
     "traceback": [
      "\u001b[0;31m---------------------------------------------------------------------------\u001b[0m",
      "\u001b[0;31mTypeError\u001b[0m                                 Traceback (most recent call last)",
      "\u001b[0;32m<ipython-input-9-4768b1bcbdde>\u001b[0m in \u001b[0;36m<module>\u001b[0;34m()\u001b[0m\n\u001b[1;32m      7\u001b[0m \u001b[0mgevent\u001b[0m\u001b[0;34m.\u001b[0m\u001b[0msignal\u001b[0m\u001b[0;34m(\u001b[0m\u001b[0msignal\u001b[0m\u001b[0;34m.\u001b[0m\u001b[0mSIGINT\u001b[0m\u001b[0;34m,\u001b[0m \u001b[0mgevent\u001b[0m\u001b[0;34m.\u001b[0m\u001b[0mkill\u001b[0m\u001b[0;34m)\u001b[0m\u001b[0;34m\u001b[0m\u001b[0m\n\u001b[1;32m      8\u001b[0m \u001b[0mthread\u001b[0m \u001b[0;34m=\u001b[0m \u001b[0mgevent\u001b[0m\u001b[0;34m.\u001b[0m\u001b[0mspawn\u001b[0m\u001b[0;34m(\u001b[0m\u001b[0mrun_forever\u001b[0m\u001b[0;34m)\u001b[0m\u001b[0;34m\u001b[0m\u001b[0m\n\u001b[0;32m----> 9\u001b[0;31m \u001b[0mthread\u001b[0m\u001b[0;34m.\u001b[0m\u001b[0mjoin\u001b[0m\u001b[0;34m(\u001b[0m\u001b[0;34m)\u001b[0m\u001b[0;34m\u001b[0m\u001b[0m\n\u001b[0m",
      "\u001b[0;32m/home/luno/.pyenv/versions/3.6.0/envs/jupyter-env/lib/python3.6/site-packages/gevent/greenlet.py\u001b[0m in \u001b[0;36mjoin\u001b[0;34m(self, timeout)\u001b[0m\n\u001b[1;32m    494\u001b[0m             \u001b[0mt\u001b[0m \u001b[0;34m=\u001b[0m \u001b[0mTimeout\u001b[0m\u001b[0;34m.\u001b[0m\u001b[0m_start_new_or_dummy\u001b[0m\u001b[0;34m(\u001b[0m\u001b[0mtimeout\u001b[0m\u001b[0;34m)\u001b[0m\u001b[0;34m\u001b[0m\u001b[0m\n\u001b[1;32m    495\u001b[0m             \u001b[0;32mtry\u001b[0m\u001b[0;34m:\u001b[0m\u001b[0;34m\u001b[0m\u001b[0m\n\u001b[0;32m--> 496\u001b[0;31m                 \u001b[0mresult\u001b[0m \u001b[0;34m=\u001b[0m \u001b[0mself\u001b[0m\u001b[0;34m.\u001b[0m\u001b[0mparent\u001b[0m\u001b[0;34m.\u001b[0m\u001b[0mswitch\u001b[0m\u001b[0;34m(\u001b[0m\u001b[0;34m)\u001b[0m\u001b[0;34m\u001b[0m\u001b[0m\n\u001b[0m\u001b[1;32m    497\u001b[0m                 \u001b[0;32mif\u001b[0m \u001b[0mresult\u001b[0m \u001b[0;32mis\u001b[0m \u001b[0;32mnot\u001b[0m \u001b[0mself\u001b[0m\u001b[0;34m:\u001b[0m\u001b[0;34m\u001b[0m\u001b[0m\n\u001b[1;32m    498\u001b[0m                     \u001b[0;32mraise\u001b[0m \u001b[0mInvalidSwitchError\u001b[0m\u001b[0;34m(\u001b[0m\u001b[0;34m'Invalid switch into Greenlet.join(): %r'\u001b[0m \u001b[0;34m%\u001b[0m \u001b[0;34m(\u001b[0m\u001b[0mresult\u001b[0m\u001b[0;34m,\u001b[0m \u001b[0;34m)\u001b[0m\u001b[0;34m)\u001b[0m\u001b[0;34m\u001b[0m\u001b[0m\n",
      "\u001b[0;32m/home/luno/.pyenv/versions/3.6.0/envs/jupyter-env/lib/python3.6/site-packages/gevent/hub.py\u001b[0m in \u001b[0;36mswitch\u001b[0;34m(self)\u001b[0m\n\u001b[1;32m    628\u001b[0m         \u001b[0;32mif\u001b[0m \u001b[0mswitch_out\u001b[0m \u001b[0;32mis\u001b[0m \u001b[0;32mnot\u001b[0m \u001b[0;32mNone\u001b[0m\u001b[0;34m:\u001b[0m\u001b[0;34m\u001b[0m\u001b[0m\n\u001b[1;32m    629\u001b[0m             \u001b[0mswitch_out\u001b[0m\u001b[0;34m(\u001b[0m\u001b[0;34m)\u001b[0m\u001b[0;34m\u001b[0m\u001b[0m\n\u001b[0;32m--> 630\u001b[0;31m         \u001b[0;32mreturn\u001b[0m \u001b[0mRawGreenlet\u001b[0m\u001b[0;34m.\u001b[0m\u001b[0mswitch\u001b[0m\u001b[0;34m(\u001b[0m\u001b[0mself\u001b[0m\u001b[0;34m)\u001b[0m\u001b[0;34m\u001b[0m\u001b[0m\n\u001b[0m\u001b[1;32m    631\u001b[0m \u001b[0;34m\u001b[0m\u001b[0m\n\u001b[1;32m    632\u001b[0m     \u001b[0;32mdef\u001b[0m \u001b[0mswitch_out\u001b[0m\u001b[0;34m(\u001b[0m\u001b[0mself\u001b[0m\u001b[0;34m)\u001b[0m\u001b[0;34m:\u001b[0m\u001b[0;34m\u001b[0m\u001b[0m\n",
      "\u001b[0;31mTypeError\u001b[0m: kill() missing 1 required positional argument: 'greenlet'"
     ]
    }
   ],
   "source": [
    "import gevent\n",
    "import signal\n",
    "\n",
    "def run_forever():\n",
    "    gevent.sleep(1000)\n",
    "    \n",
    "gevent.signal(signal.SIGINT, gevent.kill)\n",
    "thread = gevent.spawn(run_forever)\n",
    "thread.join()"
   ]
  },
  {
   "cell_type": "code",
   "execution_count": 10,
   "metadata": {
    "collapsed": false
   },
   "outputs": [
    {
     "name": "stdout",
     "output_type": "stream",
     "text": [
      "Could not complete\n"
     ]
    }
   ],
   "source": [
    "import gevent\n",
    "from gevent import Timeout\n",
    "\n",
    "seconds = 5\n",
    "\n",
    "timeout = Timeout(seconds)\n",
    "timeout.start()\n",
    "\n",
    "def wait():\n",
    "    gevent.sleep(10)\n",
    "\n",
    "try:\n",
    "    gevent.spawn(wait).join()\n",
    "except Timeout:\n",
    "    print('Could not complete')"
   ]
  },
  {
   "cell_type": "code",
   "execution_count": 11,
   "metadata": {
    "collapsed": false
   },
   "outputs": [
    {
     "ename": "TooLong",
     "evalue": "",
     "output_type": "error",
     "traceback": [
      "\u001b[0;31m---------------------------------------------------------------------------\u001b[0m",
      "\u001b[0;31mTooLong\u001b[0m                                   Traceback (most recent call last)",
      "\u001b[0;32m<ipython-input-11-c6c95830535a>\u001b[0m in \u001b[0;36m<module>\u001b[0;34m()\u001b[0m\n\u001b[1;32m      8\u001b[0m \u001b[0;34m\u001b[0m\u001b[0m\n\u001b[1;32m      9\u001b[0m \u001b[0;32mwith\u001b[0m \u001b[0mTimeout\u001b[0m\u001b[0;34m(\u001b[0m\u001b[0mtime_to_wait\u001b[0m\u001b[0;34m,\u001b[0m \u001b[0mTooLong\u001b[0m\u001b[0;34m)\u001b[0m\u001b[0;34m:\u001b[0m\u001b[0;34m\u001b[0m\u001b[0m\n\u001b[0;32m---> 10\u001b[0;31m     \u001b[0mgevent\u001b[0m\u001b[0;34m.\u001b[0m\u001b[0msleep\u001b[0m\u001b[0;34m(\u001b[0m\u001b[0;36m10\u001b[0m\u001b[0;34m)\u001b[0m\u001b[0;34m\u001b[0m\u001b[0m\n\u001b[0m",
      "\u001b[0;32m/home/luno/.pyenv/versions/3.6.0/envs/jupyter-env/lib/python3.6/site-packages/gevent/hub.py\u001b[0m in \u001b[0;36msleep\u001b[0;34m(seconds, ref)\u001b[0m\n\u001b[1;32m    167\u001b[0m         \u001b[0mwaiter\u001b[0m\u001b[0;34m.\u001b[0m\u001b[0mget\u001b[0m\u001b[0;34m(\u001b[0m\u001b[0;34m)\u001b[0m\u001b[0;34m\u001b[0m\u001b[0m\n\u001b[1;32m    168\u001b[0m     \u001b[0;32melse\u001b[0m\u001b[0;34m:\u001b[0m\u001b[0;34m\u001b[0m\u001b[0m\n\u001b[0;32m--> 169\u001b[0;31m         \u001b[0mhub\u001b[0m\u001b[0;34m.\u001b[0m\u001b[0mwait\u001b[0m\u001b[0;34m(\u001b[0m\u001b[0mloop\u001b[0m\u001b[0;34m.\u001b[0m\u001b[0mtimer\u001b[0m\u001b[0;34m(\u001b[0m\u001b[0mseconds\u001b[0m\u001b[0;34m,\u001b[0m \u001b[0mref\u001b[0m\u001b[0;34m=\u001b[0m\u001b[0mref\u001b[0m\u001b[0;34m)\u001b[0m\u001b[0;34m)\u001b[0m\u001b[0;34m\u001b[0m\u001b[0m\n\u001b[0m\u001b[1;32m    170\u001b[0m \u001b[0;34m\u001b[0m\u001b[0m\n\u001b[1;32m    171\u001b[0m \u001b[0;34m\u001b[0m\u001b[0m\n",
      "\u001b[0;32m/home/luno/.pyenv/versions/3.6.0/envs/jupyter-env/lib/python3.6/site-packages/gevent/hub.py\u001b[0m in \u001b[0;36mwait\u001b[0;34m(self, watcher)\u001b[0m\n\u001b[1;32m    649\u001b[0m         \u001b[0mwatcher\u001b[0m\u001b[0;34m.\u001b[0m\u001b[0mstart\u001b[0m\u001b[0;34m(\u001b[0m\u001b[0mwaiter\u001b[0m\u001b[0;34m.\u001b[0m\u001b[0mswitch\u001b[0m\u001b[0;34m,\u001b[0m \u001b[0munique\u001b[0m\u001b[0;34m)\u001b[0m\u001b[0;34m\u001b[0m\u001b[0m\n\u001b[1;32m    650\u001b[0m         \u001b[0;32mtry\u001b[0m\u001b[0;34m:\u001b[0m\u001b[0;34m\u001b[0m\u001b[0m\n\u001b[0;32m--> 651\u001b[0;31m             \u001b[0mresult\u001b[0m \u001b[0;34m=\u001b[0m \u001b[0mwaiter\u001b[0m\u001b[0;34m.\u001b[0m\u001b[0mget\u001b[0m\u001b[0;34m(\u001b[0m\u001b[0;34m)\u001b[0m\u001b[0;34m\u001b[0m\u001b[0m\n\u001b[0m\u001b[1;32m    652\u001b[0m             \u001b[0;32mif\u001b[0m \u001b[0mresult\u001b[0m \u001b[0;32mis\u001b[0m \u001b[0;32mnot\u001b[0m \u001b[0munique\u001b[0m\u001b[0;34m:\u001b[0m\u001b[0;34m\u001b[0m\u001b[0m\n\u001b[1;32m    653\u001b[0m                 \u001b[0;32mraise\u001b[0m \u001b[0mInvalidSwitchError\u001b[0m\u001b[0;34m(\u001b[0m\u001b[0;34m'Invalid switch into %s: %r (expected %r)'\u001b[0m \u001b[0;34m%\u001b[0m \u001b[0;34m(\u001b[0m\u001b[0mgetcurrent\u001b[0m\u001b[0;34m(\u001b[0m\u001b[0;34m)\u001b[0m\u001b[0;34m,\u001b[0m \u001b[0mresult\u001b[0m\u001b[0;34m,\u001b[0m \u001b[0munique\u001b[0m\u001b[0;34m)\u001b[0m\u001b[0;34m)\u001b[0m\u001b[0;34m\u001b[0m\u001b[0m\n",
      "\u001b[0;32m/home/luno/.pyenv/versions/3.6.0/envs/jupyter-env/lib/python3.6/site-packages/gevent/hub.py\u001b[0m in \u001b[0;36mget\u001b[0;34m(self)\u001b[0m\n\u001b[1;32m    897\u001b[0m             \u001b[0mself\u001b[0m\u001b[0;34m.\u001b[0m\u001b[0mgreenlet\u001b[0m \u001b[0;34m=\u001b[0m \u001b[0mgetcurrent\u001b[0m\u001b[0;34m(\u001b[0m\u001b[0;34m)\u001b[0m\u001b[0;34m\u001b[0m\u001b[0m\n\u001b[1;32m    898\u001b[0m             \u001b[0;32mtry\u001b[0m\u001b[0;34m:\u001b[0m\u001b[0;34m\u001b[0m\u001b[0m\n\u001b[0;32m--> 899\u001b[0;31m                 \u001b[0;32mreturn\u001b[0m \u001b[0mself\u001b[0m\u001b[0;34m.\u001b[0m\u001b[0mhub\u001b[0m\u001b[0;34m.\u001b[0m\u001b[0mswitch\u001b[0m\u001b[0;34m(\u001b[0m\u001b[0;34m)\u001b[0m\u001b[0;34m\u001b[0m\u001b[0m\n\u001b[0m\u001b[1;32m    900\u001b[0m             \u001b[0;32mfinally\u001b[0m\u001b[0;34m:\u001b[0m\u001b[0;34m\u001b[0m\u001b[0m\n\u001b[1;32m    901\u001b[0m                 \u001b[0mself\u001b[0m\u001b[0;34m.\u001b[0m\u001b[0mgreenlet\u001b[0m \u001b[0;34m=\u001b[0m \u001b[0;32mNone\u001b[0m\u001b[0;34m\u001b[0m\u001b[0m\n",
      "\u001b[0;32m/home/luno/.pyenv/versions/3.6.0/envs/jupyter-env/lib/python3.6/site-packages/gevent/hub.py\u001b[0m in \u001b[0;36mswitch\u001b[0;34m(self)\u001b[0m\n\u001b[1;32m    628\u001b[0m         \u001b[0;32mif\u001b[0m \u001b[0mswitch_out\u001b[0m \u001b[0;32mis\u001b[0m \u001b[0;32mnot\u001b[0m \u001b[0;32mNone\u001b[0m\u001b[0;34m:\u001b[0m\u001b[0;34m\u001b[0m\u001b[0m\n\u001b[1;32m    629\u001b[0m             \u001b[0mswitch_out\u001b[0m\u001b[0;34m(\u001b[0m\u001b[0;34m)\u001b[0m\u001b[0;34m\u001b[0m\u001b[0m\n\u001b[0;32m--> 630\u001b[0;31m         \u001b[0;32mreturn\u001b[0m \u001b[0mRawGreenlet\u001b[0m\u001b[0;34m.\u001b[0m\u001b[0mswitch\u001b[0m\u001b[0;34m(\u001b[0m\u001b[0mself\u001b[0m\u001b[0;34m)\u001b[0m\u001b[0;34m\u001b[0m\u001b[0m\n\u001b[0m\u001b[1;32m    631\u001b[0m \u001b[0;34m\u001b[0m\u001b[0m\n\u001b[1;32m    632\u001b[0m     \u001b[0;32mdef\u001b[0m \u001b[0mswitch_out\u001b[0m\u001b[0;34m(\u001b[0m\u001b[0mself\u001b[0m\u001b[0;34m)\u001b[0m\u001b[0;34m:\u001b[0m\u001b[0;34m\u001b[0m\u001b[0m\n",
      "\u001b[0;31mTooLong\u001b[0m: "
     ]
    }
   ],
   "source": [
    "import gevent\n",
    "from gevent import Timeout\n",
    "\n",
    "time_to_wait = 5\n",
    "\n",
    "class TooLong(Exception):\n",
    "    pass\n",
    "\n",
    "with Timeout(time_to_wait, TooLong):\n",
    "    gevent.sleep(10)"
   ]
  },
  {
   "cell_type": "code",
   "execution_count": 12,
   "metadata": {
    "collapsed": false
   },
   "outputs": [
    {
     "name": "stdout",
     "output_type": "stream",
     "text": [
      "Thread 1 timed out\n",
      "Thread 2 timed out\n",
      "Thread 3 timed out\n"
     ]
    }
   ],
   "source": [
    "import gevent\n",
    "from gevent import Timeout\n",
    "\n",
    "def wait():\n",
    "    gevent.sleep(2)\n",
    "    \n",
    "timer = Timeout(1).start()\n",
    "thread1 = gevent.spawn(wait)\n",
    "\n",
    "try:\n",
    "    thread1.join(timeout=timer)\n",
    "except Timeout:\n",
    "    print('Thread 1 timed out')\n",
    "    \n",
    "timer = Timeout.start_new(1)\n",
    "thread2 = gevent.spawn(wait)\n",
    "\n",
    "try:\n",
    "    thread2.get(timeout=timer)\n",
    "except Timeout:\n",
    "    print('Thread 2 timed out')\n",
    "    \n",
    "try:\n",
    "    gevent.with_timeout(1, wait)\n",
    "except Timeout:\n",
    "    print('Thread 3 timed out')"
   ]
  },
  {
   "cell_type": "code",
   "execution_count": 14,
   "metadata": {
    "collapsed": false
   },
   "outputs": [
    {
     "name": "stdout",
     "output_type": "stream",
     "text": [
      "<module 'socket' from '/home/luno/.pyenv/versions/3.6.0/lib/python3.6/socket.py'>\n",
      "After monkey patch\n",
      "<class 'gevent._socket3.socket'>\n",
      "<function select at 0x7fdc20036d90>\n",
      "After monkey patch\n",
      "<function select at 0x7fdc20036d90>\n"
     ]
    },
    {
     "data": {
      "text/plain": [
       "\"\\n<class 'socket.socket'>\\nAfter monkey patch\\n<class 'gevent._socket3.socket'>\\n<built-in function select>\\nAfter monkey patch\\n<function select at 0x7fa8c020e9d8>\\n\""
      ]
     },
     "execution_count": 14,
     "metadata": {},
     "output_type": "execute_result"
    }
   ],
   "source": [
    "#import socket\n",
    "socket.socket = __import__('socket')\n",
    "print(socket.socket)\n",
    "\n",
    "print('After monkey patch')\n",
    "from gevent import monkey\n",
    "monkey.patch_socket()\n",
    "print(socket.socket)\n",
    "\n",
    "import select\n",
    "print(select.select)\n",
    "monkey.patch_select()\n",
    "print(\"After monkey patch\")\n",
    "print(select.select)\n",
    "\n",
    "\"\"\"\n",
    "<class 'socket.socket'>\n",
    "After monkey patch\n",
    "<class 'gevent._socket3.socket'>\n",
    "<built-in function select>\n",
    "After monkey patch\n",
    "<function select at 0x7fa8c020e9d8>\n",
    "\"\"\""
   ]
  },
  {
   "cell_type": "code",
   "execution_count": 15,
   "metadata": {
    "collapsed": false
   },
   "outputs": [
    {
     "name": "stdout",
     "output_type": "stream",
     "text": [
      "A: Hey wait for me, I have to do something\n",
      "I'll wait for you\n",
      "I'll wait for you\n",
      "I'll wait for you\n",
      "I'll wait for you\n",
      "I'll wait for you\n",
      "Ok, I'm done\n",
      "It's about time\n",
      "It's about time\n",
      "It's about time\n",
      "It's about time\n",
      "It's about time\n"
     ]
    },
    {
     "data": {
      "text/plain": [
       "[<Greenlet at 0x7fdc18056d58>,\n",
       " <Greenlet at 0x7fdc18069048>,\n",
       " <Greenlet at 0x7fdc18056e88>,\n",
       " <Greenlet at 0x7fdc180690e0>,\n",
       " <Greenlet at 0x7fdc18056f20>,\n",
       " <Greenlet at 0x7fdc18069178>]"
      ]
     },
     "execution_count": 15,
     "metadata": {},
     "output_type": "execute_result"
    }
   ],
   "source": [
    "import gevent\n",
    "from gevent.event import Event\n",
    "\n",
    "evt = Event()\n",
    "\n",
    "def setter():\n",
    "    '''After 3 seconds, wake all threads waiting on the value of evt'''\n",
    "    print('A: Hey wait for me, I have to do something')\n",
    "    gevent.sleep(3)\n",
    "    print(\"Ok, I'm done\")\n",
    "    evt.set()\n",
    "    \n",
    "def waiter():\n",
    "    '''After 3 seconds the get call will unblock'''\n",
    "    print(\"I'll wait for you\")\n",
    "    evt.wait()  # blocking\n",
    "    print(\"It's about time\")\n",
    "    \n",
    "gevent.joinall([\n",
    "        gevent.spawn(setter),\n",
    "        gevent.spawn(waiter),\n",
    "        gevent.spawn(waiter),\n",
    "        gevent.spawn(waiter),\n",
    "        gevent.spawn(waiter),\n",
    "        gevent.spawn(waiter)\n",
    "    ])"
   ]
  },
  {
   "cell_type": "code",
   "execution_count": 16,
   "metadata": {
    "collapsed": false
   },
   "outputs": [
    {
     "name": "stdout",
     "output_type": "stream",
     "text": [
      "setter\n",
      "Hello!\n"
     ]
    },
    {
     "data": {
      "text/plain": [
       "[<Greenlet at 0x7fdc180692a8>, <Greenlet at 0x7fdc18069210>]"
      ]
     },
     "execution_count": 16,
     "metadata": {},
     "output_type": "execute_result"
    }
   ],
   "source": [
    "import gevent\n",
    "from gevent.event import AsyncResult\n",
    "a = AsyncResult()\n",
    "\n",
    "def setter():\n",
    "    \"\"\"\n",
    "    After 3 seconds set the result of a.\n",
    "    \"\"\"\n",
    "    print('setter')\n",
    "    gevent.sleep(3)\n",
    "    a.set('Hello!')\n",
    "\n",
    "def waiter():\n",
    "    \"\"\"\n",
    "    After 3 seconds the get call will unblock after the setter\n",
    "    puts a value into the AsyncResult.\n",
    "    \"\"\"\n",
    "    print(a.get())\n",
    "\n",
    "gevent.joinall([\n",
    "    gevent.spawn(setter),\n",
    "    gevent.spawn(waiter),\n",
    "])"
   ]
  },
  {
   "cell_type": "code",
   "execution_count": 17,
   "metadata": {
    "collapsed": false
   },
   "outputs": [
    {
     "name": "stdout",
     "output_type": "stream",
     "text": [
      "Worker steve got task 1\n",
      "Worker john got task 2\n",
      "Worker nancy got task 3\n",
      "Worker steve got task 4\n",
      "Worker john got task 5\n",
      "Worker nancy got task 6\n",
      "Worker steve got task 7\n",
      "Worker john got task 8\n",
      "Worker nancy got task 9\n",
      "Worker steve got task 10\n",
      "Worker john got task 11\n",
      "Worker nancy got task 12\n",
      "Worker steve got task 13\n",
      "Worker john got task 14\n",
      "Worker nancy got task 15\n",
      "Worker steve got task 16\n",
      "Worker john got task 17\n",
      "Worker nancy got task 18\n",
      "Worker steve got task 19\n",
      "Worker john got task 20\n",
      "Worker nancy got task 21\n",
      "Worker steve got task 22\n",
      "Worker john got task 23\n",
      "Worker nancy got task 24\n",
      "Quitting time!\n",
      "Quitting time!\n",
      "Quitting time!\n"
     ]
    },
    {
     "data": {
      "text/plain": [
       "[<Greenlet at 0x7fdc180693d8>,\n",
       " <Greenlet at 0x7fdc18069470>,\n",
       " <Greenlet at 0x7fdc18069508>]"
      ]
     },
     "execution_count": 17,
     "metadata": {},
     "output_type": "execute_result"
    }
   ],
   "source": [
    "import gevent\n",
    "from gevent.queue import Queue\n",
    "\n",
    "tasks = Queue()\n",
    "\n",
    "def worker(n):\n",
    "    while not tasks.empty():\n",
    "        task = tasks.get()\n",
    "        print('Worker %s got task %s' % (n, task))\n",
    "        gevent.sleep(0)\n",
    "        \n",
    "    print('Quitting time!')\n",
    "    \n",
    "def boss():\n",
    "    for i in range(1, 25):\n",
    "        tasks.put_nowait(i)\n",
    "        \n",
    "gevent.spawn(boss).join()\n",
    "\n",
    "gevent.joinall([\n",
    "    gevent.spawn(worker, 'steve'),\n",
    "    gevent.spawn(worker, 'john'),\n",
    "    gevent.spawn(worker, 'nancy'),\n",
    "])"
   ]
  },
  {
   "cell_type": "code",
   "execution_count": 18,
   "metadata": {
    "collapsed": false
   },
   "outputs": [
    {
     "name": "stdout",
     "output_type": "stream",
     "text": [
      "Worker steve got task 1\n",
      "Worker john got task 2\n",
      "Worker bob got task 3\n",
      "Worker steve got task 4\n",
      "Worker john got task 5\n",
      "Worker bob got task 6\n",
      "Assigned all work in iteration 1\n",
      "Worker steve got task 7\n",
      "Worker john got task 8\n",
      "Worker bob got task 9\n",
      "Worker steve got task 10\n",
      "Worker john got task 11\n",
      "Worker bob got task 12\n",
      "Worker steve got task 13\n",
      "Worker john got task 14\n",
      "Worker bob got task 15\n",
      "Worker steve got task 16\n",
      "Worker john got task 17\n",
      "Worker bob got task 18\n",
      "Assigned all work in iteration 2\n",
      "Worker steve got task 19\n",
      "Quitting time!\n",
      "Quitting time!\n",
      "Quitting time!\n"
     ]
    },
    {
     "data": {
      "text/plain": [
       "[<Greenlet at 0x7fdc180696d0>,\n",
       " <Greenlet at 0x7fdc18069800>,\n",
       " <Greenlet at 0x7fdc18069898>,\n",
       " <Greenlet at 0x7fdc18069768>]"
      ]
     },
     "execution_count": 18,
     "metadata": {},
     "output_type": "execute_result"
    }
   ],
   "source": [
    "import gevent\n",
    "from gevent.queue import Queue, Empty\n",
    "\n",
    "tasks = Queue(maxsize=3)\n",
    "\n",
    "def worker(name):\n",
    "    try:\n",
    "        while True:\n",
    "            task = tasks.get(timeout=1)\n",
    "            print('Worker %s got task %s' % (name, task))\n",
    "            gevent.sleep(0)\n",
    "    except Empty:\n",
    "        print('Quitting time!')\n",
    "        \n",
    "\n",
    "def boss():\n",
    "    \"\"\"\n",
    "    Boss will wait to hand out work until a individual worker is\n",
    "    free since the maxsize of the task queue is 3.\n",
    "    \"\"\"\n",
    "    for i in range(1,10):\n",
    "        tasks.put(i)\n",
    "    print('Assigned all work in iteration 1')\n",
    "\n",
    "    for i in range(10,20):\n",
    "        tasks.put(i)\n",
    "    print('Assigned all work in iteration 2')\n",
    "\n",
    "gevent.joinall([\n",
    "    gevent.spawn(boss),\n",
    "    gevent.spawn(worker, 'steve'),\n",
    "    gevent.spawn(worker, 'john'),\n",
    "    gevent.spawn(worker, 'bob'),\n",
    "])"
   ]
  },
  {
   "cell_type": "code",
   "execution_count": 19,
   "metadata": {
    "collapsed": false
   },
   "outputs": [
    {
     "name": "stdout",
     "output_type": "stream",
     "text": [
      "bar\n",
      "bar\n",
      "bar\n",
      "foo\n",
      "foo\n",
      "foo\n",
      "fizz\n",
      "fizz\n",
      "fizz\n"
     ]
    },
    {
     "data": {
      "text/plain": [
       "True"
      ]
     },
     "execution_count": 19,
     "metadata": {},
     "output_type": "execute_result"
    }
   ],
   "source": [
    "import gevent\n",
    "from gevent.pool import Group\n",
    "\n",
    "def talk(msg):\n",
    "    for i in range(3):\n",
    "        print(msg)\n",
    "        \n",
    "g1 = gevent.spawn(talk, 'bar')\n",
    "g2 = gevent.spawn(talk, 'foo')\n",
    "g3 = gevent.spawn(talk, 'fizz')\n",
    "\n",
    "group = Group()\n",
    "group.add(g1)\n",
    "group.add(g2)\n",
    "group.join()\n",
    "\n",
    "group.add(g3)\n",
    "group.join()"
   ]
  },
  {
   "cell_type": "code",
   "execution_count": 20,
   "metadata": {
    "collapsed": false
   },
   "outputs": [
    {
     "name": "stdout",
     "output_type": "stream",
     "text": [
      "Size of group 3\n",
      "Hello from Greenlet 140583272618440\n",
      "Size of group 3\n",
      "Hello from Greenlet 140583272618592\n",
      "Size of group 3\n",
      "Hello from Greenlet 140583272618744\n",
      "Ordered\n",
      "('task', 0)\n",
      "('task', 1)\n",
      "('task', 2)\n",
      "Unordered\n",
      "('task', 2)\n",
      "('task', 1)\n",
      "('task', 0)\n"
     ]
    }
   ],
   "source": [
    "import gevent\n",
    "from gevent import getcurrent\n",
    "from gevent.pool import Group\n",
    "\n",
    "group = Group()\n",
    "\n",
    "def hello_from(n):\n",
    "    print('Size of group %s' % len(group))\n",
    "    print('Hello from Greenlet %s' % id(getcurrent()))\n",
    "\n",
    "group.map(hello_from, range(3))\n",
    "\n",
    "def intensive(n):\n",
    "    gevent.sleep(3 - n)\n",
    "    return 'task', n\n",
    "\n",
    "print('Ordered')\n",
    "\n",
    "ogroup = Group()\n",
    "for i in ogroup.imap(intensive, range(3)):\n",
    "    print(i)\n",
    "\n",
    "print('Unordered')\n",
    "\n",
    "igroup = Group()\n",
    "for i in igroup.imap_unordered(intensive, range(3)):\n",
    "    print(i)"
   ]
  },
  {
   "cell_type": "code",
   "execution_count": 21,
   "metadata": {
    "collapsed": false
   },
   "outputs": [
    {
     "name": "stdout",
     "output_type": "stream",
     "text": [
      "Size of pool 2\n",
      "Size of pool 2\n",
      "Size of pool 1\n"
     ]
    },
    {
     "data": {
      "text/plain": [
       "[None, None, None]"
      ]
     },
     "execution_count": 21,
     "metadata": {},
     "output_type": "execute_result"
    }
   ],
   "source": [
    "# Pool\n",
    "\n",
    "import gevent\n",
    "from gevent.pool import Pool\n",
    "\n",
    "pool = Pool(2)\n",
    "\n",
    "def hello_from(n):\n",
    "    print('Size of pool %s' % len(pool))\n",
    "\n",
    "pool.map(hello_from, range(3))"
   ]
  },
  {
   "cell_type": "code",
   "execution_count": 22,
   "metadata": {
    "collapsed": true
   },
   "outputs": [],
   "source": [
    "from gevent.pool import Pool\n",
    "\n",
    "class SocketPool(object):\n",
    "    \n",
    "    def __init__(self):\n",
    "        self.pool = Pool(1000)\n",
    "        self.pool.start()\n",
    "        \n",
    "    def listen(self, socket):\n",
    "        while True:\n",
    "            socket.recv()\n",
    "            \n",
    "    def add_handler(self, socket):\n",
    "        if self.pool.full():\n",
    "            raise Exception(\"At maximum pool size\")\n",
    "        else:\n",
    "            self.pool.spawn(self.listen, socket)\n",
    "            \n",
    "    def shutdown(self):\n",
    "        self.pool.kill()"
   ]
  },
  {
   "cell_type": "code",
   "execution_count": 23,
   "metadata": {
    "collapsed": false
   },
   "outputs": [
    {
     "name": "stdout",
     "output_type": "stream",
     "text": [
      "Worker 0 acquired semaphore\n",
      "Worker 1 acquired semaphore\n",
      "Worker 0 released semaphore\n",
      "Worker 1 released semaphore\n",
      "Worker 3 acquired semaphore\n",
      "Worker 4 acquired semaphore\n",
      "Worker 3 released semaphore\n",
      "Worker 4 released semaphore\n",
      "Worker 5 acquired semaphore\n",
      "Worker 5 released semaphore\n"
     ]
    },
    {
     "data": {
      "text/plain": [
       "[None, None, None]"
      ]
     },
     "execution_count": 23,
     "metadata": {},
     "output_type": "execute_result"
    }
   ],
   "source": [
    "from gevent import sleep\n",
    "from gevent.pool import Pool\n",
    "from gevent.lock import BoundedSemaphore\n",
    "\n",
    "sem = BoundedSemaphore(2)\n",
    "\n",
    "def worker1(n):\n",
    "    sem.acquire()\n",
    "    print('Worker %i acquired semaphore' % n)\n",
    "    sleep(0)\n",
    "    sem.release()\n",
    "    print('Worker %i released semaphore' % n)\n",
    "\n",
    "def worker2(n):\n",
    "    with sem:\n",
    "        print('Worker %i acquired semaphore' % n)\n",
    "        sleep(0)\n",
    "    print('Worker %i released semaphore' % n)\n",
    "\n",
    "pool = Pool()\n",
    "pool.map(worker1, range(0,2))\n",
    "pool.map(worker2, range(3,6))"
   ]
  },
  {
   "cell_type": "code",
   "execution_count": 24,
   "metadata": {
    "collapsed": false
   },
   "outputs": [
    {
     "name": "stdout",
     "output_type": "stream",
     "text": [
      "1\n",
      "2\n",
      "x is not local to f2\n"
     ]
    },
    {
     "data": {
      "text/plain": [
       "[<Greenlet at 0x7fdc18069930>, <Greenlet at 0x7fdc18069638>]"
      ]
     },
     "execution_count": 24,
     "metadata": {},
     "output_type": "execute_result"
    }
   ],
   "source": [
    "import gevent\n",
    "from gevent.local import local\n",
    "\n",
    "stash = local()\n",
    "\n",
    "def f1():\n",
    "    stash.x = 1\n",
    "    print(stash.x)\n",
    "    \n",
    "def f2():\n",
    "    stash.y = 2\n",
    "    print(stash.y)\n",
    "    \n",
    "    try:\n",
    "        stash.x\n",
    "    except AttributeError:\n",
    "        print(\"x is not local to f2\")\n",
    "\n",
    "g1 = gevent.spawn(f1)\n",
    "g2 = gevent.spawn(f2)\n",
    "\n",
    "gevent.joinall([g1, g2])"
   ]
  },
  {
   "cell_type": "code",
   "execution_count": null,
   "metadata": {
    "collapsed": false
   },
   "outputs": [],
   "source": [
    "from gevent.local import local\n",
    "from werkzeug.local import LocalProxy\n",
    "from werkzeug.wrappers import Request\n",
    "from contextlib import contextmanager\n",
    "\n",
    "from gevent.wsgi import WSGIServer\n",
    "\n",
    "_requests = local()\n",
    "request = LocalProxy(lambda: _requests.request)\n",
    "\n",
    "@contextmanager\n",
    "def sessionmanager(environ):\n",
    "    _requests.request = Request(environ)\n",
    "    yield\n",
    "    _requests.request = None\n",
    "    \n",
    "def logic():\n",
    "    return \"Hello \" + request.remote_addr\n",
    "\n",
    "def application(environ, start_response):\n",
    "    status = '200 OK'\n",
    "\n",
    "    with sessionmanager(environ):\n",
    "        body = bytes(logic(), 'utf-8')\n",
    "\n",
    "    headers = [\n",
    "        ('Content-Type', 'text/html')\n",
    "    ]\n",
    "\n",
    "    start_response(status, headers)\n",
    "    return [body]\n",
    "\n",
    "WSGIServer(('', 8000), application).serve_forever()"
   ]
  },
  {
   "cell_type": "code",
   "execution_count": 25,
   "metadata": {
    "collapsed": false
   },
   "outputs": [
    {
     "name": "stdout",
     "output_type": "stream",
     "text": [
      "cron\n",
      "cron\n",
      "cron\n",
      "cron\n",
      "cron\n",
      "cron\n",
      "b'Linux'\n"
     ]
    }
   ],
   "source": [
    "import gevent\n",
    "from gevent.subprocess import Popen, PIPE\n",
    "\n",
    "def cron():\n",
    "    while True:\n",
    "        print(\"cron\")\n",
    "        gevent.sleep(0.2)\n",
    "\n",
    "g = gevent.spawn(cron)\n",
    "sub = Popen(['sleep 1; uname'], stdout=PIPE, shell=True)\n",
    "out, err = sub.communicate()\n",
    "g.kill()\n",
    "print(out.rstrip())"
   ]
  },
  {
   "cell_type": "code",
   "execution_count": 27,
   "metadata": {
    "collapsed": false
   },
   "outputs": [
    {
     "name": "stderr",
     "output_type": "stream",
     "text": [
      "Process Process-22:\n",
      "Traceback (most recent call last):\n",
      "  File \"/home/luno/.pyenv/versions/3.6.0/lib/python3.6/multiprocessing/process.py\", line 249, in _bootstrap\n",
      "    self.run()\n",
      "  File \"/home/luno/.pyenv/versions/3.6.0/lib/python3.6/multiprocessing/process.py\", line 93, in run\n",
      "    self._target(*self._args, **self._kwargs)\n",
      "  File \"<ipython-input-27-0e705d30801d>\", line 13, in relay\n",
      "    msg = b.recv()\n",
      "  File \"/home/luno/.pyenv/versions/3.6.0/lib/python3.6/multiprocessing/connection.py\", line 250, in recv\n",
      "    buf = self._recv_bytes()\n",
      "  File \"/home/luno/.pyenv/versions/3.6.0/lib/python3.6/multiprocessing/connection.py\", line 407, in _recv_bytes\n",
      "    buf = self._recv(4)\n",
      "  File \"/home/luno/.pyenv/versions/3.6.0/lib/python3.6/multiprocessing/connection.py\", line 379, in _recv\n",
      "    chunk = read(handle, remaining)\n",
      "BlockingIOError: [Errno 11] Resource temporarily unavailable\n"
     ]
    },
    {
     "name": "stdout",
     "output_type": "stream",
     "text": [
      "hi in 0\n",
      "hi in 1\n",
      "hi in 2\n",
      "hi in 3\n"
     ]
    },
    {
     "data": {
      "text/plain": [
       "[<Greenlet at 0x7fdc18069c28>]"
      ]
     },
     "execution_count": 27,
     "metadata": {},
     "output_type": "execute_result"
    }
   ],
   "source": [
    "import gevent\n",
    "from multiprocessing import Process, Pipe\n",
    "from gevent.socket import wait_read, wait_write\n",
    "\n",
    "# To Process\n",
    "a, b = Pipe()\n",
    "\n",
    "# From Process\n",
    "c, d = Pipe()\n",
    "\n",
    "def relay():\n",
    "    for i in range(10):\n",
    "        msg = b.recv()\n",
    "        c.send(msg + \" in \" + str(i))\n",
    "\n",
    "def put_msg():\n",
    "    for i in range(10):\n",
    "        wait_write(a.fileno())\n",
    "        a.send('hi')\n",
    "\n",
    "def get_msg():\n",
    "    for i in range(10):\n",
    "        wait_read(d.fileno())\n",
    "        print(d.recv())\n",
    "\n",
    "proc = Process(target=relay)\n",
    "proc.start()\n",
    "\n",
    "g1 = gevent.spawn(get_msg)\n",
    "g2 = gevent.spawn(put_msg)\n",
    "gevent.joinall([g1, g2], timeout=1)"
   ]
  },
  {
   "cell_type": "code",
   "execution_count": null,
   "metadata": {
    "collapsed": false
   },
   "outputs": [],
   "source": [
    "import gevent\n",
    "from gevent import Greenlet\n",
    "from gevent.queue import Queue\n",
    "\n",
    "class Actor(Greenlet):\n",
    "    \n",
    "    def __init__(self):\n",
    "        self.inbox = Queue()\n",
    "        Greenlet.__init__(self)\n",
    "        \n",
    "    def receive(self, message):\n",
    "        raise NotImplemented\n",
    "        \n",
    "    def _run(self):\n",
    "        self.running = True\n",
    "\n",
    "        while self.running:\n",
    "            message = self.inbox.get()\n",
    "            self.receive(message)\n",
    "            \n",
    "\n",
    "class Pinger(Actor):\n",
    "    def receive(self, message):\n",
    "        print(message)\n",
    "        pong.inbox.put('ping')\n",
    "        gevent.sleep(0)\n",
    "\n",
    "\n",
    "class Ponger(Actor):\n",
    "    def receive(self, message):\n",
    "        print(message)\n",
    "        ping.inbox.put('pong')\n",
    "        gevent.sleep(0)\n",
    "\n",
    "ping = Pinger()\n",
    "pong = Ponger()\n",
    "\n",
    "ping.start()\n",
    "pong.start()\n",
    "\n",
    "ping.inbox.put('start')\n",
    "gevent.joinall([ping, pong])"
   ]
  },
  {
   "cell_type": "code",
   "execution_count": null,
   "metadata": {
    "collapsed": false
   },
   "outputs": [],
   "source": [
    "import gevent\n",
    "import zmq\n",
    "\n",
    "# Global Context\n",
    "context = zmq.Context()\n",
    "\n",
    "def server():\n",
    "    server_socket = context.socket(zmq.REQ)\n",
    "    server_socket.bind(\"tcp://127.0.0.1:5000\")\n",
    "\n",
    "    for request in range(1, 10):\n",
    "        server_socket.send_string(\"Hello\")\n",
    "        print('Switched to Server for %s' % str(request))\n",
    "        # Implicit context switch occurs here\n",
    "        server_socket.recv()\n",
    "\n",
    "def client():\n",
    "    client_socket = context.socket(zmq.REP)\n",
    "    client_socket.connect(\"tcp://127.0.0.1:5000\")\n",
    "\n",
    "    for request in range(1, 10):\n",
    "        client_socket.recv()\n",
    "        print('Switched to Client for %s' % str(request))\n",
    "        # Implicit context switch occurs here\n",
    "        client_socket.send_string(\"World\")\n",
    "\n",
    "publisher = gevent.spawn(server)\n",
    "client    = gevent.spawn(client)\n",
    "\n",
    "gevent.joinall([publisher, client])"
   ]
  },
  {
   "cell_type": "code",
   "execution_count": null,
   "metadata": {
    "collapsed": true
   },
   "outputs": [],
   "source": [
    "from gevent.server import StreamServer\n",
    "\n",
    "def handle(socket, address):\n",
    "    socket.send('Hello from a telnet!\\n')\n",
    "    for i in range(5):\n",
    "        socket.send(str(i) + '\\n')\n",
    "    socket.close()\n",
    "    \n",
    "server = StreamSerer(('127.0.0.1', 5000), handle)\n",
    "server.server_forever()"
   ]
  },
  {
   "cell_type": "code",
   "execution_count": null,
   "metadata": {
    "collapsed": true
   },
   "outputs": [],
   "source": [
    "from gevent.wsgi import WSGIServer\n",
    "\n",
    "def application(environ, start_response):\n",
    "    status = '200 OK'\n",
    "    body = '<p>Hello World</p>'\n",
    "\n",
    "    headers = [\n",
    "        ('Content-Type', 'text/html')\n",
    "    ]\n",
    "\n",
    "    start_response(status, headers)\n",
    "    return [body]\n",
    "\n",
    "WSGIServer(('', 8000), application).serve_forever()"
   ]
  },
  {
   "cell_type": "code",
   "execution_count": null,
   "metadata": {
    "collapsed": true
   },
   "outputs": [],
   "source": [
    "from gevent.pywsgi import WSGIServer\n",
    "\n",
    "def application(environ, start_response):\n",
    "    status = '200 OK'\n",
    "\n",
    "    headers = [\n",
    "        ('Content-Type', 'text/html')\n",
    "    ]\n",
    "\n",
    "    start_response(status, headers)\n",
    "    yield \"<p>Hello\"\n",
    "    yield \"World</p>\"\n",
    "\n",
    "WSGIServer(('', 8000), application).serve_forever()"
   ]
  },
  {
   "cell_type": "code",
   "execution_count": null,
   "metadata": {
    "collapsed": true
   },
   "outputs": [],
   "source": [
    "import gevent\n",
    "from gevent.queue import Queue, Empty\n",
    "from gevent.pywsgi import WSGIServer\n",
    "import simplejson as json\n",
    "\n",
    "data_source = Queue()\n",
    "\n",
    "def producer():\n",
    "    while True:\n",
    "        data_source.put_nowait('Hello World')\n",
    "        gevent.sleep(1)\n",
    "        \n",
    "def ajax_endpoint(environ, start_response):\n",
    "    status = '200 OK'\n",
    "    headers = [\n",
    "        ('Content-Type', 'application/json')\n",
    "    ]\n",
    "\n",
    "    start_response(status, headers)\n",
    "    \n",
    "    while True:\n",
    "        try:\n",
    "            datum = data_source.get(timeout=5)\n",
    "            yield json.dumps(datum) + '\\n'\n",
    "        except Empty:\n",
    "            pass\n",
    "        \n",
    "gevent.spawn(producer)\n",
    "\n",
    "WSGIServer(('', 8000), ajax_endpoint).serve_forever()"
   ]
  },
  {
   "cell_type": "code",
   "execution_count": null,
   "metadata": {
    "collapsed": false
   },
   "outputs": [],
   "source": [
    "# Websockets\n",
    "import json\n",
    "import random\n",
    "\n",
    "from gevent import pywsgi, sleep\n",
    "from geventwebsocket.handler import WebSocketHandler\n",
    "\n",
    "class WebSocketApp(object):\n",
    "    '''Send random data to the websocket'''\n",
    "    \n",
    "    def __call__(self, environ, start_response):\n",
    "        ws = environ['wsgi.websocket']\n",
    "        x = 0\n",
    "        while True:\n",
    "            data = json.dumps({'x': x, 'y': random.randint(1, 5)})\n",
    "            ws.send(data)\n",
    "            x += 1\n",
    "            sleep(0.5)\n",
    "\n",
    "server = pywsgi.WSGIServer((\"\", 10000), WebSocketApp(),\n",
    "    handler_class=WebSocketHandler)\n",
    "server.serve_forever()"
   ]
  },
  {
   "cell_type": "markdown",
   "metadata": {},
   "source": [
    "HTML Page: \n",
    "```\n",
    "<html>\n",
    "    <head>\n",
    "        <title>Minimal websocket application</title>\n",
    "        <script type=\"text/javascript\" src=\"jquery.min.js\"></script>\n",
    "        <script type=\"text/javascript\">\n",
    "        $(function() {\n",
    "            // Open up a connection to our server\n",
    "            var ws = new WebSocket(\"ws://localhost:10000/\");\n",
    "\n",
    "            // What do we do when we get a message?\n",
    "            ws.onmessage = function(evt) {\n",
    "                $(\"#placeholder\").append('<p>' + evt.data + '</p>')\n",
    "            }\n",
    "            // Just update our conn_status field with the connection status\n",
    "            ws.onopen = function(evt) {\n",
    "                $('#conn_status').html('<b>Connected</b>');\n",
    "            }\n",
    "            ws.onerror = function(evt) {\n",
    "                $('#conn_status').html('<b>Error</b>');\n",
    "            }\n",
    "            ws.onclose = function(evt) {\n",
    "                $('#conn_status').html('<b>Closed</b>');\n",
    "            }\n",
    "        });\n",
    "    </script>\n",
    "    </head>\n",
    "    <body>\n",
    "        <h1>WebSocket Example</h1>\n",
    "        <div id=\"conn_status\">Not Connected</div>\n",
    "        <div id=\"placeholder\" style=\"width:600px;height:300px;\"></div>\n",
    "    </body>\n",
    "</html>\n",
    "```"
   ]
  },
  {
   "cell_type": "code",
   "execution_count": null,
   "metadata": {
    "collapsed": true
   },
   "outputs": [],
   "source": [
    "# Micro gevent chatroom.\n",
    "# ----------------------\n",
    "\n",
    "from flask import Flask, render_template, request\n",
    "\n",
    "from gevent import queue\n",
    "from gevent.pywsgi import WSGIServer\n",
    "\n",
    "import simplejson as json\n",
    "\n",
    "app = Flask(__name__)\n",
    "app.debug = True\n",
    "\n",
    "rooms = {\n",
    "    'topic1': Room(),\n",
    "    'topic2': Room(),\n",
    "}\n",
    "\n",
    "users = {}\n",
    "\n",
    "class Room(object):\n",
    "\n",
    "    def __init__(self):\n",
    "        self.users = set()\n",
    "        self.messages = []\n",
    "\n",
    "    def backlog(self, size=25):\n",
    "        return self.messages[-size:]\n",
    "\n",
    "    def subscribe(self, user):\n",
    "        self.users.add(user)\n",
    "\n",
    "    def add(self, message):\n",
    "        for user in self.users:\n",
    "            print(user)\n",
    "            user.queue.put_nowait(message)\n",
    "        self.messages.append(message)\n",
    "\n",
    "class User(object):\n",
    "\n",
    "    def __init__(self):\n",
    "        self.queue = queue.Queue()\n",
    "\n",
    "@app.route('/')\n",
    "def choose_name():\n",
    "    return render_template('choose.html')\n",
    "\n",
    "@app.route('/<uid>')\n",
    "def main(uid):\n",
    "    return render_template('main.html',\n",
    "        uid=uid,\n",
    "        rooms=rooms.keys()\n",
    "    )\n",
    "\n",
    "@app.route('/<room>/<uid>')\n",
    "def join(room, uid):\n",
    "    user = users.get(uid, None)\n",
    "\n",
    "    if not user:\n",
    "        users[uid] = user = User()\n",
    "\n",
    "    active_room = rooms[room]\n",
    "    active_room.subscribe(user)\n",
    "    print('subscribe %s %s' % (active_room, user))\n",
    "\n",
    "    messages = active_room.backlog()\n",
    "\n",
    "    return render_template('room.html',\n",
    "        room=room, uid=uid, messages=messages)\n",
    "\n",
    "@app.route(\"/put/<room>/<uid>\", methods=[\"POST\"])\n",
    "def put(room, uid):\n",
    "    user = users[uid]\n",
    "    room = rooms[room]\n",
    "\n",
    "    message = request.form['message']\n",
    "    room.add(':'.join([uid, message]))\n",
    "\n",
    "    return ''\n",
    "\n",
    "@app.route(\"/poll/<uid>\", methods=[\"POST\"])\n",
    "def poll(uid):\n",
    "    try:\n",
    "        msg = users[uid].queue.get(timeout=10)\n",
    "    except queue.Empty:\n",
    "        msg = []\n",
    "    return json.dumps(msg)\n",
    "\n",
    "if __name__ == \"__main__\":\n",
    "    http = WSGIServer(('', 5000), app)\n",
    "    http.serve_forever()"
   ]
  }
 ],
 "metadata": {
  "kernelspec": {
   "display_name": "Python 3",
   "language": "python",
   "name": "python3"
  },
  "language_info": {
   "codemirror_mode": {
    "name": "ipython",
    "version": 3
   },
   "file_extension": ".py",
   "mimetype": "text/x-python",
   "name": "python",
   "nbconvert_exporter": "python",
   "pygments_lexer": "ipython3",
   "version": "3.6.0"
  }
 },
 "nbformat": 4,
 "nbformat_minor": 2
}
