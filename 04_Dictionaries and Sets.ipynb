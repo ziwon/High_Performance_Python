{
 "cells": [
  {
   "cell_type": "code",
   "execution_count": 1,
   "metadata": {
    "collapsed": false
   },
   "outputs": [
    {
     "name": "stdout",
     "output_type": "stream",
     "text": [
      "John Doe's phone number is 555-555-5555\n"
     ]
    }
   ],
   "source": [
    "# phone book lookup with a list: O(log n)\n",
    "def find_phonenumber(phonebook, name):\n",
    "    for n, p in phonebook:\n",
    "        if n == name:\n",
    "            return p\n",
    "    return None\n",
    "\n",
    "phonebook = [\n",
    "    (\"John Doe\", \"555-555-5555\"),\n",
    "    (\"Albert Einstein\", \"555-777-7777\"),\n",
    "]\n",
    "\n",
    "print (\"John Doe's phone number is\", find_phonenumber(phonebook, \"John Doe\"))"
   ]
  },
  {
   "cell_type": "code",
   "execution_count": 2,
   "metadata": {
    "collapsed": false
   },
   "outputs": [
    {
     "name": "stdout",
     "output_type": "stream",
     "text": [
      "John Doe's phone number is 555-555-5555\n"
     ]
    }
   ],
   "source": [
    "# with a dctionary: O(1)\n",
    "phonebook = {\n",
    "    \"John Doe\": \"555-555-5555\",\n",
    "    \"Albert Einstein\" : \"212-555-5555\",\n",
    "}\n",
    "\n",
    "print (\"John Doe's phone number is\", phonebook[\"John Doe\"])"
   ]
  },
  {
   "cell_type": "code",
   "execution_count": 3,
   "metadata": {
    "collapsed": false
   },
   "outputs": [
    {
     "name": "stdout",
     "output_type": "stream",
     "text": [
      "Number of unique names from set method: 3\n",
      "Number of unique names from list method: 3\n"
     ]
    }
   ],
   "source": [
    "# finding unique names with list and sets\n",
    "def list_unique_names(phonebook):\n",
    "    unique_names = []\n",
    "    for name, phonenumber in phonebook:\n",
    "        first_name, last_name = name.split(\" \", 1)\n",
    "        for unique in unique_names:\n",
    "            if unique == first_name:\n",
    "                break;\n",
    "        else:\n",
    "            unique_names.append(first_name)\n",
    "    return len(unique_names)\n",
    "\n",
    "def set_unique_names(phonebook):\n",
    "    unique_names = set()\n",
    "    for name, phonenumber in phonebook:\n",
    "        first_name, last_name = name.split(\" \", 1)\n",
    "        unique_names.add(first_name)\n",
    "    return len(unique_names)\n",
    "\n",
    "phonebook = [\n",
    "    (\"John Doe\", \"555-555-5555\"),\n",
    "    (\"Albert Einstein\", \"212-555-5555\"),\n",
    "    (\"John Murphey\", \"202-555-5555\"),\n",
    "    (\"Albert Rutherford\", \"647-555-5555\"),\n",
    "    (\"Elaine Bodian\", \"301-555-5555\"),\n",
    "]\n",
    "\n",
    "print (\"Number of unique names from set method:\", set_unique_names(phonebook))\n",
    "print (\"Number of unique names from list method:\", list_unique_names(phonebook))"
   ]
  },
  {
   "cell_type": "code",
   "execution_count": 4,
   "metadata": {
    "collapsed": false
   },
   "outputs": [
    {
     "name": "stdout",
     "output_type": "stream",
     "text": [
      "1000000 loops, best of 3: 1.94 µs per loop\n",
      "1000000 loops, best of 3: 1.9 µs per loop\n"
     ]
    }
   ],
   "source": [
    "import random\n",
    "import string\n",
    "\n",
    "def random_name():\n",
    "    first_name = \"\".join(random.sample(string.ascii_letters, 8))\n",
    "    last_name = \"\".join(random.sample(string.ascii_letters, 8))\n",
    "    return \"{} {}\".format(first_name, last_name)\n",
    "\n",
    "large_phonebook = [\n",
    "    (random_name(), \"555-555-5555\")\n",
    "    for i in range(10000)\n",
    "]\n",
    "\n",
    "%timeit list_unique_names(phonebook)\n",
    "%timeit set_unique_names(phonebook)"
   ]
  },
  {
   "cell_type": "markdown",
   "metadata": {},
   "source": [
    "### Inserting and Retrieving\n",
    "- For a bucket at allocated 8 bocks of memory and the hash value is 28975\n",
    "  , the the value of index is 28975 & 0b111 = 7\n",
    "- For the used bucket\n",
    " - retrieving: if the value of the bucket is equal to the value to insert\n",
    " - finding a new index: if the values don't match\n",
    "- Probing\n",
    " - Adds a contribution from the higher-order bits of the original hash\n",
    " - The last 3 bits of the hash for the initial index through mask = 0b111 = bin(8-1)\n",
    "- Load factor\n",
    " - How well distributed the data is throughout the hash table and is related to the entropy of the hash function."
   ]
  },
  {
   "cell_type": "code",
   "execution_count": 5,
   "metadata": {
    "collapsed": true
   },
   "outputs": [],
   "source": [
    "# dictionary lookup sequence; CPython uses an unsigned integer actually.\n",
    "# linear probing, simply yielding i = (5 * i + 1) & mask\n",
    "#  - deals with the last several bytes of the hash and disregards the rest\n",
    "#  - therefore, two items gives the same last three binary digits.\n",
    "#  - perturbed scheme resolve that problem\n",
    "def index_sequence(key, mask=0b111, PERTURB_SHIFT=5):\n",
    "    perturb = hash(key)\n",
    "    i = perturb & mask\n",
    "    yield i\n",
    "    while True:\n",
    "        i = ((i << 2) + i + perturb + 1)\n",
    "        perturb >>= PERTURB_SHIFT\n",
    "        yield i & mask"
   ]
  },
  {
   "cell_type": "code",
   "execution_count": 6,
   "metadata": {
    "collapsed": false
   },
   "outputs": [
    {
     "name": "stdout",
     "output_type": "stream",
     "text": [
      "{'Rome': 4, 'San Francisco': 3, 'Barcelona': 2, 'New York': 5}\n"
     ]
    }
   ],
   "source": [
    "# custom hashing function\n",
    "class City(str):\n",
    "    def __hash__(self):\n",
    "        return ord(self[0])\n",
    "    \n",
    "data = {\n",
    "    City(\"Rome\"): 4,\n",
    "    City(\"San Francisco\"): 3,\n",
    "    City(\"New York\"): 5,\n",
    "    City(\"Barcelona\"): 2,\n",
    "}\n",
    "\n",
    "print (data)"
   ]
  },
  {
   "cell_type": "code",
   "execution_count": 7,
   "metadata": {
    "collapsed": false
   },
   "outputs": [
    {
     "data": {
      "text/plain": [
       "{<__main__.Point at 0x7fc73061beb8>, <__main__.Point at 0x7fc73061bf60>}"
      ]
     },
     "execution_count": 7,
     "metadata": {},
     "output_type": "execute_result"
    }
   ],
   "source": [
    "class Point(object):\n",
    "    def __init__(self, x, y):\n",
    "        self.x, self.y = x, y\n",
    "        \n",
    "p1 = Point(1, 1)\n",
    "p2 = Point(1, 1)\n",
    "set([p1, p2])"
   ]
  },
  {
   "cell_type": "code",
   "execution_count": 8,
   "metadata": {
    "collapsed": false
   },
   "outputs": [
    {
     "data": {
      "text/plain": [
       "False"
      ]
     },
     "execution_count": 8,
     "metadata": {},
     "output_type": "execute_result"
    }
   ],
   "source": [
    "Point(1, 1) in set([p1, p2])"
   ]
  },
  {
   "cell_type": "code",
   "execution_count": 9,
   "metadata": {
    "collapsed": false
   },
   "outputs": [
    {
     "data": {
      "text/plain": [
       "{<__main__.Point at 0x7fc73068fbe0>}"
      ]
     },
     "execution_count": 9,
     "metadata": {},
     "output_type": "execute_result"
    }
   ],
   "source": [
    "class Point(object):\n",
    "    def __init__(self, x, y):\n",
    "        self.x, self.y = x, y\n",
    "    \n",
    "    def __hash__(self):\n",
    "        return hash((self.x, self.y))\n",
    "    \n",
    "    def __eq__(self, other):\n",
    "        return self.x == other.x and self.y == other.y\n",
    "    \n",
    "p1 = Point(1, 1)\n",
    "p2 = Point(1, 1)\n",
    "set([p1, p2])"
   ]
  },
  {
   "cell_type": "code",
   "execution_count": 10,
   "metadata": {
    "collapsed": false
   },
   "outputs": [
    {
     "data": {
      "text/plain": [
       "True"
      ]
     },
     "execution_count": 10,
     "metadata": {},
     "output_type": "execute_result"
    }
   ],
   "source": [
    "Point(1, 1) in set([p1, p2])"
   ]
  },
  {
   "cell_type": "markdown",
   "metadata": {},
   "source": [
    "### collision\n",
    "- the performance of lookups in the dictionary is O(n) when all keys in a dictionary collide, thus the same as a list.\n",
    "- in a hash table of size 32768, the last 15 bits of hash to create an index is beging used. (bin(32658-1) = 0b111111111111111)\n"
   ]
  },
  {
   "cell_type": "code",
   "execution_count": 11,
   "metadata": {
    "collapsed": false
   },
   "outputs": [
    {
     "name": "stdout",
     "output_type": "stream",
     "text": [
      "{'Dh': 'tMLNwVQq hgAxsTEM', 'Ju': 'diXxlkSH TdFnaiNr', 'CS': 'zOuTiWKc YLqzwvit', 'hw': 'EzFqBXrI fSjArgaW', 'cA': 'whrgQeqb yYmIAack', 'cP': 'hqbxEscW eYnUHrzO', 'Lt': 'rJgpzHuk EZdJUQhK', 'Bc': 'tnujMqZN XayRxnpT', 'Af': 'zJvxDZTu GXNiHPTC', 'Zu': 'nztKHcSX MyKHwaOc', 'gU': 'pPdCZtjo LkaAVIhS', 'RE': 'DFgVWUyp VfdzLbhj', 'ed': 'HJxqAZtW vEBDFGgm', 'uf': 'RWqUStQu cbInFLuo', 'Hd': 'sVgMjuXI pytaWDBR', 'Ys': 'VXGqEUZo rkDcolvG', 'xJ': 'JaCEkdoA aZIWtVfj', 'Lx': 'TzwfolsU EKABsdpm', 'HP': 'nAdyhJcI wCycIlAE', 'vs': 'KFkNWJij GhzibYRC', 'np': 'AxRgkrGi lioRTdDk', 'Rc': 'yjEAvmzJ xOyWLckq', 'yM': 'VCcNWieR CzlwLJyX', 'RD': 'WSRaPZid UDLRfVWa', 'Tj': 'DbiHPvpG yFczajHZ', 'lI': 'boBwZXAa JsnktTIU', 'cO': 'MheRBmGS HIpBFYUW', 'rN': 'iQkCLqdI eaGJYSbK', 'WZ': 'sIfnKpmh BptuSvJH', 'bt': 'JovMGNYO EwoYfqrA', 'UM': 'KEegyfFq huzVynUY', 'Ct': 'dSVExlXO QKPgUmkx', 'ay': 'OYNPbCdh kCnvMXJz', 'VG': 'xUarzSCw YKDGNsWO', 'QT': 'uOdwpRPj IFiXWOYa', 'Ic': 'eKEZUTYs nMNAbwke', 'rL': 'OdGQkEPb zdUGXOgl', 'cL': 'hEzKOcjQ dxmYukAX', 'UT': 'zsKBPwrF bgpHXomW', 'rK': 'lhtQXJYw JvHTIWkm', 'fZ': 'YIEblPOD bAkvgWZj', 'sy': 'HANehzgt iaEncTeX', 'Sa': 'HIDBNoJV qLuGrFlk', 'uR': 'IsDxfoBH VBuUQcKX', 'Wr': 'bsEYiqpe TLlAgdje', 'hx': 'CXBljZDq CWkrSBJc', 'vZ': 'kuNCYUTi TKzYJDci', 'VV': 'STPeIomb vbrTYymN', 'Jo': 'kLtZgeYm dmqlavfx', 'mq': 'PaHtZvSO mKEIDrcM', 'iY': 'FkUeznqx wEzoCgqp', 'Sj': 'PJxkgldm dwzBYLnk', 'za': 'teLXIMZR KbBioXyJ', 'cl': 'AQsjdiSL rFpmzDeq', 'Fo': 'sawgkzHC gErvKUFo', 'Yl': 'acCXeLMG VQNEWtHy', 'qw': 'HYkigWvo yfJOHask', 'PO': 'eVWTPmEz rKRUiWsE', 'CE': 'YUEmiWBC VNlfmkHJ', 'MO': 'tySCAkzn cqvDwtUA', 'jJ': 'wRdLylxk uBhZxmrV', 'yu': 'hqPVKzOi DFGufnRS', 'YF': 'HcoInzFX xVKogbiL', 'IJ': 'VnNOxirD cDNYGsuL', 'LR': 'BTMPAgJl BaqseKyZ', 'Cm': 'FOLleoMZ dXYIHPCD', 'jU': 'AyqVzagw BElctnCS', 'RY': 'KlsZiNBQ aoQljSXh', 'mO': 'mEWgFjlu aYEGelfA', 'Rz': 'ZzENLgFD jZVYOCLn', 'nv': 'PyLWXEjT WqBlwTYp', 'OO': 'fgGiXpZE FgcHQDva', 'HZ': 'NZQTIkRs DJaAiuqC', 'LD': 'wfXVOoki rUNwIVsi', 'TA': 'pMxkcJOW XvtcgHiZ', 'YA': 'qrhmMYvj vcBSlwqg', 'NS': 'kiAGnHVX GEtUDHIf', 'ja': 'nsOEDYZi SpWJUklG', 'jH': 'cvoVaCJb YlsETWCi', 'sO': 'uSnQGoNw grnVTxPk', 'ti': 'KLxPFWRa ZbrpqSjT', 'gM': 'CUgFJIyq qvBilWhS', 'uj': 'FxhrcWZb DXAZVgFy', 'nD': 'OqivpusW oeFnZLrN', 'QC': 'FoDpIKLm xYWctXIe', 'Wy': 'qMQstUyV nYBsZtLK', 'HE': 'gTJcLbpO OLmEfNUw', 'tx': 'EJNVepmR mhslyZLF', 'nh': 'JQAXhSZz ijXuJcqt', 'rW': 'PGqTgUji kDfVuLto', 'SZ': 'pPZQioez qxLUeaNC', 'KU': 'YhiQjNrJ BEbAQusn', 'AN': 'fOoSdrNu NJekSIbg', 'js': 'ZEtjuRqb uWpVLZcl', 'qk': 'fDMZsYnt acxPERlV', 'pa': 'dpgsHoCT masbSkNh', 'wO': 'lLGbanrV WlgsvqpB', 'fO': 'ADlZEFVm VgQdtqXT', 'KA': 'vZUYGrCh qABUIcJr', 'Bx': 'eGRxzZDo WmkOjYJM', 'Ob': 'erzISdfO YytpMPbh', 'cs': 'ujLToeai uZNqrYbo', 'xz': 'nZrBfQAd hQagvwRZ', 'NC': 'aEeRYZXn hbePqQSx', 'Ef': 'xYqPcsiX ukgbFwJh', 'TR': 'tWDvZgsY CLPcWSBu', 'Lg': 'LBqiAYjy ZDXJFzlB', 'aF': 'eULhOEYW LEcgmpdz', 'pg': 'QWDALvmU RMZkfabl', 'Ec': 'cbkepENV ZuBvaIJQ', 'on': 'TcZjMbwG EMmURHKl', 'aL': 'zkOfxWRt tTnDqYdm', 'FI': 'HrvKBiAy iChfJPQZ', 'sU': 'VZYHwhrA AHFfoyqM', 'Il': 'sWAwHtQL AzKYopFt', 'oz': 'ySEMrRuC SYNcJhFd', 'pi': 'dAICQRey wKtaDUPu', 'yH': 'HfOLCbuM TvmPFlhu', 'kQ': 'tdfUJZvn sJmLlTtv', 'Ux': 'eYIgBmAG unyKiHZI', 'jI': 'AQlyvTai SdGgqIbh', 'tc': 'bQOfkVRK LYfgUixm', 'fT': 'TasFQZoU rFIyHJWp', 'lZ': 'xYlBoqHW JPKvlOHW', 'cJ': 'WLJfEFBA nwEVFSJP', 'mP': 'NGaTgqfo TafXNgOj', 'Zi': 'RSdVEsYj VguGynTt', 'yc': 'Garcefmz FgpNIeky', 'vX': 'yMVzBSAT GfgCMJyp', 'qP': 'gHhLXOWl acMNebqp', 'Eu': 'PfuKEFzX zkupeVFs', 'Za': 'YtxaeNmM GPaVbRFN', 'HB': 'aNXPTIHr IyeFJcTu', 'ln': 'DyFILXCZ JTjVFYCA', 'we': 'iEGBIQuw TyAlunwM', 'ZK': 'UgpGhXmS MxSlgzXN', 'WM': 'ANwbjYTQ tVphiTfE', 'Ok': 'cRxwjMmO QUjbTrGk', 'cj': 'nLsIkdXm hIAbqJaY', 'CO': 'UFjAlVio ZGAyImjK', 'RI': 'AqVLjkrn lPNLehXB', 'QI': 'JGmYOMtN isloGvYa', 'zP': 'BOzTxJaq pmSqLgtX', 'zr': 'RQjqLteE eVbBwQqa', 'oY': 'lmYgqChj SVfLnIwg', 'JU': 'NoMltRGh aqjmuCOt', 'XS': 'YpGJPNED CQmiMrxO', 'tJ': 'DUorLMvp JhilQpZq', 'HJ': 'wyPZJqdX bfsqpucy', 'rz': 'usDEAcUn ejpDNZJv', 'pK': 'hyNvTixa wHdBnOKu', 'Ca': 'elfnNgoX vwrcUWQH', 'Wv': 'sNwHvACy RFxHQfqs', 'nx': 'vqtzghOA XcTCfmes', 'qy': 'ZADpLiak VKGPNtvs', 'SK': 'LSMsvjxf fDYlAsMd', 'bX': 'ShmDpQUH kcRoqTGK', 'it': 'pnAKyqdR gbwmHAcM', 'jz': 'ClNQpWGs nUxYBeQq', 'Mv': 'yZrIanBd QiFXDZod', 'Yz': 'wyQMoufq yXxtiNsk', 'Bi': 'WMzufEDb XoVcHlaO', 'Tw': 'UbtDqfiX ceiPWsLC', 'bK': 'ABtYFzLj bJHwAQGm', 'cv': 'uJlOqhSc wvVAYMyT', 'tv': 'iQmWaNog JuHCkYaN', 'Nk': 'DtNnvVaQ VKPCuoyb', 'kA': 'sMBilftm biGIouEw', 'bG': 'wHgRmJpr vqOoZGCV', 'Ur': 'RhcHdYIt hDbqQPeg', 'yo': 'xpwSOiED OzxlDyjB', 'CT': 'aSLDoelW LKwyhOJY', 'tg': 'jSIxQNuJ XRGhLbeD', 'vQ': 'CXQEzRwk iKVJhldt', 'uT': 'lpBbrusw LFpvhmlo', 'Rr': 'wUWsNrEQ KkBUVspG', 'sl': 'ZdheKaBy wpfDLoOs', 'fo': 'HWbXzoZU oCnjGVaq', 'he': 'xSQPANWY TdmfkwAW', 'zQ': 'HFkPyGdN EYaSVQxN', 'Vr': 'hrlGPjnY LaryWRBw', 'nu': 'bzgPRoTQ JDeKYHda', 'Fv': 'LUnspaFV SKqzuRcI', 'Wn': 'wCFqvlBJ ToDNYfIZ', 'RH': 'fPAHKGvV MJAmxXnN', 'Lv': 'WrzRNsei pJzLNQIf', 'Rt': 'EVHgMXNW DgQUCAKc', 'fX': 'VSaeINFU BFpdsihE', 'ft': 'sWCjkepZ kLVRbHwr', 'aS': 'AYCbhSmL lSVRCHbO', 'Qu': 'SDwiNIeQ yaZlvKPw', 'SN': 'yXUSIGAQ wZvOfozn', 'We': 'XVplWofr bVjopWQJ', 'Mm': 'KSFnEchw IFijvKOl', 'DH': 'BVbWstmR eWlgrBbD', 'EF': 'rKNAWZlk oIduDRwq', 'jp': 'FgadrVWo eyKCgfsj', 'Yi': 'jnuLaIHd FQeOBASN', 'hp': 'xRMnosfj JWkgXtor', 'sV': 'NpsCIjQi zaowxZng', 'JP': 'GREaUIPW nBlxzgOI', 'mp': 'fIzxoqvH zmMwDLqI', 'iy': 'atkzqKSr yMwOYvls', 'Pc': 'UvJHLmDa vegloNdG', 'Ge': 'nrhvTgfk yMLOGiXr', 'bj': 'JBuIloQE ivSCxyoE', 'Ou': 'oFpytZTM QmbuhpKI', 'vj': 'atBKDEHM yWSHEijf', 'Cx': 'xsMHZCjQ HyjTQwdY', 'Uj': 'mhYdoAfU CXgENUfI', 'ai': 'iwxPYULV pyjGloDW', 'KX': 'uZSRKxIY ebJMTvfY', 'pm': 'dlHimhAo NIhamuBO', 'Ze': 'CiYFpUhL VpnMCOdQ', 'pd': 'eBmUsgMl jMZQlyAf', 'Jx': 'sRNEBAXz ejrmnCMK', 'ub': 'GLhrKMPp GwIWngcF', 'Tk': 'eMykHOZN cmKWkQvZ', 'OY': 'rzvxNtYK wtfYORTK', 'Kg': 'HlbuarIY kDvGFXxd', 'ns': 'iyRTtAVF DwgHhxkn', 'jQ': 'DmuLdGlg TuULBPCK', 'gH': 'uvjEUsmo ZcsQfwkK', 'KH': 'oDsMuRpt jXZTtzJM', 'CI': 'spajhRVO YIbKMjFw', 'mr': 'gfRNChSe zqIWrBeu', 'fL': 'IaoxPfhn BXxENKrU', 'az': 'rsIfaCSA DNlHwbCt', 'tz': 'VLazyphi iYkQJHMZ', 'qt': 'NRYBpHIm jqUWfpnA', 'NW': 'mqldoTvx yZzwBNMI', 'Zf': 'hLTyjYpa dDzUMiJP', 'Au': 'UQcxZvfi zONIEKbG', 'ow': 'LPIyWhqS bJryukna', 'HW': 'wbnpgWkz jbCEcQfK', 'MV': 'nxSdJcsu WsJkBCvQ', 'yq': 'cJtPNjye hzBvEJpx', 'OR': 'YgeTkKAb LOIoZcPF', 'qV': 'ZWCItikq HgrRMKSD', 'oW': 'bvwRkTBc EUcSZanf', 'Fi': 'ljNsexQw NRTodAMl', 'RB': 'IxXocHTa jYzlOQnH', 'Xi': 'jvywzSCV pcBtODgQ', 'ei': 'IMBHOiQv KwkfZrXA', 'ic': 'pXTskQZm kRhLysfi', 'Yo': 'AkmYPoWl zVoDuTFZ', 'Yh': 'QWDjThix gaxQrkzE', 'dE': 'oNxdnYwX xjFJbdNB', 'ng': 'hXwGpvOf wCBOstaT', 'Bg': 'pGsxCafO IBbhENik', 'UD': 'HwexqLNb yfSLpHlW', 'JA': 'fBZRHwYL UoQYpmie', 'Lj': 'ZRdyOvEz SMsXKNZd', 'wn': 'bEMSoXsf iZUKgDPa', 'wW': 'mswRjdQC tLUTszCK', 'rk': 'LhwyrDcZ ZfXHpLlD', 'jr': 'fQZbKFXW cbZnMfLY', 'QR': 'VRTFZkDI uKwgcfYi', 'GZ': 'ZGXTeKJd IZpVwEST', 'ZA': 'DrwRSvzY BhtipDrP', 'kE': 'odQeNMBu ZSOXcVPx', 'xS': 'zGYgTfyn FbtUkLoW', 'Xj': 'HCObGsWn zqYZfVmR', 'oK': 'SvLFXmUP rDzGMQnf', 'xO': 'ZINmcMuP YIepXfSd', 'lO': 'ZQYzHALW YvOITAgp', 'Oq': 'TMrJWpha eABXwLrP', 'Nh': 'XtdypRje QqjNmdwF', 'Us': 'yoZKrsHx RdhiZYvO', 'zz': 'UGRlAyJv GSesqYkB', 'cn': 'KHZQYTAg nFZxaSKu', 'YU': 'rXoDSxnN bHYycFNU', 'eu': 'VetKnUgc SiaTVRqJ', 'lA': 'ayZQALis SIaPTcDu', 'XX': 'uFnjDSGA HuGpAXYJ', 'Lw': 'mrkjLOAu yteqFThL', 'sN': 'DvlkGciT ZCAONsRL', 'rX': 'yVtPGBSd tNTHcygs', 'Gf': 'PNCDWjJE odOrzkYD', 'Yu': 'GzdCnWPl ECNaWunR', 'iD': 'TtOQAJfB JVuKkyUR', 'QP': 'OlZXIYqk lzGHJbwC', 'Hs': 'hRIDuPlq TOkKoaev', 'oH': 'SPRgEGVI PWJrhYzo', 'Rl': 'CXsSQkre zYQDPnmd', 'im': 'ekAKaLlM sgmdZIFB', 'Dw': 'tdAJoQug jbIGxdOS', 'sZ': 'rCdgRXEY PdGauCOA', 'Qq': 'liotUdhw vWkeUGwT', 'qI': 'ShqTNuGY HeJDPUlA', 'um': 'stYgbRNk sbZlSBHc', 'Es': 'yDpLAVPi FKkPRayf', 'Iy': 'AYyiHVXm UoRXOGvi', 'Ek': 'nqNyxWOp xFWozCBR', 'Ja': 'EyldwjZo FoVpcAbT', 'kl': 'MgZajmFh luSRaPgp', 'Hc': 'UqyoxmiN noZzhTwP', 'Tr': 'YMbfnqvG KECINPoB', 'YE': 'sNgvcmaz UhqifgRW', 'Ak': 'hKXmOINq wVxLhicm', 'dq': 'QLOnjCxe GpLuTxgz', 'px': 'PMVGUfKs WGwSyVOC', 'WF': 'IuKJYZCW gpsLDNEz', 'pn': 'ifKwUqEC xiJqAEIf', 'hk': 'xNXZJEnO MnRqHIFB', 'Ww': 'ePNVRyLv zBSICmDy', 'MZ': 'xnqvamcF WYQpvlGe', 'Oy': 'clwdHzkM QJDuOcSW', 'QH': 'bDXhecoV BFpEuHDZ', 'qC': 'GpQxFIwX CcpDWZwz', 'MR': 'dULJByZz XqzAaFBb', 'Hm': 'zAhruKHo XQvLTZxk', 'VO': 'zbPStZYO wiqbKyoX', 'DO': 'xabBoQSv KAZulEcb', 'Gx': 'gWvKTijr fZIEJbvO', 'Xu': 'hnRbfCTj zfDuZVEr', 'JW': 'ahkFmpnV eSxVzYUi', 'pF': 'zPGTuFJw YxrbhBmd', 'SX': 'WzSkGint EgvRsHhP', 'ws': 'pXVFndJi KIdJsink', 'YC': 'uSkVTrBg gHmSZiFY', 'mv': 'FeKcjAaR BcVmYMdK', 'cR': 'kxulEDyV CjkqNBVO', 'YS': 'BCEzPfYl WFILisUM', 'SM': 'oMIuriRA OrHLohqB', 'zW': 'QOMXftKG JxDAizYl', 'yt': 'OAPjRUhs GtURFQiL', 'zh': 'RBSflAce DctZjEBP', 'VL': 'NTiKZhWa AZRdvifF', 'iu': 'EWTsHKPN afnYbswx', 'ar': 'TmrEUzyK eIpEcwKP', 'Zt': 'isoHkQVc dKIYnbUt', 'DL': 'mWQupCVt WKoqTEyO', 'DV': 'JxBfpzQI iCVQNJEX', 'TY': 'OBuEjdtk dEjlfVKF', 'IR': 'tNufPbUx hQmcYRSM', 'll': 'NxOGaJrB ortuKsMm', 'aX': 'VTfnEoCY eKXbHIdJ', 'Yf': 'epcUoilX lEqfJxhA', 'iz': 'PdMhijLq RaLjxrSz', 'wd': 'xFKZYklm GqmSkFVR', 'oP': 'UmpZvqCu yAotGmea', 'eE': 'ZfmCwGep QDqnJzRs', 'nj': 'LPKlDvpE lhBYjpPu', 'Fn': 'PemvbQkC mzFEODhu', 'Uz': 'IwoHjVgf XyaPBiEA', 'ph': 'QuNekrbF sLKupFkS', 'vl': 'atGjVqDM FnUwmOHe', 'fB': 'gvLHbjIJ qolVHMxI', 'Vv': 'jfFIeiBW fVosRaGI', 'kf': 'QYgpXSKq BfJjxRQM', 'pX': 'yGkhaWTe WLYJalvq', 'Hi': 'jmbVYkuI VxnWcjbi', 'SO': 'BrSCGTOk WiKVoImx', 'jA': 'KTtYxdhv NAVRLZHv', 'mR': 'lopmXNjG BnUMDivr', 'Ma': 'NAmMQfoy dounkcjB', 'EE': 'EiqmCtrY eubQfAtI', 'vv': 'LVyStYGA gYcTdInC', 'FV': 'OKlhWLZq rDZosjHh', 'de': 'RdzOicVW McsjzPFv', 'AK': 'CoIvSgkj WIHfQNtb', 'sz': 'RZQKHXGI QzNSyOCe', 'LQ': 'DqHxvuKn FKTJuDHU', 'AI': 'InaqSRgA lDsHWuyj', 'yk': 'DJfeHaRV mEsOfKQI', 'Jd': 'uBwjGdCk MvaOTyuG', 'LP': 'OHqQPCUb oDGjFYhM', 'cx': 'yfcBXWwe QmIawUGh', 'bL': 'kKywqWPb tecVhMgd', 'gZ': 'zoZCsExb YnuUEeXk', 'SV': 'gnsvtZlJ TajEFACo', 'KY': 'xXKhounp owrDRKlm', 'EU': 'ZsabyLeg fBCAFOwu', 'Qk': 'sEpDgXkK UbyqnVuD', 'ze': 'ywHrDnfj JhufQmZk', 'OE': 'RjUFkSdB LZHxBtKk', 'Ow': 'mdgBLOCS CupXfSDi', 'mF': 'wCAHOqZQ AhxBiEJF', 'Lu': 'ncbyjViC lEThBnyF', 'Qs': 'swxWcAVp OsLJmzMc', 'Zv': 'yqMrEtvz ElQdwAnz', 'Gy': 'nhHRlrbc QKvYXzVq', 'Yn': 'wQnARHbx fcyBvKZb', 'ez': 'vDCzwfJc tUxaXlfN', 'Lq': 'xTukaGWM swSlxPdz', 'Kf': 'rIZBptfk BrdHFnlu', 'Wh': 'jLWtCfIO HEFfwQpO', 'xm': 'JxHhLNOI Ngqxlzky', 'sF': 'eQnJakTt ljPUaKXQ', 'jN': 'CNKrkOSU TjCuBFmM', 'mk': 'RnAqayBV KXEMcgNY', 'oB': 'ZvRVFDdL hfZxRLSM', 'tF': 'RqAkUbdT TpvoIwJj', 'NH': 'MvHFeGmw AwHjeZSQ', 'zj': 'cZrJHIby dzLTwlGY', 'HF': 'AeXrDfGS XySUFfHI', 'DT': 'mGRpMiQd QORUiImv', 'rV': 'djxPEFaI zdhVtKZc', 'Mx': 'hfOYEqSZ nDzSpkbT', 'Ai': 'WBERdiKy poAFxuJa', 'ne': 'gJAQMoRS xpMsHEXk', 'If': 'tkEbPMwr GzqaRdyZ', 'Ue': 'wpFNykCL xlTIwaoe', 'ta': 'frzGybTq LBjvKwze', 'HX': 'XTszeIYr kpucIDOr', 'CJ': 'SYPWxzLo PnFTKlSB', 'jB': 'ZXdlBoSW ijKaweyB', 'XG': 'HDScYqKF chAFonEz', 'yi': 'wLnuoraE PkSeQEJr', 'pl': 'vMPlpSOk bgFTqpOW', 'NG': 'xHendqLt wfgvYBIQ', 'On': 'iDKhaBno MnKizSyV', 'Po': 'eaGHtEcP sGIZydBo', 'eq': 'tDZexRrm uKVJMLHx', 'uM': 'RGqKhOjA podbwhaG', 'GN': 'PcpMvZdb OaJUyemY', 'Xp': 'gPuCLbEt TIpKOaPR', 'Wk': 'WqayLCrn lBaZVqAH', 'nK': 'QSmgnNou PaopFOjz', 'JY': 'BfSxDqwy skIpqcyz', 'Cs': 'KEHSQbJU qIBTZmVL', 'pb': 'gAfUktVC NlOZbBAy', 'mY': 'jbPJitho pvsGrCAn', 'co': 'CSyorenb hCKqNjPQ', 'er': 'ADxhzpqw cZawhLxD', 'Tp': 'xIaPzeXb msjGQDqU', 'mc': 'ACNLwRfx xakULYIm', 'Uc': 'NspLUOEy cElKXxjk', 'Fy': 'izICNyfZ sPZuLVje', 'HA': 'uQYFxUfW iOTAnuVP', 'qA': 'KAJVQvyN WKesGLkw', 'KR': 'VjARqWpe HErsWcdU', 'qn': 'jEgiyuKX uIysoaLM', 'mJ': 'ceTOSpIk mXwKOGyd', 'hz': 'NvTtgfFE McgLdiAk', 'bT': 'bLGKBvrZ TgipIyYE', 'iJ': 'GQwYndsB CKiWPQzG', 'rG': 'rJFDywRO GSwsqZbP', 'bi': 'EqcYwVCg hZQfzkrO', 'ug': 'KlUIriyf XjxkSmzW', 'BZ': 'RhQtqWnH zNmpxwTo', 'xw': 'mtnKuxBS XZzKPjCD', 'PL': 'crZuoUMx duzQxnPO', 'iF': 'vDoBSHPA XLGeUHZo', 'TU': 'OcRlQyEs BjSDtmCv', 'xH': 'RQBAEhHq tJabvhXd', 'Ka': 'SnCULIeK qdhKrUOp', 'xR': 'FLkdhNpW gpfwlkey', 'fW': 'YTgxMNRF JEcfQIZR', 'mn': 'bXVhpfdt EUvBHdIK', 'ye': 'bhVHKXQR WOKFMfbS', 'aQ': 'GHNLQwyc idODPxSj', 'NV': 'MRnWAgOm YvPZUbqD', 'gW': 'cxHhKoLQ pzZYyjId', 'EM': 'NlyMkHrK JrsDvSoe', 'DR': 'AYCNrfMD RDVQzntA', 'hc': 'uCvgxMlS EreTUDKG', 'dp': 'NkRcPyIs uGTQKNJs', 'XB': 'XNAoJMPC syZADBkK', 'ab': 'INceujdq oPgjazZG', 'kp': 'fVvUspkX lzDwJdIZ', 'DF': 'JaNiSFYE srERYhaS', 'sp': 'MvUFHXTa eqbRImDG', 'pv': 'XPbsQTUM MhgeEOda', 'cZ': 'kVHBzgGL OxTLvKya', 'ZN': 'buixrERV hfIgpwHi', 'Zn': 'qbZWMrUS ftmnFkbM', 'lh': 'QjgVHqLb tuOApvxB', 'oN': 'uEiILgtC zfglDSXL', 'jP': 'jxmfgWDZ zdCiweZv', 'pe': 'CRsaPtkc gatXiZbc', 'Ji': 'EGbtSenQ cBxRYpUk', 'eX': 'oyVeaIkv IOqScsmP', 'sP': 'mAopnily VHMNvDkT', 'fn': 'QvkIRFdl wbzTSmfk', 'rS': 'AIdFSsXU qEWjOoNR', 'hO': 'IaYfBCoN uWTFkVem', 'hD': 'SzPeNDML RqgWMcAj', 'Vz': 'qHZUAbIc FiXfewsZ', 'KF': 'xOFVRvou rFOtliJz', 'hl': 'NZzsoPkl QgXhTjmp', 'RT': 'wYfMAHPn VJSkXAip', 'xl': 'WHmSUAdv BSqwLZTc', 'Qb': 'HEmXYptd bwMRgrQN', 'aC': 'tuhqcJTY eahKWfqp', 'xv': 'lKPZAIsW XqGmsNYM', 'vm': 'gYPjDxzX IYJpVXZO', 'qb': 'KNafjhWb BIiXneUc', 'To': 'wiekbEyn JRlHVajy', 'td': 'pKYoUQwu xYkfmEUp', 'sT': 'ynqfWUIj tdisbANF', 'ko': 'VoClDXxa FHjNdisp', 'FJ': 'JmhUMsSk nRjIxlaY', 'DQ': 'idlbTcmq fRseSDrH', 'Rn': 'ZtAhTJRV WnATvoap', 'mC': 'vxwDQVUJ RwjJSmBx', 'xA': 'OwogJiWr pDsbEeXP', 'Lm': 'oFtkLlJw JlwRzaoi', 'xK': 'ZBvMPJzj gTUhWFEz', 'bw': 'RwJFPCBu lXOnDpFS', 'So': 'MdthXGaj BhklsWQD', 'yB': 'jgIivumJ wXHtGnvE', 'oO': 'eutkaopr eOWRgaCf', 'yR': 'BXAUZNaL dZlOxYom', 'Xx': 'nLKzxcIq OnyFmKXf', 'xV': 'xZYAtDmH lFLESWOK', 'eQ': 'PpmXFCSz guzYHnjD', 'JR': 'WGvFMgrn oJscOqPY', 'iI': 'tqokTnyj SQndkYys', 'Fh': 'qwBrUZyQ DiOUQuZN', 'Em': 'UTcmHCeA JBLMZWsa', 'Rd': 'ELMoAIsx exIiTwcC', 'EA': 'whNtgCrp yxhjVmfO', 'Ta': 'sjqNoCtl eSgcLUfM', 'wb': 'PtJlLSrw JopiOePX', 'aH': 'awpxEbWT dAKMWTCg', 'gw': 'UjwTMtKh FqYyjwWP', 'MU': 'MbvguUwf OGambiAQ', 'jm': 'tvzknBDO dTepDmCE', 'tN': 'QXvgoRMx xMvHmhIb', 'Fg': 'iWBNMKey kvSgGtPE', 'GF': 'MEPAmoSq jPWUQgEb', 'zB': 'QZaTbOco nbyAsiTH', 'ae': 'PUBrTynO ISiqsACP', 'UG': 'vKFOsSwV BimbAWcs', 'VE': 'ICXHTNmE kKDrdYmf', 'zX': 'tObcMSsN MLEUOnWC', 'RW': 'HtSxMNvA NFHpEmtI', 'XH': 'ChigurJS LlpvfoxE', 'kO': 'LdyeqjvJ FVWGdfuJ', 'RJ': 'yICGWjSd tdgnBbkf', 'qz': 'ZeLTCFhr GuzjVKSf', 'nb': 'vlNbfJXY suVSmGiX', 'LL': 'JHhPUIKy luoLiEPj', 'Br': 'YjdhIbNS PbMDoKVh', 'HO': 'TGkMVaus nYrlfEsX', 'BW': 'NvxhIcqs ZOCtlozG', 'vN': 'TdycWQMZ KrCzeLsh', 'pV': 'TUJOFEgm EZKizxtp', 'Wp': 'cdmkxXng aMCErDAT', 'Yc': 'REUIGQgV loCcuMWT', 'gs': 'oGsqDYnL eDHWNGIa', 'sX': 'FrLIcjBU AjtJDrFC', 'jv': 'oYnrpuhD FVHMeIZJ', 'Xo': 'YfFJZoRl qOsutNnc', 'Ev': 'SnlXbYKr ZarxsHhL', 'gl': 'AWChxKQH VXCHarJq', 'yX': 'CIdjsFBh iWvtDOpa', 'KL': 'gzVeyLlW uEPoDeYk', 'Dd': 'KgRGxPJU juOYcMNk', 'PQ': 'mYVnJRjQ ypoOqSmJ', 'us': 'eKOuXJcD DblRiMjg', 'xB': 'jAmtJMdy SPwchIDL', 'Hp': 'SrPVxuAn xKbDuECA', 'Vl': 'jgMrZQqa FRGliHre', 'Un': 'jRWgibYU ZCWovHXk', 'Ts': 'IdStQqcP tvgiHeEL', 'Vm': 'oufzAWkn PQmqkcOh', 'Mc': 'bmeRAvNo UfkCdyKS', 'iT': 'qhBcSUKW DVOQfKoN', 'EN': 'TdCGnPhY uSkZwtFI', 'WG': 'ZTQXhJLz HLOgvlEV', 'bl': 'aNVfGIDM TSIxYLFq', 'Cc': 'VLcpFIPt WZAuJyBL', 'AQ': 'UuWmAlFj OtLIJjhQ', 'vz': 'IYqGZmzf TxQEsomj', 'iH': 'LYzIyXFP iJLpMUgy', 'EH': 'HmxtOAhq eSrbxFzo', 'NO': 'BfjbvLDc siYALGZI', 'jx': 'hcQDaTSe pBRnoACu', 'tY': 'xtDwKnve GDQmzkTE', 'Ry': 'VIrnvQJm UszgMmhc', 'kH': 'QokxRErs ptkjZwoB', 'uu': 'zDTSYpbG EILhSale', 'aN': 'VuLMrPiw ikyadRfC', 'wE': 'fRHGAqBe VSHFelXG', 'jE': 'sXkDUGBQ YCTXMIFP', 'VF': 'rhpFcGZO TIisqelk', 'Eq': 'aqJGyjMf PFEvSnuc', 'xY': 'IzilAtfM CNHMohPq', 'ZJ': 'lIUWSyOq OEKYFhJf', 'AB': 'ZhbDTBnX DSlmPUgo', 'mx': 'sbUtVQXZ InPjLuOY', 'au': 'JOSaBwnT jEQYZJMw', 'nn': 'yDXpYVjB YnpbzJBA', 'qh': 'HOCQUwSc tHShBLpb', 'zk': 'yjAcZspI omujerEz', 'tV': 'sZWpQeYw bDkopgmQ', 'kM': 'qgtjAwlI wxLzZvqF', 'MK': 'XpTVEUPj vZsohROI', 'lb': 'SmgyfQti MfvhIOLc', 'sW': 'xOXTkDma gsOGizKP', 'cw': 'ynAmjKRz BqUOYJLh', 'NP': 'tBHPycbo Ukwrglob', 'Io': 'DSZGvgaq pMOVyCHR', 'kD': 'gbhljfSi jAobsBWX', 'zS': 'ohzefYbH vSyxgAmf', 'uA': 'FqVPrtHc LIomJdYR', 'Bj': 'jLkHscyp xkVYgdtL', 'ZV': 'XPYdfeKu figdJMGS', 'nM': 'IWNhJfLw sMplNbGX', 'Aa': 'JYgwQylG tyTPngWN', 'CR': 'XzseiFgp JwyrpsPi', 'YD': 'ZtoYQfEG NgOIhsuV', 'ak': 'nFfTsqbP ibQyfjFs', 'NL': 'ZuEsDMdT qGzcRChl', 'Re': 'nlPkjxzN ijfOWTDt', 'mX': 'rpIFGLmC lPVenWLx', 'pS': 'ruwxZsSe MsYTurxW', 'Vx': 'MVtspPSU LTIDMOzW', 'Ya': 'pfksiCWG GDmcZTpF', 'xC': 'OkEPgdoy mKepnosw', 'SR': 'PQkmwqTy EGdHpMar', 'Qn': 'jpWFTOxS hYazewmW', 'Qa': 'AMhHzOlD ksrdfgWp', 'lc': 'tKvNjeEP LmKbHIqc', 'vK': 'UeTkQHXB cqnxuAEm', 'Dv': 'hkfJpxyL VJvQmkHh', 'oJ': 'MnEvRWFO EUbJFygO', 'Td': 'aNosEDvp POjSNtmJ', 'up': 'NclRDXUA DnNMIgho', 'AE': 'POBqyjna GOVcPewZ', 'ZZ': 'FauQxwYZ GpYboseV', 'Nv': 'anZBCRzu vEwlHgqA', 'lv': 'QpIBsWxH AhZtFrge', 'BN': 'oWeyKVbP XSfDQIEZ', 'BX': 'KlCOozUd iueQdNmP', 'xe': 'HXMAJrvB YrOkaqEZ', 'Sm': 'xlwhdCtR ONifeZKU', 'OF': 'LBXlrhuc lARegkdO', 'qH': 'eXhDtpog InGCfYlL', 'Tv': 'xwvtThSZ ZTnJHCDp', 'jY': 'OBydiPzg rJEnoRTS', 'Js': 'TLNEeajd oryAUIab', 'LH': 'kLFJNrcv EQrWmqRk', 'vx': 'CDBzZkxN DqQPAkiH', 'Kt': 'TIUWswrV mGyOzXpx', 'RS': 'mpjSTDBX dNiEkezu', 'gd': 'UcWqoiEy HGmaIYuy', 'fp': 'cZXehWNz ItqyeLTg', 'IB': 'LZaCEQoc fnmPtNgX', 'yW': 'RGtsNapI IHvqrVmA', 'lf': 'TQIgZxkj uVFIjczi', 'TQ': 'TlPzqXyA qESLGXcO', 'EI': 'kRgSZonf tGXDjgLB', 'ue': 'AZklgRho yFgAWOKa', 'Ku': 'nvQMcyWf YGLwOXhe', 'Hn': 'jEGFRzCK abjRFQMA', 'TH': 'RueVJCtP tLUSHWxb', 'wq': 'WyQEpUqa uTSBgYPU', 'xs': 'jWuRlthH PXFUGWsK', 'mh': 'OojpcLgW fRJpZsYK', 'nW': 'gamJpWdj sBAZzSnL', 'Vc': 'TnzqCeSN jziIMcDe', 'Sd': 'quKgTUyn ixuEaIhF', 'MS': 'gkRoJMar wuZRELfD', 'Vu': 'dRpFMUQD ShlvkaDX', 'qo': 'guNOfnrc GmEPAwqi', 'ju': 'TIdoANjG IblEMXAJ', 'Zp': 'RhJAKCow BMZeURLW', 'oZ': 'jpKecsMl eBLqudSo', 'HU': 'GqObWLuT ZjkPCJAU', 'hG': 'uedDYhJZ xRruGPWw', 'zc': 'MozjGAmc ucwOzHmF', 'FB': 'WtHwSdRQ FnIKYthy', 'cH': 'wFhQKZPH ASZgemVD', 'qp': 'hFJpuMYm odKOCjtv', 'Mk': 'pAUFKTRa cvtmlxZy', 'dX': 'MaKHfyAL CRLhMOYi', 'nT': 'cSqgVtdj MwEVapIP', 'WN': 'IoPgbmsc XVOeuAYH', 'Cn': 'XxEWpRqi JtArCamB', 'NQ': 'JlLTqpWS sDKbdAYR', 'me': 'FVqZKRfH hOybAKPi', 'hF': 'zZpSBuhI kKrFyMqN', 'lP': 'WmJynjAF fUbQEBSC', 'Db': 'ZyXKcbTw gQiYnwvC', 'fe': 'ZmigAefl wdrVOqey', 'dJ': 'cXQREIGL lRTUzrox', 'uY': 'hrcUnGEL LZFQqEaW', 'tt': 'jxolOVQX LEvglGqK', 'ym': 'ovYUtOMu LJfAabVC', 're': 'oaVRnPEq VEyJPKGU', 'gm': 'rAgpbOuH vAQHyFnx', 'oT': 'fBAZyONo vWUOZXqR', 'KK': 'oTwRIFVK asvQKSVB', 'ba': 'EUndiOcT EMIJQqUY', 'cy': 'gvOuHQWN AbTZQzti', 'Iq': 'KVeTAqom KiTICDYt', 'rZ': 'YhEKdDMZ LzmkJovj', 'Qg': 'vxdmVlrL vjotqnuI', 'Th': 'NBuiMreH KyRnrYLO', 'fH': 'JqKCcWmD WzqnOfpo', 'ID': 'vswUQSIX IAnDQxps', 'Ss': 'lsDyhaHZ KNZEFWxS', 'Ck': 'FDXJPNwW FxtRzckw', 'Ix': 'NjLOlyXY XNSJIOmZ', 'of': 'nrElBJdH dZtpPSTo', 'mz': 'itOYVGlA UWTZRjLw', 'QV': 'tEMJqNWh OmZEXdfu', 'BP': 'HSRigekn mHlwnzUV', 'vc': 'kRSZDCLj givbCwcE', 'dA': 'HChxbnVI zFWlISAD', 'pj': 'xMBvkJuC KNlwkEeh', 'OD': 'XYFheVyd vEqyMZuN', 'Id': 'dwXRMrAG iQfFxZNC', 'vp': 'idqLgYuH cQSbWBtf', 'tw': 'XFsOKtxV DbYkuGzy', 'kd': 'RfLTvBFI mlBusILq', 'ER': 'ZwWnRepy ipydstfb', 'iM': 'ZTowjcyR BAmanoks', 'DW': 'swpkRuel PCWMaDZJ', 'QZ': 'XKGRpbxu JBPGvjpf', 'ig': 'nCRybZQB NlzRibGn', 'uN': 'rtSxyhRY nkzKqiVR', 'Yp': 'hclUHbAG iZPgplKa', 'CG': 'MBPritWa hzfwqDZY', 'dO': 'NMOhSQFp zQwfFxpd', 'mH': 'BxVfSQuM FRrxmAJM', 'aW': 'NCfmJEUB tXVvbMGI', 'pA': 'NPQkuDeS bEQqNLsY', 'Ny': 'sSGxiYzu kjzyEeKT', 'cd': 'AjoqLQZC REhjFtHO', 'RU': 'aLNtCKIx HyqUkets', 'YB': 'fHcCgkzv StMemaLG', 'tC': 'vRstNZOT jvZgMymD', 'my': 'UcesIBpu zunbilTD', 'qq': 'cqNOMpwa BtiuRDSA', 'BU': 'WgLhtMEj JoZlLAif', 'Ie': 'DBUHcFex mHJgFMlG', 'wK': 'LdZPeQWc eiOlKEqC', 'Vp': 'SARvKGcQ nJFabgRH', 'Xv': 'anXtfZzx qaydwuzG', 'zT': 'AmrUMlWI RFbVIOnA', 'vD': 'PTOFXIsM MItSKbwU', 'HN': 'HONBQbuP CKseXvcS', 'xp': 'RQtCGVrp dyjaPpmx', 'pD': 'WCyIsarE ecDfwSUo', 'tq': 'dFAOlYKq eWLGYaJx', 'VD': 'AqiRaUCv aUJhoNBQ', 'XM': 'AQImnEqC nUXCaLcH', 'Ug': 'evCwRtDW iBGRQmXr', 'pf': 'QLwHhNuK tegcyfxC', 'Ot': 'XywZLSUH IesLzqlr', 'ux': 'MTFUojBC VoigrEOT', 'Rq': 'YRtPIZUD AnpZzPal', 'HG': 'CidsOpNH jhDYTAXV', 'LW': 'zXnNcUvi AvQMhCXI', 'km': 'CHiVATyD XlJUohuF', 'no': 'UcjIlCHM jIFaEknO', 'eo': 'wQFIjKoW cWSUDzlf', 'BR': 'pKgztlFD NuxXKTmH', 'yd': 'PlECRdtW lZOsDViL', 'vH': 'okmEYtfD sEMKwOdQ', 'Zd': 'fEOhArFL RixgLasX', 'Ar': 'mDJPpxNO ZXjdxBuh', 'gX': 'OGilnzcy CkusQrIn', 'so': 'SVIGZQfj guCVeNUE', 'bb': 'PuvTpYxo jzMaGNdl', 'ZP': 'SiHNZQjJ zPHWsUaF', 'dK': 'ZQOqxCLP mxkXPSsn', 'GL': 'ayzVWQwt qJizHRBm', 'Ne': 'sBjcHkKw qpivtTCE', 'Yy': 'UcgZdNpo MjiXnEgu', 'Nb': 'CdIBQjbx ugGClEjK', 'CU': 'IqALXEvn YxsMZPKi', 'li': 'BUZyGFCz eObaDTVt', 'lC': 'PNEgIUnT KPUQLeDl', 'Sb': 'VxcqtLAP HwkISPFm', 'GX': 'sOFtJpwX AqbdCruf', 'FH': 'qKAIcBUF DFThnfdW', 'GG': 'UZVBPYdl wnOebthP', 'JV': 'JPDflGIx uhKWdaCA', 'kn': 'qhUwGtny NGzDQTLr', 'kW': 'FVZkYRay lVYWpvzH', 'wy': 'mwkVjrlZ uERmToQs', 'JQ': 'qenkrGWv DulqmMhL', 'bu': 'yTSUhLqM tdWzaXuY', 'ox': 'PsqwFyao DsCnYkZd', 'oa': 'cyOLSfqI nCATSKyN', 'jX': 'AHbeafcd tGNTlnJw', 'Kh': 'vCGoxNMu yDgrwHkO', 'Bz': 'MpekJtcb tKLysWTX', 'Kb': 'VzfAIRQM FENIpiHO', 'QW': 'hOlRYJgs cLnKtWEv', 'Cw': 'JnTuPHQF FVPcdfib', 'ah': 'qhlxMBOI kyLRPagn', 'mS': 'eQKRkJLi PBHzsyoY', 'od': 'CGMfpzKV DyzxsSXH', 'WA': 'lgHEkXQC WvVBJFks', 'kT': 'rwXUzLcp TsxuANaJ', 'Fc': 'xkARSubq vzxhCYgL', 'oR': 'NHuwdRsQ utEwkNQn', 'wk': 'mXnCfAGr LiltpyKS', 'ol': 'BgcbvaIx sOTlbmRq', 'YT': 'DjWQHnIU WnJViwtu', 'Vt': 'igbyUfmB mKVhcoSd', 'ND': 'AGvDYeFK AQDYBfVG', 'po': 'dJcuqVaB tRNgCXbG', 'Mb': 'KYLSNfcP LvcsOZIn', 'Qz': 'tJGPQzcD elNzRCdE', 'dW': 'JaUeVjZw XTtJuZFl', 'OK': 'UnDCWZaH DlHfcmvw', 'Rk': 'zgHEGUoP zJmQNDWY', 'Rf': 'flUHCMku ZjPqEhYg', 'dg': 'KHeYhfby kTbXaypr', 'YH': 'hkKLdOlM ndTQCEoq', 'FZ': 'CjaRtBYc BuxCERTQ', 'JX': 'OxWfdemL wcsZGYou', 'KG': 'pOGkdrfA kHzVwLEZ', 'wH': 'KoaCxVrh GCZMuFyv', 'wM': 'uncbmTNB BTaReMDh', 'Os': 'kboLeHCc tCkyjwvI', 'FM': 'GpkUNWDv fedLSnzR', 'ir': 'uhSalfXN zCFlWBys', 'ex': 'pGyzVbXT erYCKHnt', 'FK': 'JvGDbuIX woshEevq', 'Im': 'nywXecAE QdoAyEtg', 'Vb': 'IDkYWcpQ sGYrCENf', 'xg': 'xKhPvtVu uOFUZWXI', 'Ol': 'MwzYQZkD pkoUbnYO', 'zi': 'gwhQutbj oHVPfuCd', 'eP': 'pOdLtrvg VWYIgmft', 'yE': 'bKASoQMV lOaeUhAo', 'ek': 'QHLXafiG ZPRXhwWe', 'pG': 'MKkyzYfr MnDywbtI', 'bN': 'CaEuVibK qNPfdiuB', 'Fb': 'OVtaFzjx qZbsxCPR', 'Qt': 'wdLgiKAS vWrGYkXn', 'Ih': 'wDYMPFSU GIRnZdgB', 'Fk': 'dXBxAzyW wZgebqWi', 'Dl': 'QXuUFfHN ZGvmwbqX', 'nz': 'hZKlzanF UwADVLOm', 'ZS': 'nZDsHGfz FcwlOjNi', 'fD': 'PZwTsbAD AVQFLOsY', 'LJ': 'kQTtswCL vSGVjkbl'}\n"
     ]
    }
   ],
   "source": [
    "# optimal two-letter hashing function\n",
    "def twoletter_hash(key):\n",
    "    offset = ord('a')\n",
    "    k1, k2 = key\n",
    "    return (ord(k2) - offset) + 26 * (ord(k1) - offset)\n",
    "\n",
    "def random_letter():\n",
    "    first = \"\".join(random.sample(string.ascii_letters, 1))\n",
    "    second = \"\".join(random.sample(string.ascii_letters, 1))\n",
    "    return \"{}{}\".format(first, second)\n",
    "\n",
    "data = dict((random_letter(), random_name()) for i in range(1000))\n",
    "print(data)"
   ]
  },
  {
   "cell_type": "code",
   "execution_count": null,
   "metadata": {
    "collapsed": false
   },
   "outputs": [],
   "source": [
    "# timing difference between good and bad hashing functions\n",
    "import string\n",
    "import timeit\n",
    "\n",
    "class BadHash(str):\n",
    "    def __hash__(self):\n",
    "        return 42\n",
    "    \n",
    "class GoodHash(str):\n",
    "    def __hash__(self):\n",
    "        \"\"\"\n",
    "        This is a slightly optimized version of twoletter_hash\n",
    "        \"\"\"\n",
    "        return ord(self[1]) + 26 * ord(self[0]) - 2619\n",
    "\n",
    "baddict = set()\n",
    "gooddict = set()\n",
    "\n",
    "for i in string.ascii_lowercase:\n",
    "    for j in string.ascii_lowercase:\n",
    "        key = i + j\n",
    "        baddict.add(BadHash(key))\n",
    "        gooddict.add(GoodHash(key))\n",
    "        \n",
    "badtime = timeit.repeat(\n",
    "    \"key in baddict\",\n",
    "    setup = \"from __main__ import baddict, BadHash; key = BadHash('zz')\",\n",
    "    repeat = 3,\n",
    "    number = 1000000,\n",
    ")\n",
    "\n",
    "goodtime = timeit.repeat(\n",
    "    \"key in gooddict\",\n",
    "    setup = \"from __main__ import gooddict, GoodHash; key = GoodHash('zz')\",\n",
    "    repeat = 3,\n",
    "    number = 1000000,\n",
    ")\n",
    "\n",
    "print (\"Min lookup time for baddict: \", min(badtime))\n",
    "print (\"Min lookup time for gooddict: \", min(goodtime))"
   ]
  },
  {
   "cell_type": "code",
   "execution_count": 12,
   "metadata": {
    "collapsed": true
   },
   "outputs": [],
   "source": [
    "# namespace lookup: locals() -> globals() -> __builtin__\n",
    "import dis\n",
    "import math\n",
    "from math import sin\n",
    "\n",
    "def test1(x):\n",
    "    return math.sin(x)\n",
    "    \n",
    "def test2(x):\n",
    "    return sin(x)\n",
    "\n",
    "def test3(x, sin=math.sin):\n",
    "    return sin(x)"
   ]
  },
  {
   "cell_type": "code",
   "execution_count": 13,
   "metadata": {
    "collapsed": false
   },
   "outputs": [
    {
     "name": "stdout",
     "output_type": "stream",
     "text": [
      "  7           0 LOAD_GLOBAL              0 (math)\n",
      "              3 LOAD_ATTR                1 (sin)\n",
      "              6 LOAD_FAST                0 (x)\n",
      "              9 CALL_FUNCTION            1 (1 positional, 0 keyword pair)\n",
      "             12 RETURN_VALUE\n"
     ]
    }
   ],
   "source": [
    "dis.dis(test1)"
   ]
  },
  {
   "cell_type": "code",
   "execution_count": 14,
   "metadata": {
    "collapsed": false
   },
   "outputs": [
    {
     "name": "stdout",
     "output_type": "stream",
     "text": [
      " 10           0 LOAD_GLOBAL              0 (sin)\n",
      "              3 LOAD_FAST                0 (x)\n",
      "              6 CALL_FUNCTION            1 (1 positional, 0 keyword pair)\n",
      "              9 RETURN_VALUE\n"
     ]
    }
   ],
   "source": [
    "dis.dis(test2)"
   ]
  },
  {
   "cell_type": "code",
   "execution_count": 15,
   "metadata": {
    "collapsed": false
   },
   "outputs": [
    {
     "name": "stdout",
     "output_type": "stream",
     "text": [
      " 13           0 LOAD_FAST                1 (sin)\n",
      "              3 LOAD_FAST                0 (x)\n",
      "              6 CALL_FUNCTION            1 (1 positional, 0 keyword pair)\n",
      "              9 RETURN_VALUE\n"
     ]
    }
   ],
   "source": [
    "dis.dis(test3)"
   ]
  },
  {
   "cell_type": "code",
   "execution_count": 16,
   "metadata": {
    "collapsed": true
   },
   "outputs": [],
   "source": [
    "# effects of slow namespace lookups in loops\n",
    "from math import sin\n",
    "\n",
    "def tight_loop_slow(iterations):\n",
    "    result = 0\n",
    "    for i in range(iterations):\n",
    "        result += sin(i)\n",
    "        \n",
    "def tight_loop_fast(iterations):\n",
    "    result = 0\n",
    "    local_sin = sin\n",
    "    for i in range(iterations):\n",
    "        result += local_sin(i)"
   ]
  },
  {
   "cell_type": "code",
   "execution_count": 17,
   "metadata": {
    "collapsed": false
   },
   "outputs": [
    {
     "name": "stdout",
     "output_type": "stream",
     "text": [
      "1 loop, best of 3: 1.6 s per loop\n",
      "1 loop, best of 3: 1.44 s per loop\n"
     ]
    }
   ],
   "source": [
    "%timeit tight_loop_slow(10000000)\n",
    "%timeit tight_loop_fast(10000000)"
   ]
  }
 ],
 "metadata": {
  "kernelspec": {
   "display_name": "Python 3",
   "language": "python",
   "name": "python3"
  },
  "language_info": {
   "codemirror_mode": {
    "name": "ipython",
    "version": 3
   },
   "file_extension": ".py",
   "mimetype": "text/x-python",
   "name": "python",
   "nbconvert_exporter": "python",
   "pygments_lexer": "ipython3",
   "version": "3.5.2"
  }
 },
 "nbformat": 4,
 "nbformat_minor": 0
}
