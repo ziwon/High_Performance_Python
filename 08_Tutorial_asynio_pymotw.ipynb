{
 "cells": [
  {
   "cell_type": "markdown",
   "metadata": {},
   "source": [
    "## [Asynchronous I/O, event loop, and concurrency tools](https://pymotw.com/3/asyncio/index.html)"
   ]
  },
  {
   "cell_type": "markdown",
   "metadata": {},
   "source": [
    "## Asynchronous Concurrency Concepts\n",
    "**other concurrency model**: rely on threading or process management of the language runtime or operating system to change context\n",
    "\n",
    "**asyncio**: explicitly handle context changes using eventloop and coroutine\n",
    "\n",
    "**eventloop** - a place to register code to be run in application.\n",
    "\n",
    "**coroutines** - as a mechanism for yielding control back to the event loop, these are special functions that give up control to their caller without losing their state (implented with generator in version older than Python 3.5)\n",
    "\n",
    "**Future** - a data sturucture representing the result of work that has not been completed yet.\n",
    "\n",
    "**Task** - a subclass of Future that knows how to wrap and manage the execution for a coroutine, can be scheduled with event loop."
   ]
  },
  {
   "cell_type": "markdown",
   "metadata": {},
   "source": [
    "## Cooperative Multitasking with Coroutines\n",
    "Coroutines \n",
    "- a language construct designed for concurrency.\n",
    "- creates a coroutine object when they called.\n",
    "- then caller can run it using coroutine's `send()` method.\n",
    "- while it is paused, their stats is manintaied\n",
    "- when awakened, coroutines resume where it left off the next tinme."
   ]
  },
  {
   "cell_type": "markdown",
   "metadata": {},
   "source": [
    "### Starting a Coroutine"
   ]
  },
  {
   "cell_type": "code",
   "execution_count": 1,
   "metadata": {
    "collapsed": false
   },
   "outputs": [
    {
     "name": "stdout",
     "output_type": "stream",
     "text": [
      "starting coroutine\n",
      "in coroutine\n",
      "closing event loop\n"
     ]
    }
   ],
   "source": [
    "# asyncio_coroutine.py\n",
    "import asyncio\n",
    "\n",
    "\n",
    "async def coroutine():\n",
    "    print('in coroutine')\n",
    "\n",
    "\n",
    "event_loop = asyncio.get_event_loop()\n",
    "try:\n",
    "    print('starting coroutine')\n",
    "    coro = coroutine()\n",
    "    event_loop.run_until_complete(coro)\n",
    "finally:\n",
    "    print('closing event loop')\n",
    "    # event_loop.close() - skipped in jupyter"
   ]
  },
  {
   "cell_type": "markdown",
   "metadata": {},
   "source": [
    "### Returning Values from Coroutines"
   ]
  },
  {
   "cell_type": "code",
   "execution_count": 2,
   "metadata": {
    "collapsed": false
   },
   "outputs": [
    {
     "name": "stdout",
     "output_type": "stream",
     "text": [
      "in coroutine\n",
      "it returned: 'result'\n"
     ]
    }
   ],
   "source": [
    "# asyncio_coroutine_return.py\n",
    "import asyncio\n",
    "\n",
    "\n",
    "async def coroutine():\n",
    "    print('in coroutine')\n",
    "    return 'result'\n",
    "\n",
    "\n",
    "event_loop = asyncio.get_event_loop()\n",
    "try:\n",
    "    return_value = event_loop.run_until_complete(\n",
    "        coroutine()\n",
    "    )\n",
    "    print('it returned: {!r}'.format(return_value))\n",
    "finally:\n",
    "    pass\n",
    "    # event_loop.close() - skipped in jupyter"
   ]
  },
  {
   "cell_type": "markdown",
   "metadata": {},
   "source": [
    "### Chaning Coroutines\n",
    "decompising a task into resuable parts."
   ]
  },
  {
   "cell_type": "code",
   "execution_count": 3,
   "metadata": {
    "collapsed": false
   },
   "outputs": [
    {
     "name": "stdout",
     "output_type": "stream",
     "text": [
      "in outer\n",
      "waiting for result1\n",
      "in phase1\n",
      "waiting for result2\n",
      "in phase2\n",
      "return value: ('result1', 'result2 derived from result1')\n"
     ]
    }
   ],
   "source": [
    "# asyncio_coroutine_chain.py\n",
    "import asyncio\n",
    "\n",
    "\n",
    "async def outer():\n",
    "    print('in outer')\n",
    "    print('waiting for result1')\n",
    "    result1 = await phase1()\n",
    "    print('waiting for result2')\n",
    "    result2 = await phase2(result1)\n",
    "    return (result1, result2)\n",
    "\n",
    "async def phase1():\n",
    "    print('in phase1')\n",
    "    return 'result1'\n",
    "\n",
    "async def phase2(arg):\n",
    "    print('in phase2')\n",
    "    return 'result2 derived from {}'.format(arg)\n",
    "\n",
    "event_loop = asyncio.get_event_loop()\n",
    "try:\n",
    "    return_value = event_loop.run_until_complete(outer())\n",
    "    print('return value: {!r}'.format(return_value))\n",
    "finally:\n",
    "    pass\n",
    "    # event_loop.close() - skipped in jupyter"
   ]
  },
  {
   "cell_type": "markdown",
   "metadata": {},
   "source": [
    "### Generators Instead of Coroutines\n",
    "Earlier versions of Python 3 can use generator functions with the `asyncio.coroutine()` decorator and `yield from`"
   ]
  },
  {
   "cell_type": "code",
   "execution_count": 4,
   "metadata": {
    "collapsed": false
   },
   "outputs": [
    {
     "name": "stdout",
     "output_type": "stream",
     "text": [
      "in outer\n",
      "waiting for result1\n",
      "in phase1\n",
      "waiting for result2\n",
      "in phase2\n",
      "return value: ('result1', 'result2 derived from result1')\n"
     ]
    }
   ],
   "source": [
    "# asyncio_generator.py\n",
    "import asyncio\n",
    "\n",
    "\n",
    "@asyncio.coroutine\n",
    "def outer():\n",
    "    print('in outer')\n",
    "    print('waiting for result1')\n",
    "    result1 = yield from phase1()\n",
    "    print('waiting for result2')\n",
    "    result2 = yield from phase2(result1)\n",
    "    return (result1, result2)\n",
    "\n",
    "\n",
    "@asyncio.coroutine\n",
    "def phase1():\n",
    "    print('in phase1')\n",
    "    return 'result1'\n",
    "\n",
    "\n",
    "@asyncio.coroutine\n",
    "def phase2(arg):\n",
    "    print('in phase2')\n",
    "    return 'result2 derived from {}'.format(arg)\n",
    "\n",
    "\n",
    "event_loop = asyncio.get_event_loop()\n",
    "try:\n",
    "    return_value = event_loop.run_until_complete(outer())\n",
    "    print('return value: {!r}'.format(return_value))\n",
    "finally:\n",
    "    pass\n",
    "    # event_loop.close()"
   ]
  },
  {
   "cell_type": "markdown",
   "metadata": {},
   "source": [
    "## Scheduling Calls to Regular Functions\n",
    "schedule calls to regular functions based on the timer value in the loop."
   ]
  },
  {
   "cell_type": "code",
   "execution_count": 5,
   "metadata": {
    "collapsed": false
   },
   "outputs": [
    {
     "name": "stdout",
     "output_type": "stream",
     "text": [
      "entering event loop\n",
      "registering callbaks\n",
      "callback invoked with 1 and default\n",
      "callback invoked with 2 and not default\n",
      "closing event loop\n"
     ]
    }
   ],
   "source": [
    "# asyncio_call_soon.py\n",
    "import asyncio\n",
    "import functools\n",
    "\n",
    "\n",
    "def callback(arg, *, kwarg='default'):\n",
    "    print('callback invoked with {} and {}'.format(arg, kwarg))\n",
    "    \n",
    "async def main(loop):\n",
    "    print('registering callbaks')\n",
    "    loop.call_soon(callback, 1)\n",
    "    wrapped = functools.partial(callback, kwarg='not default')\n",
    "    loop.call_soon(wrapped, 2)\n",
    "    \n",
    "    await asyncio.sleep(0.1)\n",
    "    \n",
    "event_loop = asyncio.get_event_loop()\n",
    "try:\n",
    "    print('entering event loop')\n",
    "    event_loop.run_until_complete(main(event_loop))\n",
    "finally:\n",
    "    print('closing event loop')\n",
    "    # event_loop.close()"
   ]
  },
  {
   "cell_type": "markdown",
   "metadata": {},
   "source": [
    "### Scheduling a Callback with a Delay"
   ]
  },
  {
   "cell_type": "code",
   "execution_count": 6,
   "metadata": {
    "collapsed": false
   },
   "outputs": [
    {
     "name": "stdout",
     "output_type": "stream",
     "text": [
      "entering event loop\n",
      "registering callbacks\n",
      "callback 3 invoked\n",
      "callback 2 invoked\n",
      "callback 1 invoked\n",
      "closing event loop\n"
     ]
    }
   ],
   "source": [
    "# asyncio_call_later.py\n",
    "\n",
    "import asyncio\n",
    "\n",
    "def callback(n):\n",
    "    print('callback {} invoked'.format(n))\n",
    "    \n",
    "async def main(loop):\n",
    "    print('registering callbacks')\n",
    "    loop.call_later(0.2, callback, 1)\n",
    "    loop.call_later(0.1, callback, 2)\n",
    "    loop.call_soon(callback, 3)\n",
    "    \n",
    "    await asyncio.sleep(0.4)\n",
    "    \n",
    "event_loop = asyncio.get_event_loop()\n",
    "try:\n",
    "    print('entering event loop')\n",
    "    event_loop.run_until_complete(main(event_loop))\n",
    "finally:\n",
    "    print('closing event loop')\n",
    "    # event_loop.close()"
   ]
  },
  {
   "cell_type": "markdown",
   "metadata": {},
   "source": [
    "### Scheduling a Callback for a Specific Time\n",
    "Use `time()` method of event loop to start the internal state of clock; event loop uses a monotonic clock, not a wall-clock time, to ensure that value of \"now\" never regresses."
   ]
  },
  {
   "cell_type": "code",
   "execution_count": 7,
   "metadata": {
    "collapsed": false
   },
   "outputs": [
    {
     "name": "stdout",
     "output_type": "stream",
     "text": [
      "entering event loop\n",
      "clock time: 1487515531.9017363\n",
      "loop  time: 74538.17479271\n",
      "registering callbacks\n",
      "callback 3 invoked at 74538.175461376\n",
      "closing event loop\n"
     ]
    }
   ],
   "source": [
    "# asyncio_call_at.py\n",
    "\n",
    "import asyncio\n",
    "import time\n",
    "\n",
    "\n",
    "def callback(n, loop):\n",
    "    print('callback {} invoked at {}'.format(n, loop.time()))\n",
    "    \n",
    "    \n",
    "async def main(loop):\n",
    "    now = loop.time()\n",
    "    print('clock time: {}'.format(time.time()))\n",
    "    print('loop  time: {}'.format(now))\n",
    "    \n",
    "    print('registering callbacks')\n",
    "    loop.call_at(now + 0.2, callback, 1, loop)\n",
    "    loop.call_at(now + 0.1, callback, 2, loop)\n",
    "    loop.call_soon(callback, 3, loop)\n",
    "    \n",
    "    await asyncio.sleep(0)\n",
    "    \n",
    "\n",
    "event_loop = asyncio.get_event_loop()\n",
    "try:\n",
    "    print('entering event loop')\n",
    "    event_loop.run_until_complete(main(event_loop))\n",
    "finally:\n",
    "    print('closing event loop')\n",
    "    # event_loop.close()"
   ]
  }
 ],
 "metadata": {
  "kernelspec": {
   "display_name": "Python 3",
   "language": "python",
   "name": "python3"
  },
  "language_info": {
   "codemirror_mode": {
    "name": "ipython",
    "version": 3
   },
   "file_extension": ".py",
   "mimetype": "text/x-python",
   "name": "python",
   "nbconvert_exporter": "python",
   "pygments_lexer": "ipython3",
   "version": "3.6.0"
  }
 },
 "nbformat": 4,
 "nbformat_minor": 2
}
