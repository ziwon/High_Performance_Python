{
 "cells": [
  {
   "cell_type": "markdown",
   "metadata": {
    "deletable": true,
    "editable": true
   },
   "source": [
    "## [Asynchronous I/O, event loop, and concurrency tools](https://pymotw.com/3/asyncio/index.html)"
   ]
  },
  {
   "cell_type": "markdown",
   "metadata": {
    "deletable": true,
    "editable": true
   },
   "source": [
    "## Asynchronous Concurrency Concepts\n",
    "**other concurrency model**: rely on threading or process management of the language runtime or operating system to change context\n",
    "\n",
    "**asyncio**: explicitly handle context changes using eventloop and coroutine\n",
    "\n",
    "**eventloop** - a place to register code to be run in application.\n",
    "\n",
    "**coroutines** - as a mechanism for yielding control back to the event loop, these are special functions that give up control to their caller without losing their state (implented with generator in version older than Python 3.5)\n",
    "\n",
    "**Future** - a data sturucture representing the result of work that has not been completed yet.\n",
    "\n",
    "**Task** - a subclass of Future that knows how to wrap and manage the execution for a coroutine, can be scheduled with event loop."
   ]
  },
  {
   "cell_type": "markdown",
   "metadata": {
    "deletable": true,
    "editable": true
   },
   "source": [
    "## Cooperative Multitasking with Coroutines\n",
    "Coroutines \n",
    "- a language construct designed for concurrency.\n",
    "- creates a coroutine object when they called.\n",
    "- then caller can run it using coroutine's `send()` method.\n",
    "- while it is paused, their stats is manintaied\n",
    "- when awakened, coroutines resume where it left off the next tinme."
   ]
  },
  {
   "cell_type": "markdown",
   "metadata": {
    "deletable": true,
    "editable": true
   },
   "source": [
    "### Starting a Coroutine"
   ]
  },
  {
   "cell_type": "code",
   "execution_count": 1,
   "metadata": {
    "collapsed": false,
    "deletable": true,
    "editable": true
   },
   "outputs": [
    {
     "name": "stdout",
     "output_type": "stream",
     "text": [
      "starting coroutine\n",
      "in coroutine\n",
      "closing event loop\n"
     ]
    }
   ],
   "source": [
    "# asyncio_coroutine.py\n",
    "import asyncio\n",
    "\n",
    "\n",
    "async def coroutine():\n",
    "    print('in coroutine')\n",
    "\n",
    "\n",
    "event_loop = asyncio.get_event_loop()\n",
    "try:\n",
    "    print('starting coroutine')\n",
    "    coro = coroutine()\n",
    "    event_loop.run_until_complete(coro)\n",
    "finally:\n",
    "    print('closing event loop')\n",
    "    # event_loop.close() - skipped in jupyter"
   ]
  },
  {
   "cell_type": "markdown",
   "metadata": {
    "deletable": true,
    "editable": true
   },
   "source": [
    "### Returning Values from Coroutines"
   ]
  },
  {
   "cell_type": "code",
   "execution_count": 2,
   "metadata": {
    "collapsed": false,
    "deletable": true,
    "editable": true
   },
   "outputs": [
    {
     "name": "stdout",
     "output_type": "stream",
     "text": [
      "in coroutine\n",
      "it returned: 'result'\n"
     ]
    }
   ],
   "source": [
    "# asyncio_coroutine_return.py\n",
    "import asyncio\n",
    "\n",
    "\n",
    "async def coroutine():\n",
    "    print('in coroutine')\n",
    "    return 'result'\n",
    "\n",
    "\n",
    "event_loop = asyncio.get_event_loop()\n",
    "try:\n",
    "    return_value = event_loop.run_until_complete(\n",
    "        coroutine()\n",
    "    )\n",
    "    print('it returned: {!r}'.format(return_value))\n",
    "finally:\n",
    "    pass\n",
    "    # event_loop.close() - skipped in jupyter"
   ]
  },
  {
   "cell_type": "markdown",
   "metadata": {
    "deletable": true,
    "editable": true
   },
   "source": [
    "### Chaning Coroutines\n",
    "decompising a task into resuable parts."
   ]
  },
  {
   "cell_type": "code",
   "execution_count": 3,
   "metadata": {
    "collapsed": false,
    "deletable": true,
    "editable": true
   },
   "outputs": [
    {
     "name": "stdout",
     "output_type": "stream",
     "text": [
      "in outer\n",
      "waiting for result1\n",
      "in phase1\n",
      "waiting for result2\n",
      "in phase2\n",
      "return value: ('result1', 'result2 derived from result1')\n"
     ]
    }
   ],
   "source": [
    "# asyncio_coroutine_chain.py\n",
    "import asyncio\n",
    "\n",
    "\n",
    "async def outer():\n",
    "    print('in outer')\n",
    "    print('waiting for result1')\n",
    "    result1 = await phase1()\n",
    "    print('waiting for result2')\n",
    "    result2 = await phase2(result1)\n",
    "    return (result1, result2)\n",
    "\n",
    "async def phase1():\n",
    "    print('in phase1')\n",
    "    return 'result1'\n",
    "\n",
    "async def phase2(arg):\n",
    "    print('in phase2')\n",
    "    return 'result2 derived from {}'.format(arg)\n",
    "\n",
    "event_loop = asyncio.get_event_loop()\n",
    "try:\n",
    "    return_value = event_loop.run_until_complete(outer())\n",
    "    print('return value: {!r}'.format(return_value))\n",
    "finally:\n",
    "    pass\n",
    "    # event_loop.close() - skipped in jupyter"
   ]
  },
  {
   "cell_type": "markdown",
   "metadata": {
    "deletable": true,
    "editable": true
   },
   "source": [
    "### Generators Instead of Coroutines\n",
    "Earlier versions of Python 3 can use generator functions with the `asyncio.coroutine()` decorator and `yield from`"
   ]
  },
  {
   "cell_type": "code",
   "execution_count": 4,
   "metadata": {
    "collapsed": false,
    "deletable": true,
    "editable": true
   },
   "outputs": [
    {
     "name": "stdout",
     "output_type": "stream",
     "text": [
      "in outer\n",
      "waiting for result1\n",
      "in phase1\n",
      "waiting for result2\n",
      "in phase2\n",
      "return value: ('result1', 'result2 derived from result1')\n"
     ]
    }
   ],
   "source": [
    "# asyncio_generator.py\n",
    "import asyncio\n",
    "\n",
    "\n",
    "@asyncio.coroutine\n",
    "def outer():\n",
    "    print('in outer')\n",
    "    print('waiting for result1')\n",
    "    result1 = yield from phase1()\n",
    "    print('waiting for result2')\n",
    "    result2 = yield from phase2(result1)\n",
    "    return (result1, result2)\n",
    "\n",
    "\n",
    "@asyncio.coroutine\n",
    "def phase1():\n",
    "    print('in phase1')\n",
    "    return 'result1'\n",
    "\n",
    "\n",
    "@asyncio.coroutine\n",
    "def phase2(arg):\n",
    "    print('in phase2')\n",
    "    return 'result2 derived from {}'.format(arg)\n",
    "\n",
    "\n",
    "event_loop = asyncio.get_event_loop()\n",
    "try:\n",
    "    return_value = event_loop.run_until_complete(outer())\n",
    "    print('return value: {!r}'.format(return_value))\n",
    "finally:\n",
    "    pass\n",
    "    # event_loop.close()"
   ]
  },
  {
   "cell_type": "markdown",
   "metadata": {
    "deletable": true,
    "editable": true
   },
   "source": [
    "## Scheduling Calls to Regular Functions\n",
    "schedule calls to regular functions based on the timer value in the loop."
   ]
  },
  {
   "cell_type": "code",
   "execution_count": 5,
   "metadata": {
    "collapsed": false,
    "deletable": true,
    "editable": true
   },
   "outputs": [
    {
     "name": "stdout",
     "output_type": "stream",
     "text": [
      "entering event loop\n",
      "registering callbaks\n",
      "callback invoked with 1 and default\n",
      "callback invoked with 2 and not default\n",
      "closing event loop\n"
     ]
    }
   ],
   "source": [
    "# asyncio_call_soon.py\n",
    "import asyncio\n",
    "import functools\n",
    "\n",
    "\n",
    "def callback(arg, *, kwarg='default'):\n",
    "    print('callback invoked with {} and {}'.format(arg, kwarg))\n",
    "    \n",
    "async def main(loop):\n",
    "    print('registering callbaks')\n",
    "    loop.call_soon(callback, 1)\n",
    "    wrapped = functools.partial(callback, kwarg='not default')\n",
    "    loop.call_soon(wrapped, 2)\n",
    "    \n",
    "    await asyncio.sleep(0.1)\n",
    "    \n",
    "event_loop = asyncio.get_event_loop()\n",
    "try:\n",
    "    print('entering event loop')\n",
    "    event_loop.run_until_complete(main(event_loop))\n",
    "finally:\n",
    "    print('closing event loop')\n",
    "    # event_loop.close()"
   ]
  },
  {
   "cell_type": "markdown",
   "metadata": {
    "deletable": true,
    "editable": true
   },
   "source": [
    "### Scheduling a Callback with a Delay"
   ]
  },
  {
   "cell_type": "code",
   "execution_count": 6,
   "metadata": {
    "collapsed": false,
    "deletable": true,
    "editable": true
   },
   "outputs": [
    {
     "name": "stdout",
     "output_type": "stream",
     "text": [
      "entering event loop\n",
      "registering callbacks\n",
      "callback 3 invoked\n",
      "callback 2 invoked\n",
      "callback 1 invoked\n",
      "closing event loop\n"
     ]
    }
   ],
   "source": [
    "# asyncio_call_later.py\n",
    "\n",
    "import asyncio\n",
    "\n",
    "def callback(n):\n",
    "    print('callback {} invoked'.format(n))\n",
    "    \n",
    "async def main(loop):\n",
    "    print('registering callbacks')\n",
    "    loop.call_later(0.2, callback, 1)\n",
    "    loop.call_later(0.1, callback, 2)\n",
    "    loop.call_soon(callback, 3)\n",
    "    \n",
    "    await asyncio.sleep(0.4)\n",
    "    \n",
    "event_loop = asyncio.get_event_loop()\n",
    "try:\n",
    "    print('entering event loop')\n",
    "    event_loop.run_until_complete(main(event_loop))\n",
    "finally:\n",
    "    print('closing event loop')\n",
    "    # event_loop.close()"
   ]
  },
  {
   "cell_type": "markdown",
   "metadata": {
    "deletable": true,
    "editable": true
   },
   "source": [
    "### Scheduling a Callback for a Specific Time\n",
    "Use `time()` method of event loop to start the internal state of clock; event loop uses a monotonic clock, not a wall-clock time, to ensure that value of \"now\" never regresses."
   ]
  },
  {
   "cell_type": "code",
   "execution_count": 7,
   "metadata": {
    "collapsed": false,
    "deletable": true,
    "editable": true
   },
   "outputs": [
    {
     "name": "stdout",
     "output_type": "stream",
     "text": [
      "entering event loop\n",
      "clock time: 1487861185.7658634\n",
      "loop  time: 6699.540989305\n",
      "registering callbacks\n",
      "callback 3 invoked at 6699.541720254\n",
      "closing event loop\n"
     ]
    }
   ],
   "source": [
    "# asyncio_call_at.py\n",
    "\n",
    "import asyncio\n",
    "import time\n",
    "\n",
    "\n",
    "def callback(n, loop):\n",
    "    print('callback {} invoked at {}'.format(n, loop.time()))\n",
    "    \n",
    "    \n",
    "async def main(loop):\n",
    "    now = loop.time()\n",
    "    print('clock time: {}'.format(time.time()))\n",
    "    print('loop  time: {}'.format(now))\n",
    "    \n",
    "    print('registering callbacks')\n",
    "    loop.call_at(now + 0.2, callback, 1, loop)\n",
    "    loop.call_at(now + 0.1, callback, 2, loop)\n",
    "    loop.call_soon(callback, 3, loop)\n",
    "    \n",
    "    await asyncio.sleep(0)\n",
    "    \n",
    "\n",
    "event_loop = asyncio.get_event_loop()\n",
    "try:\n",
    "    print('entering event loop')\n",
    "    event_loop.run_until_complete(main(event_loop))\n",
    "finally:\n",
    "    print('closing event loop')\n",
    "    # event_loop.close()"
   ]
  },
  {
   "cell_type": "markdown",
   "metadata": {
    "deletable": true,
    "editable": true
   },
   "source": [
    "## Producing Results Asynchronously\n",
    "Future - the result of work that has not been completed yet.\n",
    "\n",
    "### Waiting for a Future\n"
   ]
  },
  {
   "cell_type": "code",
   "execution_count": 8,
   "metadata": {
    "collapsed": false,
    "deletable": true,
    "editable": true
   },
   "outputs": [
    {
     "name": "stdout",
     "output_type": "stream",
     "text": [
      "scheduling mark done\n",
      "entering event loop\n",
      "setting future result to 'the result'\n",
      "callback 2 invoked at 6702.426535411\n",
      "callback 1 invoked at 6702.426708303\n",
      "returning result: 'the result'\n",
      "closing event loop\n",
      "future result: 'the result'\n"
     ]
    }
   ],
   "source": [
    "# asyncio_future_event_loop.py\n",
    "import asyncio\n",
    "\n",
    "\n",
    "def mark_done(future, result):\n",
    "    print('setting future result to {!r}'.format(result))\n",
    "    future.set_result(result)\n",
    "\n",
    "    \n",
    "event_loop = asyncio.get_event_loop()\n",
    "try:\n",
    "    all_done = asyncio.Future()\n",
    "    \n",
    "    print('scheduling mark done')\n",
    "    event_loop.call_soon(mark_done, all_done, 'the result')\n",
    "    \n",
    "    print('entering event loop')\n",
    "    result = event_loop.run_until_complete(all_done)\n",
    "    print('returning result: {!r}'.format(result))\n",
    "finally:\n",
    "    print('closing event loop')\n",
    "    # event_loop.close()\n",
    "\n",
    "\n",
    "print('future result: {!r}'.format(all_done.result()))"
   ]
  },
  {
   "cell_type": "markdown",
   "metadata": {
    "deletable": true,
    "editable": true
   },
   "source": [
    "The result of the Future is returned by **`await`**."
   ]
  },
  {
   "cell_type": "code",
   "execution_count": 9,
   "metadata": {
    "collapsed": false,
    "deletable": true,
    "editable": true
   },
   "outputs": [
    {
     "name": "stdout",
     "output_type": "stream",
     "text": [
      "scheduling mark_done\n",
      "setting future result to 'the result'\n",
      "returned result: 'the result'\n"
     ]
    }
   ],
   "source": [
    "# asyncio_future_await.py\n",
    "import asyncio\n",
    "\n",
    "\n",
    "def mark_done(future, result):\n",
    "    print('setting future result to {!r}'.format(result))\n",
    "    future.set_result(result)\n",
    "    \n",
    "\n",
    "async def main(loop):\n",
    "    all_done = asyncio.Future()\n",
    "    \n",
    "    print('scheduling mark_done')\n",
    "    loop.call_soon(mark_done, all_done, 'the result')\n",
    "    \n",
    "    result = await all_done\n",
    "    print('returned result: {!r}'.format(result))\n",
    "    \n",
    "\n",
    "event_loop = asyncio.get_event_loop()\n",
    "try:\n",
    "    event_loop.run_until_complete(main(event_loop))\n",
    "finally:\n",
    "    pass\n",
    "    # event_loop.close()"
   ]
  },
  {
   "cell_type": "markdown",
   "metadata": {
    "deletable": true,
    "editable": true
   },
   "source": [
    "A Future can invoke callbacks when it is completed."
   ]
  },
  {
   "cell_type": "code",
   "execution_count": 10,
   "metadata": {
    "collapsed": false,
    "deletable": true,
    "editable": true
   },
   "outputs": [
    {
     "name": "stdout",
     "output_type": "stream",
     "text": [
      "registering callbacks on future\n",
      "setting result of future\n",
      "1: future done: the result\n",
      "2: future done: the result\n"
     ]
    }
   ],
   "source": [
    "# asyncio_future_callback.py\n",
    "\n",
    "import asyncio\n",
    "import functools\n",
    "\n",
    "\n",
    "def callback(future, n):\n",
    "    print('{}: future done: {}'.format(n, future.result()))\n",
    "    \n",
    "    \n",
    "async def register_callbacks(all_done):\n",
    "    print('registering callbacks on future')\n",
    "    all_done.add_done_callback(functools.partial(callback, n=1))\n",
    "    all_done.add_done_callback(functools.partial(callback, n=2))\n",
    "    \n",
    "\n",
    "async def main(all_done):\n",
    "    await register_callbacks(all_done)\n",
    "    print('setting result of future')\n",
    "    all_done.set_result('the result')\n",
    "    \n",
    "    \n",
    "event_loop = asyncio.get_event_loop()\n",
    "try:\n",
    "    all_done = asyncio.Future()\n",
    "    event_loop.run_until_complete(main(all_done))\n",
    "finally:\n",
    "    pass\n",
    "    #event_loop.close()"
   ]
  },
  {
   "cell_type": "markdown",
   "metadata": {
    "deletable": true,
    "editable": true
   },
   "source": [
    "## Executing Tasks Concurrently \n",
    "Tasks - subclasses of Future, other coroutines can wait for them and each has a result."
   ]
  },
  {
   "cell_type": "markdown",
   "metadata": {
    "deletable": true,
    "editable": true
   },
   "source": [
    "### Starting a Task \n",
    "The resulting task will run as part of the concurrent operation"
   ]
  },
  {
   "cell_type": "code",
   "execution_count": 11,
   "metadata": {
    "collapsed": false,
    "deletable": true,
    "editable": true
   },
   "outputs": [
    {
     "name": "stdout",
     "output_type": "stream",
     "text": [
      "creating task\n",
      "waiting for <Task pending coro=<task_func() running at <ipython-input-11-e37780e9485b>:4>>\n",
      "in task_func\n",
      "task completed <Task finished coro=<task_func() done, defined at <ipython-input-11-e37780e9485b>:4> result='the result'>\n",
      "return value: 'the result'\n"
     ]
    }
   ],
   "source": [
    "import asyncio\n",
    "\n",
    "\n",
    "async def task_func():\n",
    "    print('in task_func')\n",
    "    return 'the result'\n",
    "\n",
    "\n",
    "async def main(loop):\n",
    "    print('creating task')\n",
    "    task = loop.create_task(task_func())\n",
    "    print('waiting for {!r}'.format(task))\n",
    "    return_value = await task\n",
    "    print('task completed {!r}'.format(task))\n",
    "    print('return value: {!r}'.format(return_value))\n",
    "    \n",
    "\n",
    "event_loop = asyncio.get_event_loop()\n",
    "try:\n",
    "    event_loop.run_until_complete(main(event_loop))\n",
    "finally:\n",
    "    pass\n",
    "    # event_loop.close()"
   ]
  },
  {
   "cell_type": "markdown",
   "metadata": {
    "deletable": true,
    "editable": true
   },
   "source": [
    "### Canceling a Task"
   ]
  },
  {
   "cell_type": "code",
   "execution_count": 12,
   "metadata": {
    "collapsed": false,
    "deletable": true,
    "editable": true
   },
   "outputs": [
    {
     "name": "stdout",
     "output_type": "stream",
     "text": [
      "creating task\n",
      "canceling task\n",
      "canceled task <Task cancelling coro=<task_func() running at <ipython-input-12-cf37153fb0f9>:6>>\n",
      "caught error from canceled task\n"
     ]
    }
   ],
   "source": [
    "# asyncio_cancel_task.py\n",
    "\n",
    "import asyncio\n",
    "\n",
    "\n",
    "async def task_func():\n",
    "    print('in task_func')\n",
    "    return 'the result'\n",
    "\n",
    "\n",
    "async def main(loop):\n",
    "    print('creating task')\n",
    "    task = loop.create_task(task_func())\n",
    "    \n",
    "    print('canceling task')\n",
    "    task.cancel()\n",
    "    \n",
    "    print('canceled task {!r}'.format(task))\n",
    "    try:\n",
    "        await task\n",
    "    except  asyncio.CancelledError:\n",
    "        print('caught error from canceled task')\n",
    "    else:\n",
    "        print('task result: {!r}'.format(task.result()))\n",
    "\n",
    "\n",
    "event_loop = asyncio.get_event_loop()\n",
    "try:\n",
    "    event_loop.run_until_complete(main(event_loop))\n",
    "finally:\n",
    "    pass\n",
    "    # event_loop.close()"
   ]
  },
  {
   "cell_type": "markdown",
   "metadata": {
    "deletable": true,
    "editable": true
   },
   "source": [
    "If a task is canceled while it is waiting for another concurrent operation, the task is notified of its cancellation by having a CancelledError exception raised at the point where it is waiting."
   ]
  },
  {
   "cell_type": "code",
   "execution_count": 13,
   "metadata": {
    "collapsed": false,
    "deletable": true,
    "editable": true
   },
   "outputs": [
    {
     "name": "stdout",
     "output_type": "stream",
     "text": [
      "creating task\n",
      "in task_func\n",
      "in task_canceller\n",
      "canceled the task\n"
     ]
    }
   ],
   "source": [
    "# asyncio_cancel_task2.py\n",
    "import asyncio\n",
    "\n",
    "\n",
    "async def task_fun():\n",
    "    print('in task_func, sleeping')\n",
    "    try:\n",
    "        await asyncio.sleep(1)\n",
    "    except asyncio.CancelledError:\n",
    "        print('task_func was canceled')\n",
    "        raise\n",
    "    return 'the result'\n",
    "\n",
    "    \n",
    "def task_canceller(t):\n",
    "    print('in task_canceller')\n",
    "    t.cancel()\n",
    "    print('canceled the task')\n",
    "\n",
    "\n",
    "async def main(loop):\n",
    "    print('creating task')\n",
    "    task = loop.create_task(task_func())\n",
    "    loop.call_soon(task_canceller, task)\n",
    "    try:\n",
    "        await task\n",
    "    except asyncio.CancelledError:\n",
    "        print('task_func was canceled')\n",
    "        raise\n",
    "    return 'the result'\n",
    "    \n",
    "\n",
    "event_loop = asyncio.get_event_loop()\n",
    "try:\n",
    "    event_loop.run_until_complete(main(event_loop))\n",
    "finally:\n",
    "    pass\n",
    "    # event_loop.close()"
   ]
  },
  {
   "cell_type": "markdown",
   "metadata": {},
   "source": [
    "### Creating Tasks from Coroutines"
   ]
  },
  {
   "cell_type": "markdown",
   "metadata": {},
   "source": [
    "**`ensure_future()`** returns a Task ties to the execution of a coroutine."
   ]
  },
  {
   "cell_type": "code",
   "execution_count": 14,
   "metadata": {
    "collapsed": false
   },
   "outputs": [
    {
     "name": "stdout",
     "output_type": "stream",
     "text": [
      "entering event loop\n",
      "starter: creating task\n",
      "starter: waiting for inner\n",
      "inner: starting\n",
      "inner: waiting for <Task pending coro=<wrapped() running at <ipython-input-14-c267531fe386>:5>>\n",
      "wrapped\n",
      "inner: task returned <Task finished coro=<wrapped() done, defined at <ipython-input-14-c267531fe386>:5> result='result'>\n",
      "starter: inner returned\n"
     ]
    }
   ],
   "source": [
    "# asyncio_ensure_future.py\n",
    "import asyncio\n",
    "\n",
    "\n",
    "async def wrapped():\n",
    "    print('wrapped')\n",
    "    return 'result'\n",
    "\n",
    "\n",
    "async def inner(task):\n",
    "    print('inner: starting')\n",
    "    print('inner: waiting for {!r}'.format(task))\n",
    "    result = await task\n",
    "    print('inner: task returned {!r}'.format(task))\n",
    "    \n",
    "    \n",
    "async def starter():\n",
    "    print('starter: creating task')\n",
    "    task = asyncio.ensure_future(wrapped())\n",
    "    print('starter: waiting for inner')\n",
    "    await inner(task)\n",
    "    print('starter: inner returned')\n",
    "    \n",
    "\n",
    "event_loop = asyncio.get_event_loop()\n",
    "try:\n",
    "    print('entering event loop')\n",
    "    result = event_loop.run_until_complete(starter())\n",
    "finally:\n",
    "    pass\n",
    "    # event_loop.close()\n",
    "\n"
   ]
  },
  {
   "cell_type": "markdown",
   "metadata": {},
   "source": [
    "## Composing Coroutines with Control Structures\n",
    "\n",
    "### Waiting for Multiple Coroutines\n",
    "dividing one operation into many parts and execute them separately."
   ]
  },
  {
   "cell_type": "code",
   "execution_count": 15,
   "metadata": {
    "collapsed": false
   },
   "outputs": [
    {
     "name": "stdout",
     "output_type": "stream",
     "text": [
      "starting main\n",
      "waiting for phases to complete\n",
      "in phase 2\n",
      "in phase 0\n",
      "in phase 1\n",
      "done with phase 0\n",
      "done with phase 1\n",
      "done with phase 2\n",
      "results: ['phase 2 result', 'phase 0 result', 'phase 1 result']\n"
     ]
    }
   ],
   "source": [
    "# asyncio_wait.py\n",
    "\n",
    "import asyncio\n",
    "\n",
    "\n",
    "async def phase(i):\n",
    "    print('in phase {}'.format(i))\n",
    "    await asyncio.sleep(0.1 * i)\n",
    "    print('done with phase {}'.format(i))\n",
    "    return 'phase {} result'.format(i)\n",
    "\n",
    "\n",
    "async def main(num_phases):\n",
    "    print('starting main')\n",
    "    phases = [\n",
    "        phase(i)\n",
    "        for i in range(num_phases)\n",
    "    ]\n",
    "    print('waiting for phases to complete')\n",
    "    completed, pending = await asyncio.wait(phases)\n",
    "    results = [t.result() for t in completed]\n",
    "    print('results: {!r}'.format(results))\n",
    "    \n",
    "event_loop = asyncio.get_event_loop()\n",
    "try:\n",
    "    event_loop.run_until_complete(main(3))\n",
    "finally:\n",
    "    pass\n",
    "    # event_loop.close()"
   ]
  },
  {
   "cell_type": "code",
   "execution_count": 16,
   "metadata": {
    "collapsed": false
   },
   "outputs": [
    {
     "name": "stdout",
     "output_type": "stream",
     "text": [
      "starting main\n",
      "waiting 0.1 for phases to complete\n",
      "in phase 1\n",
      "in phase 2\n",
      "in phase 0\n",
      "done with phase 0\n",
      "1 completed and 2 pending\n",
      "canceling tasks\n",
      "exiting main\n",
      "phase 1 canceled\n",
      "phase 2 canceled\n"
     ]
    }
   ],
   "source": [
    "# asyncio_wait_timeout.py\n",
    "import asyncio\n",
    "\n",
    "\n",
    "async def phase(i):\n",
    "    print('in phase {}'.format(i))\n",
    "    try:\n",
    "        await asyncio.sleep(0.1 * i)\n",
    "    except asyncio.CancelledError:\n",
    "        print('phase {} canceled'.format(i))\n",
    "        raise\n",
    "    else:\n",
    "        print('done with phase {}'.format(i))\n",
    "        return 'phase {} result'.format(i)\n",
    "\n",
    "\n",
    "async def main(num_phases):\n",
    "    print('starting main')\n",
    "    phases = [\n",
    "        phase(i)\n",
    "        for i in range(num_phases)\n",
    "    ]\n",
    "    print('waiting 0.1 for phases to complete')\n",
    "    completed, pending = await asyncio.wait(phases, timeout=0.1)\n",
    "    print('{} completed and {} pending'.format(\n",
    "        len(completed), len(pending),\n",
    "    ))\n",
    "   \n",
    "    if pending:\n",
    "        print('canceling tasks')\n",
    "        for t in pending:\n",
    "            t.cancel()\n",
    "    print('exiting main')\n",
    "\n",
    "\n",
    "event_loop = asyncio.get_event_loop()\n",
    "try:\n",
    "    event_loop.run_until_complete(main(3))\n",
    "finally:\n",
    "    pass\n",
    "    # event_loop.close()\n"
   ]
  },
  {
   "cell_type": "markdown",
   "metadata": {},
   "source": [
    "### Gathering Results from Coroutines"
   ]
  },
  {
   "cell_type": "code",
   "execution_count": 17,
   "metadata": {
    "collapsed": false
   },
   "outputs": [
    {
     "name": "stdout",
     "output_type": "stream",
     "text": [
      "starting main\n",
      "waiting for phases to complete\n",
      "in phase1\n",
      "in phase2\n",
      "done with phase2\n",
      "done with phase1\n",
      "results: ['phase1 result', 'phase2 result']\n"
     ]
    }
   ],
   "source": [
    "# asyncio_gather.py\n",
    "import asyncio\n",
    "\n",
    "\n",
    "async def phase1():\n",
    "    print('in phase1')\n",
    "    await asyncio.sleep(2)\n",
    "    print('done with phase1')\n",
    "    return 'phase1 result'\n",
    "\n",
    "\n",
    "async def phase2():\n",
    "    print('in phase2')\n",
    "    await asyncio.sleep(1)\n",
    "    print('done with phase2')\n",
    "    return 'phase2 result'\n",
    "\n",
    "\n",
    "async def main():\n",
    "    print('starting main')\n",
    "    print('waiting for phases to complete')\n",
    "    results = await asyncio.gather(\n",
    "        phase1(),\n",
    "        phase2(),\n",
    "    )\n",
    "    print('results: {!r}'.format(results))\n",
    "\n",
    "\n",
    "event_loop = asyncio.get_event_loop()\n",
    "try:\n",
    "    event_loop.run_until_complete(main())\n",
    "finally:\n",
    "    pass\n",
    "    # event_loop.close()"
   ]
  },
  {
   "cell_type": "markdown",
   "metadata": {},
   "source": [
    "### Handling Background Operations as They Finish"
   ]
  },
  {
   "cell_type": "code",
   "execution_count": 18,
   "metadata": {
    "collapsed": false
   },
   "outputs": [
    {
     "name": "stdout",
     "output_type": "stream",
     "text": [
      "starting main\n",
      "waiting for phases to complete\n",
      "in phase 1\n",
      "in phase 2\n",
      "in phase 0\n",
      "done with phase 2\n",
      "received answer 'phase 2 result'\n",
      "done with phase 1\n",
      "received answer 'phase 1 result'\n",
      "done with phase 0\n",
      "received answer 'phase 0 result'\n",
      "results: ['phase 2 result', 'phase 1 result', 'phase 0 result']\n"
     ]
    }
   ],
   "source": [
    "# asyncio_as_completed.py\n",
    "import asyncio\n",
    "\n",
    "\n",
    "async def phase(i):\n",
    "    print('in phase {}'.format(i))\n",
    "    await asyncio.sleep(0.5 - (0.1 * i))\n",
    "    print('done with phase {}'.format(i))\n",
    "    return 'phase {} result'.format(i)\n",
    "\n",
    "\n",
    "async def main(num_phases):\n",
    "    print('starting main')\n",
    "    phases = [\n",
    "        phase(i)\n",
    "        for i in range(num_phases)\n",
    "    ]\n",
    "    print('waiting for phases to complete')\n",
    "    results = []\n",
    "    for next_to_complete in asyncio.as_completed(phases):\n",
    "        answer = await next_to_complete\n",
    "        print('received answer {!r}'.format(answer))\n",
    "        results.append(answer)\n",
    "    print('results: {!r}'.format(results))\n",
    "    return results\n",
    "\n",
    "\n",
    "event_loop = asyncio.get_event_loop()\n",
    "try:\n",
    "    event_loop.run_until_complete(main(3))\n",
    "finally:\n",
    "    pass\n",
    "    # event_loop.close()"
   ]
  }
 ],
 "metadata": {
  "kernelspec": {
   "display_name": "Python 3",
   "language": "python",
   "name": "python3"
  },
  "language_info": {
   "codemirror_mode": {
    "name": "ipython",
    "version": 3
   },
   "file_extension": ".py",
   "mimetype": "text/x-python",
   "name": "python",
   "nbconvert_exporter": "python",
   "pygments_lexer": "ipython3",
   "version": "3.6.0"
  }
 },
 "nbformat": 4,
 "nbformat_minor": 2
}
