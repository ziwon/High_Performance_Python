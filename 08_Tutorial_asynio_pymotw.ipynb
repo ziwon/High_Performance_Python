{
 "cells": [
  {
   "cell_type": "markdown",
   "metadata": {
    "deletable": true,
    "editable": true
   },
   "source": [
    "## [Asynchronous I/O, event loop, and concurrency tools](https://pymotw.com/3/asyncio/index.html)"
   ]
  },
  {
   "cell_type": "markdown",
   "metadata": {
    "deletable": true,
    "editable": true
   },
   "source": [
    "## Asynchronous Concurrency Concepts\n",
    "**other concurrency model**: rely on threading or process management of the language runtime or operating system to change context\n",
    "\n",
    "**asyncio**: explicitly handle context changes using eventloop and coroutine\n",
    "\n",
    "**eventloop** - a place to register code to be run in application.\n",
    "\n",
    "**coroutines** - as a mechanism for yielding control back to the event loop, these are special functions that give up control to their caller without losing their state (implented with generator in version older than Python 3.5)\n",
    "\n",
    "**Future** - a data sturucture representing the result of work that has not been completed yet.\n",
    "\n",
    "**Task** - a subclass of Future that knows how to wrap and manage the execution for a coroutine, can be scheduled with event loop."
   ]
  },
  {
   "cell_type": "markdown",
   "metadata": {
    "deletable": true,
    "editable": true
   },
   "source": [
    "## Cooperative Multitasking with Coroutines\n",
    "Coroutines \n",
    "- a language construct designed for concurrency.\n",
    "- creates a coroutine object when they called.\n",
    "- then caller can run it using coroutine's `send()` method.\n",
    "- while it is paused, their stats is manintaied\n",
    "- when awakened, coroutines resume where it left off the next tinme."
   ]
  },
  {
   "cell_type": "markdown",
   "metadata": {
    "deletable": true,
    "editable": true
   },
   "source": [
    "### Starting a Coroutine"
   ]
  },
  {
   "cell_type": "code",
   "execution_count": 1,
   "metadata": {
    "collapsed": false,
    "deletable": true,
    "editable": true
   },
   "outputs": [
    {
     "name": "stdout",
     "output_type": "stream",
     "text": [
      "starting coroutine\n",
      "in coroutine\n",
      "closing event loop\n"
     ]
    }
   ],
   "source": [
    "# asyncio_coroutine.py\n",
    "import asyncio\n",
    "\n",
    "\n",
    "async def coroutine():\n",
    "    print('in coroutine')\n",
    "\n",
    "\n",
    "event_loop = asyncio.get_event_loop()\n",
    "try:\n",
    "    print('starting coroutine')\n",
    "    coro = coroutine()\n",
    "    event_loop.run_until_complete(coro)\n",
    "finally:\n",
    "    print('closing event loop')\n",
    "    # event_loop.close() - skipped in jupyter"
   ]
  },
  {
   "cell_type": "markdown",
   "metadata": {
    "deletable": true,
    "editable": true
   },
   "source": [
    "### Returning Values from Coroutines"
   ]
  },
  {
   "cell_type": "code",
   "execution_count": 2,
   "metadata": {
    "collapsed": false,
    "deletable": true,
    "editable": true
   },
   "outputs": [
    {
     "name": "stdout",
     "output_type": "stream",
     "text": [
      "in coroutine\n",
      "it returned: 'result'\n"
     ]
    }
   ],
   "source": [
    "# asyncio_coroutine_return.py\n",
    "import asyncio\n",
    "\n",
    "\n",
    "async def coroutine():\n",
    "    print('in coroutine')\n",
    "    return 'result'\n",
    "\n",
    "\n",
    "event_loop = asyncio.get_event_loop()\n",
    "try:\n",
    "    return_value = event_loop.run_until_complete(\n",
    "        coroutine()\n",
    "    )\n",
    "    print('it returned: {!r}'.format(return_value))\n",
    "finally:\n",
    "    pass\n",
    "    # event_loop.close() - skipped in jupyter"
   ]
  },
  {
   "cell_type": "markdown",
   "metadata": {
    "deletable": true,
    "editable": true
   },
   "source": [
    "### Chaning Coroutines\n",
    "decompising a task into resuable parts."
   ]
  },
  {
   "cell_type": "code",
   "execution_count": 3,
   "metadata": {
    "collapsed": false,
    "deletable": true,
    "editable": true
   },
   "outputs": [
    {
     "name": "stdout",
     "output_type": "stream",
     "text": [
      "in outer\n",
      "waiting for result1\n",
      "in phase1\n",
      "waiting for result2\n",
      "in phase2\n",
      "return value: ('result1', 'result2 derived from result1')\n"
     ]
    }
   ],
   "source": [
    "# asyncio_coroutine_chain.py\n",
    "import asyncio\n",
    "\n",
    "\n",
    "async def outer():\n",
    "    print('in outer')\n",
    "    print('waiting for result1')\n",
    "    result1 = await phase1()\n",
    "    print('waiting for result2')\n",
    "    result2 = await phase2(result1)\n",
    "    return (result1, result2)\n",
    "\n",
    "async def phase1():\n",
    "    print('in phase1')\n",
    "    return 'result1'\n",
    "\n",
    "async def phase2(arg):\n",
    "    print('in phase2')\n",
    "    return 'result2 derived from {}'.format(arg)\n",
    "\n",
    "event_loop = asyncio.get_event_loop()\n",
    "try:\n",
    "    return_value = event_loop.run_until_complete(outer())\n",
    "    print('return value: {!r}'.format(return_value))\n",
    "finally:\n",
    "    pass\n",
    "    # event_loop.close() - skipped in jupyter"
   ]
  },
  {
   "cell_type": "markdown",
   "metadata": {
    "deletable": true,
    "editable": true
   },
   "source": [
    "### Generators Instead of Coroutines\n",
    "Earlier versions of Python 3 can use generator functions with the `asyncio.coroutine()` decorator and `yield from`"
   ]
  },
  {
   "cell_type": "code",
   "execution_count": 4,
   "metadata": {
    "collapsed": false,
    "deletable": true,
    "editable": true
   },
   "outputs": [
    {
     "name": "stdout",
     "output_type": "stream",
     "text": [
      "in outer\n",
      "waiting for result1\n",
      "in phase1\n",
      "waiting for result2\n",
      "in phase2\n",
      "return value: ('result1', 'result2 derived from result1')\n"
     ]
    }
   ],
   "source": [
    "# asyncio_generator.py\n",
    "import asyncio\n",
    "\n",
    "\n",
    "@asyncio.coroutine\n",
    "def outer():\n",
    "    print('in outer')\n",
    "    print('waiting for result1')\n",
    "    result1 = yield from phase1()\n",
    "    print('waiting for result2')\n",
    "    result2 = yield from phase2(result1)\n",
    "    return (result1, result2)\n",
    "\n",
    "\n",
    "@asyncio.coroutine\n",
    "def phase1():\n",
    "    print('in phase1')\n",
    "    return 'result1'\n",
    "\n",
    "\n",
    "@asyncio.coroutine\n",
    "def phase2(arg):\n",
    "    print('in phase2')\n",
    "    return 'result2 derived from {}'.format(arg)\n",
    "\n",
    "\n",
    "event_loop = asyncio.get_event_loop()\n",
    "try:\n",
    "    return_value = event_loop.run_until_complete(outer())\n",
    "    print('return value: {!r}'.format(return_value))\n",
    "finally:\n",
    "    pass\n",
    "    # event_loop.close()"
   ]
  },
  {
   "cell_type": "markdown",
   "metadata": {
    "deletable": true,
    "editable": true
   },
   "source": [
    "## Scheduling Calls to Regular Functions\n",
    "schedule calls to regular functions based on the timer value in the loop."
   ]
  },
  {
   "cell_type": "code",
   "execution_count": 5,
   "metadata": {
    "collapsed": false,
    "deletable": true,
    "editable": true
   },
   "outputs": [
    {
     "name": "stdout",
     "output_type": "stream",
     "text": [
      "entering event loop\n",
      "registering callbaks\n",
      "callback invoked with 1 and default\n",
      "callback invoked with 2 and not default\n",
      "closing event loop\n"
     ]
    }
   ],
   "source": [
    "# asyncio_call_soon.py\n",
    "import asyncio\n",
    "import functools\n",
    "\n",
    "\n",
    "def callback(arg, *, kwarg='default'):\n",
    "    print('callback invoked with {} and {}'.format(arg, kwarg))\n",
    "    \n",
    "async def main(loop):\n",
    "    print('registering callbaks')\n",
    "    loop.call_soon(callback, 1)\n",
    "    wrapped = functools.partial(callback, kwarg='not default')\n",
    "    loop.call_soon(wrapped, 2)\n",
    "    \n",
    "    await asyncio.sleep(0.1)\n",
    "    \n",
    "event_loop = asyncio.get_event_loop()\n",
    "try:\n",
    "    print('entering event loop')\n",
    "    event_loop.run_until_complete(main(event_loop))\n",
    "finally:\n",
    "    print('closing event loop')\n",
    "    # event_loop.close()"
   ]
  },
  {
   "cell_type": "markdown",
   "metadata": {
    "deletable": true,
    "editable": true
   },
   "source": [
    "### Scheduling a Callback with a Delay"
   ]
  },
  {
   "cell_type": "code",
   "execution_count": 6,
   "metadata": {
    "collapsed": false,
    "deletable": true,
    "editable": true
   },
   "outputs": [
    {
     "name": "stdout",
     "output_type": "stream",
     "text": [
      "entering event loop\n",
      "registering callbacks\n",
      "callback 3 invoked\n",
      "callback 2 invoked\n",
      "callback 1 invoked\n",
      "closing event loop\n"
     ]
    }
   ],
   "source": [
    "# asyncio_call_later.py\n",
    "\n",
    "import asyncio\n",
    "\n",
    "def callback(n):\n",
    "    print('callback {} invoked'.format(n))\n",
    "    \n",
    "async def main(loop):\n",
    "    print('registering callbacks')\n",
    "    loop.call_later(0.2, callback, 1)\n",
    "    loop.call_later(0.1, callback, 2)\n",
    "    loop.call_soon(callback, 3)\n",
    "    \n",
    "    await asyncio.sleep(0.4)\n",
    "    \n",
    "event_loop = asyncio.get_event_loop()\n",
    "try:\n",
    "    print('entering event loop')\n",
    "    event_loop.run_until_complete(main(event_loop))\n",
    "finally:\n",
    "    print('closing event loop')\n",
    "    # event_loop.close()"
   ]
  },
  {
   "cell_type": "markdown",
   "metadata": {
    "deletable": true,
    "editable": true
   },
   "source": [
    "### Scheduling a Callback for a Specific Time\n",
    "Use `time()` method of event loop to start the internal state of clock; event loop uses a monotonic clock, not a wall-clock time, to ensure that value of \"now\" never regresses."
   ]
  },
  {
   "cell_type": "code",
   "execution_count": 7,
   "metadata": {
    "collapsed": false,
    "deletable": true,
    "editable": true
   },
   "outputs": [
    {
     "name": "stdout",
     "output_type": "stream",
     "text": [
      "entering event loop\n",
      "clock time: 1488725101.1836066\n",
      "loop  time: 52733.020541308\n",
      "registering callbacks\n",
      "callback 3 invoked at 52733.021640027\n",
      "closing event loop\n"
     ]
    }
   ],
   "source": [
    "# asyncio_call_at.py\n",
    "\n",
    "import asyncio\n",
    "import time\n",
    "\n",
    "\n",
    "def callback(n, loop):\n",
    "    print('callback {} invoked at {}'.format(n, loop.time()))\n",
    "    \n",
    "    \n",
    "async def main(loop):\n",
    "    now = loop.time()\n",
    "    print('clock time: {}'.format(time.time()))\n",
    "    print('loop  time: {}'.format(now))\n",
    "    \n",
    "    print('registering callbacks')\n",
    "    loop.call_at(now + 0.2, callback, 1, loop)\n",
    "    loop.call_at(now + 0.1, callback, 2, loop)\n",
    "    loop.call_soon(callback, 3, loop)\n",
    "    \n",
    "    await asyncio.sleep(0)\n",
    "    \n",
    "\n",
    "event_loop = asyncio.get_event_loop()\n",
    "try:\n",
    "    print('entering event loop')\n",
    "    event_loop.run_until_complete(main(event_loop))\n",
    "finally:\n",
    "    print('closing event loop')\n",
    "    # event_loop.close()"
   ]
  },
  {
   "cell_type": "markdown",
   "metadata": {
    "deletable": true,
    "editable": true
   },
   "source": [
    "## Producing Results Asynchronously\n",
    "Future - the result of work that has not been completed yet.\n",
    "\n",
    "### Waiting for a Future\n"
   ]
  },
  {
   "cell_type": "code",
   "execution_count": 8,
   "metadata": {
    "collapsed": false,
    "deletable": true,
    "editable": true
   },
   "outputs": [
    {
     "name": "stdout",
     "output_type": "stream",
     "text": [
      "scheduling mark done\n",
      "entering event loop\n",
      "setting future result to 'the result'\n",
      "callback 2 invoked at 52735.059753043\n",
      "callback 1 invoked at 52735.059868977\n",
      "returning result: 'the result'\n",
      "closing event loop\n",
      "future result: 'the result'\n"
     ]
    }
   ],
   "source": [
    "# asyncio_future_event_loop.py\n",
    "import asyncio\n",
    "\n",
    "\n",
    "def mark_done(future, result):\n",
    "    print('setting future result to {!r}'.format(result))\n",
    "    future.set_result(result)\n",
    "\n",
    "    \n",
    "event_loop = asyncio.get_event_loop()\n",
    "try:\n",
    "    all_done = asyncio.Future()\n",
    "    \n",
    "    print('scheduling mark done')\n",
    "    event_loop.call_soon(mark_done, all_done, 'the result')\n",
    "    \n",
    "    print('entering event loop')\n",
    "    result = event_loop.run_until_complete(all_done)\n",
    "    print('returning result: {!r}'.format(result))\n",
    "finally:\n",
    "    print('closing event loop')\n",
    "    # event_loop.close()\n",
    "\n",
    "\n",
    "print('future result: {!r}'.format(all_done.result()))"
   ]
  },
  {
   "cell_type": "markdown",
   "metadata": {
    "deletable": true,
    "editable": true
   },
   "source": [
    "The result of the Future is returned by **`await`**."
   ]
  },
  {
   "cell_type": "code",
   "execution_count": 9,
   "metadata": {
    "collapsed": false,
    "deletable": true,
    "editable": true
   },
   "outputs": [
    {
     "name": "stdout",
     "output_type": "stream",
     "text": [
      "scheduling mark_done\n",
      "setting future result to 'the result'\n",
      "returned result: 'the result'\n"
     ]
    }
   ],
   "source": [
    "# asyncio_future_await.py\n",
    "import asyncio\n",
    "\n",
    "\n",
    "def mark_done(future, result):\n",
    "    print('setting future result to {!r}'.format(result))\n",
    "    future.set_result(result)\n",
    "    \n",
    "\n",
    "async def main(loop):\n",
    "    all_done = asyncio.Future()\n",
    "    \n",
    "    print('scheduling mark_done')\n",
    "    loop.call_soon(mark_done, all_done, 'the result')\n",
    "    \n",
    "    result = await all_done\n",
    "    print('returned result: {!r}'.format(result))\n",
    "    \n",
    "\n",
    "event_loop = asyncio.get_event_loop()\n",
    "try:\n",
    "    event_loop.run_until_complete(main(event_loop))\n",
    "finally:\n",
    "    pass\n",
    "    # event_loop.close()"
   ]
  },
  {
   "cell_type": "markdown",
   "metadata": {
    "deletable": true,
    "editable": true
   },
   "source": [
    "A Future can invoke callbacks when it is completed."
   ]
  },
  {
   "cell_type": "code",
   "execution_count": 10,
   "metadata": {
    "collapsed": false,
    "deletable": true,
    "editable": true
   },
   "outputs": [
    {
     "name": "stdout",
     "output_type": "stream",
     "text": [
      "registering callbacks on future\n",
      "setting result of future\n",
      "1: future done: the result\n",
      "2: future done: the result\n"
     ]
    }
   ],
   "source": [
    "# asyncio_future_callback.py\n",
    "\n",
    "import asyncio\n",
    "import functools\n",
    "\n",
    "\n",
    "def callback(future, n):\n",
    "    print('{}: future done: {}'.format(n, future.result()))\n",
    "    \n",
    "    \n",
    "async def register_callbacks(all_done):\n",
    "    print('registering callbacks on future')\n",
    "    all_done.add_done_callback(functools.partial(callback, n=1))\n",
    "    all_done.add_done_callback(functools.partial(callback, n=2))\n",
    "    \n",
    "\n",
    "async def main(all_done):\n",
    "    await register_callbacks(all_done)\n",
    "    print('setting result of future')\n",
    "    all_done.set_result('the result')\n",
    "    \n",
    "    \n",
    "event_loop = asyncio.get_event_loop()\n",
    "try:\n",
    "    all_done = asyncio.Future()\n",
    "    event_loop.run_until_complete(main(all_done))\n",
    "finally:\n",
    "    pass\n",
    "    #event_loop.close()"
   ]
  },
  {
   "cell_type": "markdown",
   "metadata": {
    "deletable": true,
    "editable": true
   },
   "source": [
    "## Executing Tasks Concurrently \n",
    "Tasks - subclasses of Future, other coroutines can wait for them and each has a result."
   ]
  },
  {
   "cell_type": "markdown",
   "metadata": {
    "deletable": true,
    "editable": true
   },
   "source": [
    "### Starting a Task \n",
    "The resulting task will run as part of the concurrent operation"
   ]
  },
  {
   "cell_type": "code",
   "execution_count": 11,
   "metadata": {
    "collapsed": false,
    "deletable": true,
    "editable": true
   },
   "outputs": [
    {
     "name": "stdout",
     "output_type": "stream",
     "text": [
      "creating task\n",
      "waiting for <Task pending coro=<task_func() running at <ipython-input-11-e37780e9485b>:4>>\n",
      "in task_func\n",
      "task completed <Task finished coro=<task_func() done, defined at <ipython-input-11-e37780e9485b>:4> result='the result'>\n",
      "return value: 'the result'\n"
     ]
    }
   ],
   "source": [
    "import asyncio\n",
    "\n",
    "\n",
    "async def task_func():\n",
    "    print('in task_func')\n",
    "    return 'the result'\n",
    "\n",
    "\n",
    "async def main(loop):\n",
    "    print('creating task')\n",
    "    task = loop.create_task(task_func())\n",
    "    print('waiting for {!r}'.format(task))\n",
    "    return_value = await task\n",
    "    print('task completed {!r}'.format(task))\n",
    "    print('return value: {!r}'.format(return_value))\n",
    "    \n",
    "\n",
    "event_loop = asyncio.get_event_loop()\n",
    "try:\n",
    "    event_loop.run_until_complete(main(event_loop))\n",
    "finally:\n",
    "    pass\n",
    "    # event_loop.close()"
   ]
  },
  {
   "cell_type": "markdown",
   "metadata": {
    "deletable": true,
    "editable": true
   },
   "source": [
    "### Canceling a Task"
   ]
  },
  {
   "cell_type": "code",
   "execution_count": 12,
   "metadata": {
    "collapsed": false,
    "deletable": true,
    "editable": true
   },
   "outputs": [
    {
     "name": "stdout",
     "output_type": "stream",
     "text": [
      "creating task\n",
      "canceling task\n",
      "canceled task <Task cancelling coro=<task_func() running at <ipython-input-12-cf37153fb0f9>:6>>\n",
      "caught error from canceled task\n"
     ]
    }
   ],
   "source": [
    "# asyncio_cancel_task.py\n",
    "\n",
    "import asyncio\n",
    "\n",
    "\n",
    "async def task_func():\n",
    "    print('in task_func')\n",
    "    return 'the result'\n",
    "\n",
    "\n",
    "async def main(loop):\n",
    "    print('creating task')\n",
    "    task = loop.create_task(task_func())\n",
    "    \n",
    "    print('canceling task')\n",
    "    task.cancel()\n",
    "    \n",
    "    print('canceled task {!r}'.format(task))\n",
    "    try:\n",
    "        await task\n",
    "    except  asyncio.CancelledError:\n",
    "        print('caught error from canceled task')\n",
    "    else:\n",
    "        print('task result: {!r}'.format(task.result()))\n",
    "\n",
    "\n",
    "event_loop = asyncio.get_event_loop()\n",
    "try:\n",
    "    event_loop.run_until_complete(main(event_loop))\n",
    "finally:\n",
    "    pass\n",
    "    # event_loop.close()"
   ]
  },
  {
   "cell_type": "markdown",
   "metadata": {
    "deletable": true,
    "editable": true
   },
   "source": [
    "If a task is canceled while it is waiting for another concurrent operation, the task is notified of its cancellation by having a CancelledError exception raised at the point where it is waiting."
   ]
  },
  {
   "cell_type": "code",
   "execution_count": 13,
   "metadata": {
    "collapsed": false,
    "deletable": true,
    "editable": true
   },
   "outputs": [
    {
     "name": "stdout",
     "output_type": "stream",
     "text": [
      "creating task\n",
      "in task_func\n",
      "in task_canceller\n",
      "canceled the task\n"
     ]
    }
   ],
   "source": [
    "# asyncio_cancel_task2.py\n",
    "import asyncio\n",
    "\n",
    "\n",
    "async def task_fun():\n",
    "    print('in task_func, sleeping')\n",
    "    try:\n",
    "        await asyncio.sleep(1)\n",
    "    except asyncio.CancelledError:\n",
    "        print('task_func was canceled')\n",
    "        raise\n",
    "    return 'the result'\n",
    "\n",
    "    \n",
    "def task_canceller(t):\n",
    "    print('in task_canceller')\n",
    "    t.cancel()\n",
    "    print('canceled the task')\n",
    "\n",
    "\n",
    "async def main(loop):\n",
    "    print('creating task')\n",
    "    task = loop.create_task(task_func())\n",
    "    loop.call_soon(task_canceller, task)\n",
    "    try:\n",
    "        await task\n",
    "    except asyncio.CancelledError:\n",
    "        print('task_func was canceled')\n",
    "        raise\n",
    "    return 'the result'\n",
    "    \n",
    "\n",
    "event_loop = asyncio.get_event_loop()\n",
    "try:\n",
    "    event_loop.run_until_complete(main(event_loop))\n",
    "finally:\n",
    "    pass\n",
    "    # event_loop.close()"
   ]
  },
  {
   "cell_type": "markdown",
   "metadata": {
    "deletable": true,
    "editable": true
   },
   "source": [
    "### Creating Tasks from Coroutines"
   ]
  },
  {
   "cell_type": "markdown",
   "metadata": {
    "deletable": true,
    "editable": true
   },
   "source": [
    "**`ensure_future()`** returns a Task ties to the execution of a coroutine."
   ]
  },
  {
   "cell_type": "code",
   "execution_count": 14,
   "metadata": {
    "collapsed": false,
    "deletable": true,
    "editable": true
   },
   "outputs": [
    {
     "name": "stdout",
     "output_type": "stream",
     "text": [
      "entering event loop\n",
      "starter: creating task\n",
      "starter: waiting for inner\n",
      "inner: starting\n",
      "inner: waiting for <Task pending coro=<wrapped() running at <ipython-input-14-c267531fe386>:5>>\n",
      "wrapped\n",
      "inner: task returned <Task finished coro=<wrapped() done, defined at <ipython-input-14-c267531fe386>:5> result='result'>\n",
      "starter: inner returned\n"
     ]
    }
   ],
   "source": [
    "# asyncio_ensure_future.py\n",
    "import asyncio\n",
    "\n",
    "\n",
    "async def wrapped():\n",
    "    print('wrapped')\n",
    "    return 'result'\n",
    "\n",
    "\n",
    "async def inner(task):\n",
    "    print('inner: starting')\n",
    "    print('inner: waiting for {!r}'.format(task))\n",
    "    result = await task\n",
    "    print('inner: task returned {!r}'.format(task))\n",
    "    \n",
    "    \n",
    "async def starter():\n",
    "    print('starter: creating task')\n",
    "    task = asyncio.ensure_future(wrapped())\n",
    "    print('starter: waiting for inner')\n",
    "    await inner(task)\n",
    "    print('starter: inner returned')\n",
    "    \n",
    "\n",
    "event_loop = asyncio.get_event_loop()\n",
    "try:\n",
    "    print('entering event loop')\n",
    "    result = event_loop.run_until_complete(starter())\n",
    "finally:\n",
    "    pass\n",
    "    # event_loop.close()\n",
    "\n"
   ]
  },
  {
   "cell_type": "markdown",
   "metadata": {
    "deletable": true,
    "editable": true
   },
   "source": [
    "## Composing Coroutines with Control Structures\n",
    "\n",
    "### Waiting for Multiple Coroutines\n",
    "dividing one operation into many parts and execute them separately."
   ]
  },
  {
   "cell_type": "code",
   "execution_count": 15,
   "metadata": {
    "collapsed": false,
    "deletable": true,
    "editable": true
   },
   "outputs": [
    {
     "name": "stdout",
     "output_type": "stream",
     "text": [
      "starting main\n",
      "waiting for phases to complete\n",
      "in phase 1\n",
      "in phase 2\n",
      "in phase 0\n",
      "done with phase 0\n",
      "done with phase 1\n",
      "done with phase 2\n",
      "results: ['phase 2 result', 'phase 0 result', 'phase 1 result']\n"
     ]
    }
   ],
   "source": [
    "# asyncio_wait.py\n",
    "\n",
    "import asyncio\n",
    "\n",
    "\n",
    "async def phase(i):\n",
    "    print('in phase {}'.format(i))\n",
    "    await asyncio.sleep(0.1 * i)\n",
    "    print('done with phase {}'.format(i))\n",
    "    return 'phase {} result'.format(i)\n",
    "\n",
    "\n",
    "async def main(num_phases):\n",
    "    print('starting main')\n",
    "    phases = [\n",
    "        phase(i)\n",
    "        for i in range(num_phases)\n",
    "    ]\n",
    "    print('waiting for phases to complete')\n",
    "    completed, pending = await asyncio.wait(phases)\n",
    "    results = [t.result() for t in completed]\n",
    "    print('results: {!r}'.format(results))\n",
    "    \n",
    "event_loop = asyncio.get_event_loop()\n",
    "try:\n",
    "    event_loop.run_until_complete(main(3))\n",
    "finally:\n",
    "    pass\n",
    "    # event_loop.close()"
   ]
  },
  {
   "cell_type": "code",
   "execution_count": 16,
   "metadata": {
    "collapsed": false,
    "deletable": true,
    "editable": true
   },
   "outputs": [
    {
     "name": "stdout",
     "output_type": "stream",
     "text": [
      "starting main\n",
      "waiting 0.1 for phases to complete\n",
      "in phase 1\n",
      "in phase 2\n",
      "in phase 0\n",
      "done with phase 0\n",
      "1 completed and 2 pending\n",
      "canceling tasks\n",
      "exiting main\n",
      "phase 1 canceled\n",
      "phase 2 canceled\n"
     ]
    }
   ],
   "source": [
    "# asyncio_wait_timeout.py\n",
    "import asyncio\n",
    "\n",
    "\n",
    "async def phase(i):\n",
    "    print('in phase {}'.format(i))\n",
    "    try:\n",
    "        await asyncio.sleep(0.1 * i)\n",
    "    except asyncio.CancelledError:\n",
    "        print('phase {} canceled'.format(i))\n",
    "        raise\n",
    "    else:\n",
    "        print('done with phase {}'.format(i))\n",
    "        return 'phase {} result'.format(i)\n",
    "\n",
    "\n",
    "async def main(num_phases):\n",
    "    print('starting main')\n",
    "    phases = [\n",
    "        phase(i)\n",
    "        for i in range(num_phases)\n",
    "    ]\n",
    "    print('waiting 0.1 for phases to complete')\n",
    "    completed, pending = await asyncio.wait(phases, timeout=0.1)\n",
    "    print('{} completed and {} pending'.format(\n",
    "        len(completed), len(pending),\n",
    "    ))\n",
    "   \n",
    "    if pending:\n",
    "        print('canceling tasks')\n",
    "        for t in pending:\n",
    "            t.cancel()\n",
    "    print('exiting main')\n",
    "\n",
    "\n",
    "event_loop = asyncio.get_event_loop()\n",
    "try:\n",
    "    event_loop.run_until_complete(main(3))\n",
    "finally:\n",
    "    pass\n",
    "    # event_loop.close()\n"
   ]
  },
  {
   "cell_type": "markdown",
   "metadata": {
    "deletable": true,
    "editable": true
   },
   "source": [
    "### Gathering Results from Coroutines"
   ]
  },
  {
   "cell_type": "code",
   "execution_count": 17,
   "metadata": {
    "collapsed": false,
    "deletable": true,
    "editable": true
   },
   "outputs": [
    {
     "name": "stdout",
     "output_type": "stream",
     "text": [
      "starting main\n",
      "waiting for phases to complete\n",
      "in phase2\n",
      "in phase1\n",
      "done with phase2\n",
      "done with phase1\n",
      "results: ['phase1 result', 'phase2 result']\n"
     ]
    }
   ],
   "source": [
    "# asyncio_gather.py\n",
    "import asyncio\n",
    "\n",
    "\n",
    "async def phase1():\n",
    "    print('in phase1')\n",
    "    await asyncio.sleep(2)\n",
    "    print('done with phase1')\n",
    "    return 'phase1 result'\n",
    "\n",
    "\n",
    "async def phase2():\n",
    "    print('in phase2')\n",
    "    await asyncio.sleep(1)\n",
    "    print('done with phase2')\n",
    "    return 'phase2 result'\n",
    "\n",
    "\n",
    "async def main():\n",
    "    print('starting main')\n",
    "    print('waiting for phases to complete')\n",
    "    results = await asyncio.gather(\n",
    "        phase1(),\n",
    "        phase2(),\n",
    "    )\n",
    "    print('results: {!r}'.format(results))\n",
    "\n",
    "\n",
    "event_loop = asyncio.get_event_loop()\n",
    "try:\n",
    "    event_loop.run_until_complete(main())\n",
    "finally:\n",
    "    pass\n",
    "    # event_loop.close()"
   ]
  },
  {
   "cell_type": "markdown",
   "metadata": {
    "deletable": true,
    "editable": true
   },
   "source": [
    "### Handling Background Operations as They Finish"
   ]
  },
  {
   "cell_type": "code",
   "execution_count": 18,
   "metadata": {
    "collapsed": false,
    "deletable": true,
    "editable": true,
    "scrolled": true
   },
   "outputs": [
    {
     "name": "stdout",
     "output_type": "stream",
     "text": [
      "starting main\n",
      "waiting for phases to complete\n",
      "in phase 2\n",
      "in phase 1\n",
      "in phase 0\n",
      "done with phase 2\n",
      "received answer 'phase 2 result'\n",
      "done with phase 1\n",
      "received answer 'phase 1 result'\n",
      "done with phase 0\n",
      "received answer 'phase 0 result'\n",
      "results: ['phase 2 result', 'phase 1 result', 'phase 0 result']\n"
     ]
    }
   ],
   "source": [
    "# asyncio_as_completed.py\n",
    "import asyncio\n",
    "\n",
    "\n",
    "async def phase(i):\n",
    "    print('in phase {}'.format(i))\n",
    "    await asyncio.sleep(0.5 - (0.1 * i))\n",
    "    print('done with phase {}'.format(i))\n",
    "    return 'phase {} result'.format(i)\n",
    "\n",
    "\n",
    "async def main(num_phases):\n",
    "    print('starting main')\n",
    "    phases = [\n",
    "        phase(i)\n",
    "        for i in range(num_phases)\n",
    "    ]\n",
    "    print('waiting for phases to complete')\n",
    "    results = []\n",
    "    for next_to_complete in asyncio.as_completed(phases):\n",
    "        answer = await next_to_complete\n",
    "        print('received answer {!r}'.format(answer))\n",
    "        results.append(answer)\n",
    "    print('results: {!r}'.format(results))\n",
    "    return results\n",
    "\n",
    "\n",
    "event_loop = asyncio.get_event_loop()\n",
    "try:\n",
    "    event_loop.run_until_complete(main(3))\n",
    "finally:\n",
    "    pass\n",
    "    # event_loop.close()"
   ]
  },
  {
   "cell_type": "markdown",
   "metadata": {
    "collapsed": true,
    "deletable": true,
    "editable": true
   },
   "source": [
    "## Synchronization Primitives\n",
    "- `asyncio` applications as a single-threaded process are built as concurrent applications. \n",
    "- To safe concurrency, asyncio includes implementations of low-level primitives in the `threading` and `multiprocoessing` modules. "
   ]
  },
  {
   "cell_type": "markdown",
   "metadata": {
    "deletable": true,
    "editable": true
   },
   "source": [
    "### Locks"
   ]
  },
  {
   "cell_type": "code",
   "execution_count": 19,
   "metadata": {
    "collapsed": false,
    "deletable": true,
    "editable": true
   },
   "outputs": [
    {
     "name": "stdout",
     "output_type": "stream",
     "text": [
      "acquiring the lock before starting coroutines\n",
      "lock acquired: True\n",
      "waiting for coroutines\n",
      "coro1 waiting for the lock\n",
      "coro2 waiting for the lock\n",
      "callback releasing lock\n",
      "coro1 acquired lock\n",
      "coro1 released lock\n",
      "coro2 acquired lock\n",
      "coro2 released lock\n"
     ]
    }
   ],
   "source": [
    "# asyncio_lock.py\n",
    "import asyncio\n",
    "import functools\n",
    "\n",
    "\n",
    "def unlock(lock):\n",
    "    print('callback releasing lock')\n",
    "    lock.release()\n",
    "\n",
    "    \n",
    "async def coro1(lock):\n",
    "    print('coro1 waiting for the lock')\n",
    "    with await lock:\n",
    "        print('coro1 acquired lock')\n",
    "    print('coro1 released lock')\n",
    "    \n",
    "\n",
    "async def coro2(lock):\n",
    "    print('coro2 waiting for the lock')\n",
    "    await lock\n",
    "    try:\n",
    "        print('coro2 acquired lock')\n",
    "    finally:\n",
    "        print('coro2 released lock')\n",
    "        lock.release()\n",
    "        \n",
    "\n",
    "async def main(loop):\n",
    "    # Create\n",
    "    lock = asyncio.Lock()\n",
    "    print('acquiring the lock before starting coroutines')\n",
    "    await lock.acquire()\n",
    "    print('lock acquired: {}'.format(lock.locked()))\n",
    "\n",
    "    # Schedule a callback to unlock the lock\n",
    "    loop.call_later(0.1, functools.partial(unlock, lock))\n",
    "    \n",
    "    # Run\n",
    "    print('waiting for coroutines')\n",
    "    await asyncio.wait([coro1(lock), coro2(lock)])\n",
    "    \n",
    "\n",
    "event_loop = asyncio.get_event_loop()\n",
    "try:\n",
    "    event_loop.run_until_complete(main(event_loop))\n",
    "finally:\n",
    "    pass\n",
    "    # event_loop.close()"
   ]
  },
  {
   "cell_type": "markdown",
   "metadata": {
    "deletable": true,
    "editable": true
   },
   "source": [
    "### Events\n",
    "`asyncio.Event` is based on `threading.Event` and is used to allow multiple consumers to wait something to happen"
   ]
  },
  {
   "cell_type": "code",
   "execution_count": 20,
   "metadata": {
    "collapsed": false,
    "deletable": true,
    "editable": true
   },
   "outputs": [
    {
     "name": "stdout",
     "output_type": "stream",
     "text": [
      "event start state: False\n",
      "coro1 waiting for event\n",
      "coro2 waiting for event\n",
      "setting event in callback\n",
      "coro1 triggered\n",
      "coro2 triggered\n",
      "event end state: True\n"
     ]
    }
   ],
   "source": [
    "# asyncio_event.py\n",
    "\n",
    "import asyncio\n",
    "import functools\n",
    "\n",
    "\n",
    "def set_event(event):\n",
    "    print('setting event in callback')\n",
    "    event.set()\n",
    "    \n",
    "\n",
    "async def coro1(event):\n",
    "    print('coro1 waiting for event')\n",
    "    await event.wait()\n",
    "    print('coro1 triggered')\n",
    "    \n",
    "    \n",
    "async def coro2(event):\n",
    "    print('coro2 waiting for event')\n",
    "    await event.wait()\n",
    "    print('coro2 triggered')\n",
    "    \n",
    "\n",
    "async def main(loop):\n",
    "    event = asyncio.Event()\n",
    "    print('event start state: {}'.format(event.is_set()))\n",
    "    \n",
    "    loop.call_later(\n",
    "        0.1,\n",
    "        functools.partial(set_event, event)\n",
    "    )\n",
    "    \n",
    "    await asyncio.wait([coro1(event), coro2(event)])\n",
    "    print('event end state: {}'.format(event.is_set()))\n",
    "\n",
    "    \n",
    "event_loop = asyncio.get_event_loop()\n",
    "try:\n",
    "    event_loop.run_until_complete(main(event_loop))\n",
    "finally:\n",
    "    pass\n",
    "    #event_loop.close()"
   ]
  },
  {
   "cell_type": "markdown",
   "metadata": {
    "deletable": true,
    "editable": true
   },
   "source": [
    "### Conditions\n",
    "`condition` is used to notify all waiting coroutines the number of waiters awakened is controlled with an argument to `notify()`"
   ]
  },
  {
   "cell_type": "code",
   "execution_count": 21,
   "metadata": {
    "collapsed": false,
    "deletable": true,
    "editable": true
   },
   "outputs": [
    {
     "name": "stdout",
     "output_type": "stream",
     "text": [
      "starting manipulate_condition\n",
      "consumer 0 is waiting\n",
      "consumer 2 is waiting\n",
      "consumer 3 is waiting\n",
      "consumer 1 is waiting\n",
      "consumer 4 is waiting\n",
      "notifying 1 consumers\n",
      "consumer 0 is triggered\n",
      "ending consumer 0\n",
      "notifying 2 consumers\n",
      "consumer 2 is triggered\n",
      "ending consumer 2\n",
      "consumer 3 is triggered\n",
      "ending consumer 3\n",
      "notifying remaining consumers\n",
      "ending manipulate_condition\n",
      "consumer 1 is triggered\n",
      "ending consumer 1\n",
      "consumer 4 is triggered\n",
      "ending consumer 4\n"
     ]
    }
   ],
   "source": [
    "# asyncio_condition.py\n",
    "\n",
    "import asyncio\n",
    "\n",
    "async def consumer(condition, n):\n",
    "    with await condition:\n",
    "        print('consumer {} is waiting'.format(n))\n",
    "        await condition.wait()\n",
    "        print('consumer {} is triggered'.format(n))\n",
    "    print('ending consumer {}'.format(n))\n",
    "    \n",
    "\n",
    "async def manipulate_condition(condition):\n",
    "    print('starting manipulate_condition')\n",
    "    \n",
    "    # pause to let consumers start\n",
    "    await asyncio.sleep(0.1)\n",
    "    \n",
    "    for i in range(1, 3):\n",
    "        with await condition:\n",
    "            print('notifying {} consumers'.format(i))\n",
    "            condition.notify(n=i)\n",
    "        await asyncio.sleep(0.1)\n",
    "\n",
    "    with await condition:\n",
    "        print('notifying remaining consumers')\n",
    "        condition.notify_all()\n",
    "    \n",
    "    print('ending manipulate_condition')\n",
    "    \n",
    "async def main(loop):\n",
    "    # Create a condition\n",
    "    condition = asyncio.Condition()\n",
    "    \n",
    "    # Set up tasks watching the condition\n",
    "    consumers = [\n",
    "        consumer(condition, i)\n",
    "        for i in range(5)\n",
    "    ]\n",
    "    \n",
    "    loop.create_task(manipulate_condition(condition))\n",
    "    \n",
    "    # Wait for the consumers to be done\n",
    "    await asyncio.wait(consumers)\n",
    "    \n",
    "event_loop = asyncio.get_event_loop()\n",
    "try:\n",
    "    result = event_loop.run_until_complete(main(event_loop))\n",
    "finally:\n",
    "    pass\n",
    "    # event_loop.close()"
   ]
  },
  {
   "cell_type": "markdown",
   "metadata": {
    "deletable": true,
    "editable": true
   },
   "source": [
    "### Queue"
   ]
  },
  {
   "cell_type": "code",
   "execution_count": 22,
   "metadata": {
    "collapsed": false,
    "deletable": true,
    "editable": true
   },
   "outputs": [
    {
     "name": "stdout",
     "output_type": "stream",
     "text": [
      "consumer 0: starting\n",
      "consumer 0: waiting for item\n",
      "consumer 1: starting\n",
      "consumer 1: waiting for item\n",
      "producer: starting\n",
      "consumer 0: has item 0\n",
      "consumer 1: has item 1\n",
      "consumer 0: waiting for item\n",
      "consumer 0: has item 2\n",
      "consumer 1: waiting for item\n",
      "consumer 1: has item 3\n",
      "producer: adding stop signals to the queue\n",
      "consumer 0: waiting for item\n",
      "consumer 0: has item 4\n",
      "consumer 1: waiting for item\n",
      "consumer 1: has item 5\n",
      "prodocer: waiting for queue to empty\n",
      "consumer 0: waiting for item\n",
      "consumer 0: has item None\n",
      "consumer 0: ending\n",
      "consumer 1: waiting for item\n",
      "consumer 1: has item None\n",
      "consumer 1: ending\n",
      "producer: ending\n"
     ]
    }
   ],
   "source": [
    "# asyncio_queue.py\n",
    "\n",
    "import asyncio\n",
    "\n",
    "async def consumer(n, q):\n",
    "    print('consumer {}: starting'.format(n))\n",
    "    while True:\n",
    "        print('consumer {}: waiting for item'.format(n))\n",
    "        item = await q.get()\n",
    "        print('consumer {}: has item {}'.format(n, item))\n",
    "        if item is None:\n",
    "            q.task_done()\n",
    "            break\n",
    "        else:\n",
    "            await asyncio.sleep(0.01 * item)\n",
    "            q.task_done()\n",
    "    print('consumer {}: ending'.format(n))\n",
    "    \n",
    "\n",
    "async def producer(q, num_workers):\n",
    "    print('producer: starting')\n",
    "    # Add some numbers to the queue to simulate jobs\n",
    "    for i in range(num_workers * 3):\n",
    "        await q.put(i)\n",
    "        \n",
    "    print('producer: adding stop signals to the queue')\n",
    "    for i in range(num_workers):\n",
    "        await q.put(None)\n",
    "    print('prodocer: waiting for queue to empty')\n",
    "    await q.join()\n",
    "    print('producer: ending')\n",
    "\n",
    "\n",
    "async def main(loop, num_consumers):\n",
    "    q = asyncio.Queue(maxsize=num_consumers)\n",
    "    \n",
    "    # Schedule the consumer tasks\n",
    "    consumers = [\n",
    "        loop.create_task(consumer(i, q))\n",
    "        for i in range(num_consumers)\n",
    "    ]\n",
    "    \n",
    "    # Schedule the producer task\n",
    "    prod = loop.create_task(producer(q, num_consumers))\n",
    "\n",
    "    # Wait for all of the coroutines to finish.\n",
    "    await asyncio.wait(consumers + [prod])\n",
    "\n",
    "    \n",
    "event_loop = asyncio.get_event_loop()\n",
    "try:\n",
    "    event_loop.run_until_complete(main(event_loop, 2))\n",
    "finally:\n",
    "    pass\n",
    "    # event_loop.close()"
   ]
  },
  {
   "cell_type": "markdown",
   "metadata": {
    "collapsed": true,
    "deletable": true,
    "editable": true
   },
   "source": [
    "## Asynchronous I/O with Protocol Class Abstractions\n",
    "Sample Echo Server and Client"
   ]
  },
  {
   "cell_type": "markdown",
   "metadata": {
    "deletable": true,
    "editable": true
   },
   "source": [
    "### Echo Server"
   ]
  },
  {
   "cell_type": "code",
   "execution_count": null,
   "metadata": {
    "collapsed": false,
    "deletable": true,
    "editable": true
   },
   "outputs": [],
   "source": [
    "# asyncio_echo_server_protocol.py\n",
    "\n",
    "import asyncio\n",
    "import logging\n",
    "import sys\n",
    "\n",
    "SERVER_ADDRESS = ('localhost', 10000)\n",
    "\n",
    "logging.basicConfig(\n",
    "    level=logging.DEBUG,\n",
    "    format='%(name)s: %(message)s',\n",
    "    stream=sys.stderr,\n",
    ")\n",
    "log = logging.getLogger('main')\n",
    "\n",
    "event_loop = asyncio.get_event_loop()\n",
    "\n",
    "\n",
    "# The protocol object's methods are invoked based on events associated with\n",
    "# the server socket.\n",
    "class EchoServer(asyncio.Protocol):\n",
    "    # each new client connection triggers a call to `connection_made()`\n",
    "    def connection_made(self, transport):\n",
    "        self.transport = transport\n",
    "        self.address = transport.get_extra_info('peername')\n",
    "        self.log = logging.getLogger(\n",
    "            'EchoServer_{}_{}'.format(*self.address)\n",
    "        )\n",
    "        self.log.debug('connection accepted')\n",
    "\n",
    "    # after a connection, when data is sent from the client to the server the\n",
    "    # `data_received()` method of the protocol is invoked to pass the data in\n",
    "    # for processing\n",
    "    def data_received(self, data):\n",
    "        self.log.debug('received {!r}'.format(data))\n",
    "        self.transport.write(data)\n",
    "        self.log.debug('sent {!r}'.format(data))\n",
    "\n",
    "    # When an EOF is encountered, the `eof_received()` method is called\n",
    "    def eof_received(self):\n",
    "        self.log.debug('received EOF')\n",
    "        if self.transport.can_write_eof():\n",
    "            self.transport.write_eof()\n",
    "\n",
    "    def connection_lost(self, error):\n",
    "        if error:\n",
    "            self.log.error('ERROR: {}'.format(error))\n",
    "        else:\n",
    "            self.log.debug('closing')\n",
    "        super().connection_lost(error)\n",
    "\n",
    "\n",
    "# Create the server and let the loop finish the coroutine before\n",
    "# starting the real event loop.\n",
    "factory = event_loop.create_server(EchoServer, *SERVER_ADDRESS)\n",
    "server = event_loop.run_until_complete(factory)\n",
    "log.debug('starting up on {} port {}'.format(*SERVER_ADDRESS))\n",
    "\n",
    "try:\n",
    "    # the event loop needs to be run in order to process events and handle\n",
    "    # client requets.\n",
    "    event_loop.run_forever()\n",
    "finally:\n",
    "    # When the event loop is stopped\n",
    "    log.debug('closing server')\n",
    "    server.close()\n",
    "    event_loop.run_until_complete(server.wait_closed())\n",
    "    log.debug('closing event loop')\n",
    "    event_loop.close()"
   ]
  },
  {
   "cell_type": "markdown",
   "metadata": {
    "deletable": true,
    "editable": true
   },
   "source": [
    "### Echo Client"
   ]
  },
  {
   "cell_type": "code",
   "execution_count": null,
   "metadata": {
    "collapsed": true,
    "deletable": true,
    "editable": true
   },
   "outputs": [],
   "source": [
    "#asyncio_echo_client_protocol.py\n",
    "\n",
    "\n",
    "import asyncio\n",
    "import functools\n",
    "import logging\n",
    "import sys\n",
    "\n",
    "MESSAGES = [\n",
    "    b'This is the message. ',\n",
    "    b'It will be sent ',\n",
    "    b'in parts.',\n",
    "]\n",
    "SERVER_ADDRESS = ('localhost', 10000)\n",
    "\n",
    "logging.basicConfig(\n",
    "    level=logging.DEBUG,\n",
    "    format='%(name)s: %(message)s',\n",
    "    stream=sys.stderr,\n",
    ")\n",
    "\n",
    "log = logging.getLogger('main')\n",
    "\n",
    "event_loop = asyncio.get_event_loop()\n",
    "\n",
    "class EchoClient(asyncio.Protocol):\n",
    "    # the class constructor accepts two args\n",
    "    #  - a list of the messages to send\n",
    "    #  - a Future instance to use to signal that the client has completed a\n",
    "    #  cycle of work by receiving a response from the server\n",
    "    def __init__(self, messages, future):\n",
    "        super().__init__()\n",
    "        self.messages = messages\n",
    "        self.log = logging.getLogger('EchoClient')\n",
    "        self.f = future\n",
    "\n",
    "    def connection_made(self, transport):\n",
    "        self.transport = transport\n",
    "        self.address = transport.get_extra_info('peername')\n",
    "        self.log.debug(\n",
    "            'connecting to {} port {}'.format(*self.address)\n",
    "        )\n",
    "        # This could be transport.writelines() except that\n",
    "        # would make it harder to show each part of the message\n",
    "        # being sent.\n",
    "        for msg in self.messages:\n",
    "            transport.write(msg)\n",
    "            self.log.debug('sending {!r}'.format(msg))\n",
    "        if transport.can_write_eof():\n",
    "            transport.write_eof()\n",
    "\n",
    "    def data_received(self, data):\n",
    "        self.log.debug('received {!r}'.format(data))\n",
    "\n",
    "    # when either an end-of-file marker is received or the connection is closed\n",
    "    # from the server's side, the local transport object is closed and the\n",
    "    # future object is marked as done by sending a result\n",
    "    def eof_received(self):\n",
    "        self.log.debug('received EOF')\n",
    "        self.transport.close()\n",
    "        if not self.f.done():\n",
    "            self.f.set_result(True)\n",
    "\n",
    "    def connection_lost(self, exc):\n",
    "        self.log.debug('server closed connection')\n",
    "        self.transport.close()\n",
    "        if not self.f.done():\n",
    "            self.f.set_result(True)\n",
    "        super().connection_lost(exc)\n",
    "\n",
    "# Normally the protocol class is passed to the event loop to create the\n",
    "# connection. In this case, the event loop has no facility for passing extra\n",
    "# arguments to the protocol constructor, it is necessary to create a partial to\n",
    "# wrap the client class and pass the list of messages to send and the Future\n",
    "# instance.\n",
    "client_completed = asyncio.Future()\n",
    "\n",
    "client_factory = functools.partial(\n",
    "    EchoClient,\n",
    "    messages=MESSAGES,\n",
    "    future=client_completed,\n",
    ")\n",
    "\n",
    "factory_coroutine = event_loop.create_connection(\n",
    "    client_factory,\n",
    "    *SERVER_ADDRESS,\n",
    ")\n",
    "\n",
    "log.debug('waiting for client to complete')\n",
    "try:\n",
    "    event_loop.run_until_complete(factory_coroutine)\n",
    "    event_loop.run_until_complete(client_completed)\n",
    "finally:\n",
    "    log.debug('closing event loop')\n",
    "    event_loop.close()"
   ]
  },
  {
   "cell_type": "markdown",
   "metadata": {
    "deletable": true,
    "editable": true
   },
   "source": [
    "## Asynchronous I/O Using Coroutines and Streams"
   ]
  },
  {
   "cell_type": "markdown",
   "metadata": {
    "deletable": true,
    "editable": true
   },
   "source": [
    "### Echo Server"
   ]
  },
  {
   "cell_type": "code",
   "execution_count": null,
   "metadata": {
    "collapsed": true,
    "deletable": true,
    "editable": true
   },
   "outputs": [],
   "source": [
    "# asyncio_echo_server_coroutine.py\n",
    "\n",
    "import asyncio\n",
    "import logging\n",
    "import sys\n",
    "\n",
    "SERVER_ADDRESS = ('localhost', 10000)\n",
    "logging.basicConfig(\n",
    "    level=logging.DEBUG,\n",
    "    format='%(name)s: %(message)s',\n",
    "    stream=sys.stderr,\n",
    ")\n",
    "log = logging.getLogger('main')\n",
    "\n",
    "event_loop = asyncio.get_event_loop()\n",
    "\n",
    "async def echo(reader, writer):\n",
    "    address = writer.get_extra_info('peername')\n",
    "    log = logging.getLogger('echo_{}_{}'.format(*address))\n",
    "    log.debug('connection accepted')\n",
    "    while True:\n",
    "        data = await reader.read(128)\n",
    "\n",
    "        if data:\n",
    "            log.debug('received {!r}'.format(data))\n",
    "            writer.write(data)\n",
    "            log.debug('sent {!r}'.format(data))\n",
    "        else:\n",
    "            log.debug('closing')\n",
    "            writer.close()\n",
    "            return\n",
    "\n",
    "factory = asyncio.start_server(echo, *SERVER_ADDRESS)\n",
    "server = event_loop.run_until_complete(factory)\n",
    "log.debug('starting up on {} port {}'.format(*SERVER_ADDRESS))\n",
    "\n",
    "# Enter the event loop permantly to handle all connections.\n",
    "try:\n",
    "    event_loop.run_forever()\n",
    "except KeyboardInterrupt:\n",
    "    pass\n",
    "finally:\n",
    "    log.debug('closing server')\n",
    "    server.close()\n",
    "    event_loop.run_until_complete(server.wait_closed())\n",
    "    log.debug('closing event loop')\n",
    "    event_loop.close()"
   ]
  },
  {
   "cell_type": "markdown",
   "metadata": {
    "deletable": true,
    "editable": true
   },
   "source": [
    "### Echo Client"
   ]
  },
  {
   "cell_type": "code",
   "execution_count": null,
   "metadata": {
    "collapsed": true,
    "deletable": true,
    "editable": true
   },
   "outputs": [],
   "source": [
    "#asyncio_echo_client_protocol.py\n",
    "\n",
    "\n",
    "import asyncio\n",
    "import functools\n",
    "import logging\n",
    "import sys\n",
    "\n",
    "MESSAGES = [\n",
    "    b'This is the message. ',\n",
    "    b'It will be sent ',\n",
    "    b'in parts.',\n",
    "]\n",
    "SERVER_ADDRESS = ('localhost', 10000)\n",
    "\n",
    "logging.basicConfig(\n",
    "    level=logging.DEBUG,\n",
    "    format='%(name)s: %(message)s',\n",
    "    stream=sys.stderr,\n",
    ")\n",
    "\n",
    "log = logging.getLogger('main')\n",
    "\n",
    "event_loop = asyncio.get_event_loop()\n",
    "\n",
    "class EchoClient(asyncio.Protocol):\n",
    "    # the class constructor accepts two args\n",
    "    #  - a list of the messages to send\n",
    "    #  - a Future instance to use to signal that the client has completed a\n",
    "    #  cycle of work by receiving a response from the server\n",
    "    def __init__(self, messages, future):\n",
    "        super().__init__()\n",
    "        self.messages = messages\n",
    "        self.log = logging.getLogger('EchoClient')\n",
    "        self.f = future\n",
    "\n",
    "    def connection_made(self, transport):\n",
    "        self.transport = transport\n",
    "        self.address = transport.get_extra_info('peername')\n",
    "        self.log.debug(\n",
    "            'connecting to {} port {}'.format(*self.address)\n",
    "        )\n",
    "        # This could be transport.writelines() except that\n",
    "        # would make it harder to show each part of the message\n",
    "        # being sent.\n",
    "        for msg in self.messages:\n",
    "            transport.write(msg)\n",
    "            self.log.debug('sending {!r}'.format(msg))\n",
    "        if transport.can_write_eof():\n",
    "            transport.write_eof()\n",
    "\n",
    "    def data_received(self, data):\n",
    "        self.log.debug('received {!r}'.format(data))\n",
    "\n",
    "    # when either an end-of-file marker is received or the connection is closed\n",
    "    # from the server's side, the local transport object is closed and the\n",
    "    # future object is marked as done by sending a result\n",
    "    def eof_received(self):\n",
    "        self.log.debug('received EOF')\n",
    "        self.transport.close()\n",
    "        if not self.f.done():\n",
    "            self.f.set_result(True)\n",
    "\n",
    "    def connection_lost(self, exc):\n",
    "        self.log.debug('server closed connection')\n",
    "        self.transport.close()\n",
    "        if not self.f.done():\n",
    "            self.f.set_result(True)\n",
    "        super().connection_lost(exc)\n",
    "\n",
    "# Normally the protocol class is passed to the event loop to create the\n",
    "# connection. In this case, the event loop has no facility for passing extra\n",
    "# arguments to the protocol constructor, it is necessary to create a partial to\n",
    "# wrap the client class and pass the list of messages to send and the Future\n",
    "# instance.\n",
    "client_completed = asyncio.Future()\n",
    "\n",
    "client_factory = functools.partial(\n",
    "    EchoClient,\n",
    "    messages=MESSAGES,\n",
    "    future=client_completed,\n",
    ")\n",
    "\n",
    "factory_coroutine = event_loop.create_connection(\n",
    "    client_factory,\n",
    "    *SERVER_ADDRESS,\n",
    ")\n",
    "\n",
    "log.debug('waiting for client to complete')\n",
    "try:\n",
    "    event_loop.run_until_complete(factory_coroutine)\n",
    "    event_loop.run_until_complete(client_completed)\n",
    "finally:\n",
    "    log.debug('closing event loop')\n",
    "    event_loop.close()"
   ]
  },
  {
   "cell_type": "markdown",
   "metadata": {
    "deletable": true,
    "editable": true
   },
   "source": [
    "## Using SSL (Skip)"
   ]
  },
  {
   "cell_type": "markdown",
   "metadata": {
    "deletable": true,
    "editable": true
   },
   "source": [
    "## Interacting with Domain Name Service (Skip)"
   ]
  }
 ],
 "metadata": {
  "kernelspec": {
   "display_name": "Python 3",
   "language": "python",
   "name": "python3"
  },
  "language_info": {
   "codemirror_mode": {
    "name": "ipython",
    "version": 3
   },
   "file_extension": ".py",
   "mimetype": "text/x-python",
   "name": "python",
   "nbconvert_exporter": "python",
   "pygments_lexer": "ipython3",
   "version": "3.6.0"
  }
 },
 "nbformat": 4,
 "nbformat_minor": 2
}
