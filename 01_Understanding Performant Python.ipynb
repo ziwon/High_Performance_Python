{
 "cells": [
  {
   "cell_type": "markdown",
   "metadata": {
    "collapsed": true
   },
   "source": [
    "## The Fundamental Computer System\n",
    "Three basic parts: the computing units, the memory units, and the communications layers between them.\n",
    "\n",
    "### Computing Units\n",
    "\n",
    "- IPC (Instruction Per Cycle): The number of operations it can done in one cycle (ex. vectorization, SIMD - single instruction, multiple data)\n",
    "- Clock Speed: How many cycles it can do in one second\n",
    "- Hyperthreading: A virtual second CPU to the host OS\n",
    " - Interleave two threads of instructions into the execution units on a single CPU (ex. floating-point operations and integer operations)\n",
    "- Out-of-order execution: Not depend on the previous results (ex. waiting for a memory access)\n",
    "- Multicore architecture\n",
    " - Amdahl's law: Some routines that must run on one core will be the bottleneck for the final speedup of adding more cores.\n",
    " - GIL (Global Interpreter Lock, one instruction at a time) in Python is a major hurdle with utilizing multiple cores\n",
    "  - Even with 100 question askers, only one could ask a question at a time\n",
    "  - Can be avoided by `multiprocessing`, `numexpr`, `Cython` or distributed computing \n",
    "  \n",
    "### Memory Units\n",
    "\n",
    "- Used to store bits: variables, the pixels of an image\n",
    "- The read/write speed is depend on the way the data is being read\n",
    "- *Sequential Read* is much better than *Random Data*\n",
    "- Latency is big on the hard drive and is small on RAM\n",
    "- The types of various memory units: Spinning hard drive, Solid stae hard drive, RAM, L1/L2 cache\n",
    "\n",
    "### Communications Layers\n",
    "\n",
    "- frontside bus: between RAM and the L1/L2 cache\n",
    "- backside bus: from cache to CPU \n",
    "- external bus: the routes from hardware devices to the CPU and system memory\n",
    "- GPU as a peripheral device communiates through the PCI bus.\n",
    "- the network is limited than the frontside bus which transfers gigabits per second\n",
    "- **bus width**: how much data can be moved in one transfer\n",
    "- **bud frequencey**: how many transfer it can do per second"
   ]
  },
  {
   "cell_type": "markdown",
   "metadata": {},
   "source": [
    "## Putting the Fundamental Elements Together\n",
    "\n",
    "### Idealized Computing Versus the Python Virtual Machine"
   ]
  },
  {
   "cell_type": "code",
   "execution_count": 1,
   "metadata": {
    "collapsed": false
   },
   "outputs": [
    {
     "name": "stdout",
     "output_type": "stream",
     "text": [
      "check_prime(10000000) =  False\n",
      "check_prime(10000019) =  True\n"
     ]
    }
   ],
   "source": [
    "# checks if a number is prime\n",
    "import math\n",
    "def check_prime(number):\n",
    "    sqrt_number = math.sqrt(number)\n",
    "    number_float = float(number)\n",
    "    for i in range(2, int(sqrt_number) + 1):\n",
    "        if (number_float / i).is_integer():\n",
    "            return False\n",
    "    return True\n",
    "\n",
    "print(\"check_prime(10000000) = \", check_prime(10000000))\n",
    "print(\"check_prime(10000019) = \", check_prime(10000019))"
   ]
  },
  {
   "cell_type": "markdown",
   "metadata": {},
   "source": [
    "- The value of `number` stored in RAM\n",
    "- Send the value to the CPU to calculate `sqrt_number` and `number_float`\n",
    "- Optimization: \n",
    " - Reads from the L1/L2 cache: for minimizing the number of reads of the value of `number` from RAM\n",
    " - The faster backside bus: for minimizing the number of date transfers through the frontside bus\n",
    "- Vectorizatoin:\n",
    " - send it both `number_float` and several values of `i` to check at the same time\n",
    " - devide them and check the result for each of the `number_float/i` pairs"
   ]
  },
  {
   "cell_type": "code",
   "execution_count": null,
   "metadata": {
    "collapsed": true
   },
   "outputs": [],
   "source": [
    "# concept code\n",
    "import math\n",
    "def check_prime(number):\n",
    "    sqrt_number = math.sqrt(number)\n",
    "    number_float = float(number)\n",
    "    numbers = range(2, int(sqrt_number) + 1)\n",
    "    for i in range(0, len(numbers), 5):\n",
    "        # the following line is not valid Python code\n",
    "        result = (number_float / numbers[i:(i+5)]).is_integer()\n",
    "        if any(result):\n",
    "    return False"
   ]
  },
  {
   "cell_type": "markdown",
   "metadata": {},
   "source": [
    "### Python's virtual machine\n",
    "\n",
    "- A benefit of Python comes with a huge performance cost\n",
    " - ex) no worry about allocating memory for array, how to arrange that memory or in what sequence it is being sent\n",
    "\n",
    "- `search_fast` is better than `search_slow` in performace\n",
    " - by skipping the unnecessary computations.even though both code is O(n)"
   ]
  },
  {
   "cell_type": "code",
   "execution_count": null,
   "metadata": {
    "collapsed": true
   },
   "outputs": [],
   "source": [
    "def search_fast(haystack, needle):\n",
    "    for item in haystack:\n",
    "        if item == needle:\n",
    "            return True\n",
    "    return False\n",
    "\n",
    "def search_slow(haystack, needle):\n",
    "    return_value = False\n",
    "    for item in haystack:\n",
    "        if item == needle:\n",
    "            return_value = True\n",
    "    return return_value"
   ]
  },
  {
   "cell_type": "markdown",
   "metadata": {},
   "source": [
    "- Python's abstraction\n",
    " - Python's GC creates memory fragmentation that can hurt the transfers to the CPU caches (ex. L1/L2)\n",
    " - No way to change the layout of a data structure optimatically and directly in memory\n",
    "- Python is not dynamic types and not compiled\n",
    " - No chance to optimize its intructions or data structures with compiler.\n",
    " - Not compiled and code functionality which can be changed during runtime. \n",
    "- Because of GIL, only once core can be used at a time even in parallellized code."
   ]
  }
 ],
 "metadata": {
  "kernelspec": {
   "display_name": "Python 3",
   "language": "python",
   "name": "python3"
  },
  "language_info": {
   "codemirror_mode": {
    "name": "ipython",
    "version": 3
   },
   "file_extension": ".py",
   "mimetype": "text/x-python",
   "name": "python",
   "nbconvert_exporter": "python",
   "pygments_lexer": "ipython3",
   "version": "3.5.2"
  }
 },
 "nbformat": 4,
 "nbformat_minor": 0
}
