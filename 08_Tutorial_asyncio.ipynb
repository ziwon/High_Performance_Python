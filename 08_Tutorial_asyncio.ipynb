{
 "cells": [
  {
   "cell_type": "markdown",
   "metadata": {
    "collapsed": true,
    "deletable": true,
    "editable": true
   },
   "source": [
    "### [AsyncIO for the Working Python Developer](https://hackernoon.com/asyncio-for-the-working-python-developer-5c468e6e2e8e#.q6900g3w2)\n",
    "                                           \n",
    "Then I found [asyncio](https://docs.python.org/dev/library/asyncio.html), and everything changed."
   ]
  },
  {
   "cell_type": "markdown",
   "metadata": {
    "collapsed": true,
    "deletable": true,
    "editable": true
   },
   "source": [
    "- **event loop**: manages and distributes the execution of different tasks\n",
    "\n",
    "- **Coroutines**: generators that on yield they release the flow of control back to the event loop. A coroutine needs to be scheduled to run using the event loop, to do this we create a *Task*, which is a type of Future.\n",
    "\n",
    "- **Futures**: objects that represent the result of a task that may or may not have been executed. "
   ]
  },
  {
   "cell_type": "markdown",
   "metadata": {},
   "source": [
    "[Concurrency is not parallelism, it’s better](https://www.youtube.com/watch?v=cN_DpYBzKso)\n",
    "- **Parallelism**: just breaking down tasks into concurrent subtasks.\n",
    "- **Concurrency**: the scheduling of these subtasks that creates parallelism.\n",
    "\n",
    "**Asyncio** dose that concurrency, with structuring subtasks are defined as coroutines and allows you to schedule them, including simutaneously."
   ]
  },
  {
   "cell_type": "markdown",
   "metadata": {},
   "source": [
    "### Synchronous & Asynchronous Execution\n",
    "**yield** from on another coroutine:\n",
    " - give the control back to the event loop\n",
    " - in this case `sleep` will yield and \n",
    " - the event loop will switch contexts to the next task scheduled for execution: bar "
   ]
  },
  {
   "cell_type": "code",
   "execution_count": 1,
   "metadata": {
    "collapsed": false
   },
   "outputs": [
    {
     "name": "stdout",
     "output_type": "stream",
     "text": [
      "Runing in foo\n",
      "Explicit context to bar\n",
      "Explicit context switch to foo again\n",
      "Implicit context switch back to bar\n"
     ]
    },
    {
     "data": {
      "text/plain": [
       "({<Task finished coro=<foo() done, defined at <ipython-input-1-035a604a3e03>:3> result=None>,\n",
       "  <Task finished coro=<bar() done, defined at <ipython-input-1-035a604a3e03>:9> result=None>},\n",
       " set())"
      ]
     },
     "execution_count": 1,
     "metadata": {},
     "output_type": "execute_result"
    }
   ],
   "source": [
    "import asyncio\n",
    "\n",
    "@asyncio.coroutine\n",
    "def foo():\n",
    "    print('Runing in foo')\n",
    "    yield from asyncio.sleep(0)\n",
    "    print ('Explicit context switch to foo again')\n",
    "    \n",
    "@asyncio.coroutine\n",
    "def bar():\n",
    "    print('Explicit context to bar')\n",
    "    yield from asyncio.sleep(0)\n",
    "    print('Implicit context switch back to bar')\n",
    "    \n",
    "ioloop = asyncio.get_event_loop()\n",
    "tasks = [ioloop.create_task(foo()), ioloop.create_task(bar())]\n",
    "wait_tasks = asyncio.wait(tasks)\n",
    "ioloop.run_until_complete(wait_tasks)\n",
    "#ioloop.close()"
   ]
  },
  {
   "cell_type": "markdown",
   "metadata": {},
   "source": [
    "> While the two blocking tasks are blocked a third one can take control of the flow."
   ]
  },
  {
   "cell_type": "code",
   "execution_count": 2,
   "metadata": {
    "collapsed": false
   },
   "outputs": [
    {
     "name": "stdout",
     "output_type": "stream",
     "text": [
      "gr1 started work: at 0.0 seconds\n",
      "gr2 started work: at 0.0 seconds\n",
      "Let's do some stuff while the coroutines are blocked, at 0.0 seconds\n",
      "Done!\n",
      "gr1 ended work: at 2.0 seconds\n",
      "gr2 Ended work: at 2.0 seconds\n"
     ]
    },
    {
     "data": {
      "text/plain": [
       "({<Task finished coro=<gr3() done, defined at <ipython-input-2-023dec6d6210>:23> result=None>,\n",
       "  <Task finished coro=<gr2() done, defined at <ipython-input-2-023dec6d6210>:16> result=None>,\n",
       "  <Task finished coro=<gr1() done, defined at <ipython-input-2-023dec6d6210>:9> result=None>},\n",
       " set())"
      ]
     },
     "execution_count": 2,
     "metadata": {},
     "output_type": "execute_result"
    }
   ],
   "source": [
    "import time\n",
    "import asyncio\n",
    "\n",
    "start = time.time()\n",
    "\n",
    "def tic():\n",
    "    return 'at %1.1f seconds' % (time.time() - start)\n",
    "\n",
    "@asyncio.coroutine\n",
    "def gr1():\n",
    "    # Busy waits for a second, but we don't want to stick around...\n",
    "    print('gr1 started work: {}'.format(tic()))\n",
    "    yield from asyncio.sleep(2)\n",
    "    print('gr1 ended work: {}'.format(tic()))\n",
    "\n",
    "@asyncio.coroutine\n",
    "def gr2():\n",
    "    # Busy waits for a second, but we don't want to stick around...\n",
    "    print('gr2 started work: {}'.format(tic()))\n",
    "    yield from asyncio.sleep(2)\n",
    "    print('gr2 Ended work: {}'.format(tic()))\n",
    "\n",
    "@asyncio.coroutine\n",
    "def gr3():\n",
    "    print(\"Let's do some stuff while the coroutines are blocked, {}\".format(tic()))\n",
    "    yield from asyncio.sleep(1)\n",
    "    print(\"Done!\")\n",
    "    \n",
    "ioloop = asyncio.get_event_loop()\n",
    "tasks = [\n",
    "    ioloop.create_task(gr1()),\n",
    "    ioloop.create_task(gr2()),\n",
    "    ioloop.create_task(gr3())\n",
    "]\n",
    "ioloop.run_until_complete(asyncio.wait(tasks))\n",
    "#ioloop.close()"
   ]
  },
  {
   "cell_type": "markdown",
   "metadata": {},
   "source": [
    "### Order of execution\n",
    "Some tasks finish in different order than they were scheduled. asyncio does not magically make things non-blocking."
   ]
  },
  {
   "cell_type": "code",
   "execution_count": 3,
   "metadata": {
    "collapsed": false
   },
   "outputs": [
    {
     "name": "stdout",
     "output_type": "stream",
     "text": [
      "Synchronous:\n",
      "Task 1 done\n",
      "Task 2 done\n",
      "Task 3 done\n",
      "Task 4 done\n",
      "Task 5 done\n",
      "Task 6 done\n",
      "Task 7 done\n",
      "Task 8 done\n",
      "Task 9 done\n",
      "Asynchronous:\n",
      "Task 4 done\n",
      "Task 5 done\n",
      "Task 3 done\n",
      "Task 6 done\n",
      "Task 7 done\n",
      "Task 8 done\n",
      "Task 1 done\n",
      "Task 2 done\n",
      "Task 9 done\n"
     ]
    }
   ],
   "source": [
    "import random\n",
    "from time import sleep\n",
    "import asyncio\n",
    "\n",
    "def task(pid):\n",
    "    \"\"\"\n",
    "    Some non-deterministic task\n",
    "    \"\"\"\n",
    "    sleep(random.randint(0, 2) * 0.001)\n",
    "    print('Task %s done' % pid)\n",
    "    \n",
    "@asyncio.coroutine\n",
    "def task_coro(pid):\n",
    "    \"\"\"\n",
    "    Some non-deterministic task\n",
    "    \"\"\"\n",
    "    yield from asyncio.sleep(random.randint(0, 2) * 0.001)\n",
    "    print('Task %s done' % pid)\n",
    "\n",
    "    \n",
    "def synchronous():\n",
    "    for i in range(1, 10):\n",
    "        task(i)\n",
    "\n",
    "        \n",
    "@asyncio.coroutine\n",
    "def asynchronous():\n",
    "    tasks = [asyncio.async(task_coro(i)) for i in range(1, 10)]\n",
    "    yield from asyncio.wait(tasks)\n",
    "\n",
    "\n",
    "print('Synchronous:')\n",
    "synchronous()\n",
    "\n",
    "ioloop = asyncio.get_event_loop()\n",
    "print('Asynchronous:')\n",
    "ioloop.run_until_complete(asynchronous())"
   ]
  },
  {
   "cell_type": "markdown",
   "metadata": {},
   "source": [
    "> The result is that requesting and retrieving the result of all requests takes only as long as the slowest request."
   ]
  },
  {
   "cell_type": "code",
   "execution_count": 4,
   "metadata": {
    "collapsed": false
   },
   "outputs": [
    {
     "name": "stdout",
     "output_type": "stream",
     "text": [
      "Synchronous:\n",
      "Fetch sync process 1 started\n",
      "Process 1: Fri, 17 Feb 2017 14:33:17 GMT, took: 1.45 seconds\n",
      "Fetch sync process 2 started\n",
      "Process 2: Fri, 17 Feb 2017 14:33:18 GMT, took: 1.20 seconds\n",
      "Fetch sync process 3 started\n",
      "Process 3: Fri, 17 Feb 2017 14:33:20 GMT, took: 1.30 seconds\n",
      "Process took: 3.96 seconds\n",
      "Asynchronous:\n",
      "Fetch async process 1 started.\n",
      "Fetch async process 2 started.\n",
      "Fetch async process 3 started.\n",
      "Process 3: Fri, 17 Feb 2017 14:33:21 GMT, took: 1.12 seconds\n",
      "Process 2: Fri, 17 Feb 2017 14:33:21 GMT, took: 1.25 seconds\n",
      "Process 1: Fri, 17 Feb 2017 14:33:21 GMT, took: 1.32 seconds\n",
      "Process took: 1.32 seconds\n"
     ]
    }
   ],
   "source": [
    "import time\n",
    "import urllib.request\n",
    "import asyncio\n",
    "import aiohttp\n",
    "\n",
    "URL = 'https://api.github.com/events'\n",
    "MAX_CLIENTS = 3\n",
    "\n",
    "def fetch_sync(pid):\n",
    "    print('Fetch sync process {} started'.format(pid))\n",
    "    start = time.time()\n",
    "    response = urllib.request.urlopen(URL)\n",
    "    datetime = response.getheader('Date')\n",
    "\n",
    "    print('Process {}: {}, took: {:.2f} seconds'.format(pid, datetime, time.time() - start))\n",
    "    \n",
    "    return datetime\n",
    "\n",
    "@asyncio.coroutine\n",
    "def fetch_async(pid):\n",
    "    print('Fetch async process {} started.'.format(pid))\n",
    "    start = time.time()\n",
    "    response = yield from aiohttp.request('GET', URL)\n",
    "    datetime = response.headers.get('Date')\n",
    "    \n",
    "    print('Process {}: {}, took: {:.2f} seconds'.format(pid, datetime, time.time() - start))\n",
    "    \n",
    "    response.close()\n",
    "    return datetime\n",
    "\n",
    "def synchronous():\n",
    "    start = time.time()\n",
    "    for i in range(1, MAX_CLIENTS + 1):\n",
    "        fetch_sync(i)\n",
    "    print(\"Process took: {:.2f} seconds\".format(time.time() - start))\n",
    "    \n",
    "@asyncio.coroutine\n",
    "def asynchronous():\n",
    "    start = time.time()\n",
    "    # gathering the corouintes into a list. \n",
    "    tasks = [asyncio.ensure_future(fetch_async(i)) for i in range(1, MAX_CLIENTS + 1)]\n",
    "    yield from asyncio.wait(tasks)\n",
    "    print(\"Process took: {:.2f} seconds\".format(time.time() - start))\n",
    "\n",
    "print('Synchronous:')\n",
    "synchronous()\n",
    "\n",
    "print('Asynchronous:')\n",
    "ioloop = asyncio.get_event_loop()\n",
    "ioloop.run_until_complete(asynchronous())\n",
    "#ioloop.close()"
   ]
  },
  {
   "cell_type": "markdown",
   "metadata": {},
   "source": [
    "### Creating concurrency\n",
    "Coroutines can be scheduled to run or retrieve their results in different ways. Imagine a scenario where we need to process the results of the HTTP GET requests as soon as they arrive."
   ]
  },
  {
   "cell_type": "code",
   "execution_count": 5,
   "metadata": {
    "collapsed": false
   },
   "outputs": [
    {
     "name": "stdout",
     "output_type": "stream",
     "text": [
      "Fetch async process 3 started, sleeping for 3 seconds\n",
      "Fetch async process 1 started, sleeping for 2 seconds\n",
      "Fetch async process 2 started, sleeping for 3 seconds\n",
      ">> Process 1: Fri, 17 Feb 2017 14:33:32 GMT, took: 3.24 seconds\n",
      ">>>> Process 2: Fri, 17 Feb 2017 14:33:33 GMT, took: 4.78 seconds\n",
      ">>>>>> Process 3: Fri, 17 Feb 2017 14:33:33 GMT, took: 4.86 seconds\n",
      "Process took: 4.86 seconds\n"
     ]
    }
   ],
   "source": [
    "import time\n",
    "import random\n",
    "import asyncio\n",
    "import aiohttp\n",
    "\n",
    "URL = 'https://api.github.com/events'\n",
    "MAX_CLIENTS = 3\n",
    "\n",
    "@asyncio.coroutine\n",
    "def fetch_async(pid):\n",
    "    start = time.time()\n",
    "    sleepy_time = random.randint(2, 5)\n",
    "    print('Fetch async process {} started, sleeping for {} seconds'\n",
    "          .format(pid, sleepy_time))\n",
    "    \n",
    "    yield from asyncio.sleep(sleepy_time)\n",
    "    \n",
    "    response = yield from aiohttp.request('GET', URL)\n",
    "    datetime = response.headers.get('Date')\n",
    "    \n",
    "    response.close()\n",
    "    return 'Process {}: {}, took: {:.2f} seconds'.format(pid, datetime, time.time() - start)\n",
    "    \n",
    "@asyncio.coroutine\n",
    "def asynchronous():\n",
    "    start = time.time()\n",
    "    futures = [fetch_async(i) for i in range(1, MAX_CLIENTS + 1)]\n",
    "    for i, future in enumerate(asyncio.as_completed(futures)):\n",
    "        result = yield from future\n",
    "        print('{} {}'.format(\">>\" * (i + 1), result))\n",
    "        \n",
    "    print(\"Process took: {:.2f} seconds\".format(time.time() - start))\n",
    "    \n",
    "\n",
    "ioloop = asyncio.get_event_loop()\n",
    "ioloop.run_until_complete(asynchronous())\n",
    "#ioloop.close()"
   ]
  },
  {
   "cell_type": "markdown",
   "metadata": {},
   "source": [
    "> `as_completed` and `wait` are both functions originally from `concurrent.futures`."
   ]
  },
  {
   "cell_type": "markdown",
   "metadata": {},
   "source": [
    "Sending concurrent requests to each service and pick the first one that responds using parameter **`return_when`** of **`wait`** method."
   ]
  },
  {
   "cell_type": "code",
   "execution_count": 7,
   "metadata": {
    "collapsed": false
   },
   "outputs": [
    {
     "name": "stdout",
     "output_type": "stream",
     "text": [
      "Fetching IP from ip-api\n",
      "Fetching IP from ipify\n",
      "ip-api finished with result: 119.64.234.10, took: 1.05 seconds\n"
     ]
    }
   ],
   "source": [
    "from collections import namedtuple\n",
    "import time\n",
    "import asyncio\n",
    "from concurrent.futures import FIRST_COMPLETED\n",
    "import aiohttp\n",
    "\n",
    "Service = namedtuple('Service', ('name', 'url', 'ip_attr'))\n",
    "\n",
    "SERVICES = (\n",
    "    Service('ipify', 'https://api.ipify.org?format=json', 'ip'),\n",
    "    Service('ip-api', 'http://ip-api.com/json', 'query')\n",
    ")\n",
    "\n",
    "@asyncio.coroutine\n",
    "def fetch_ip(service):\n",
    "    start = time.time()\n",
    "    print('Fetching IP from {}'.format(service.name))\n",
    "    \n",
    "    response = yield from aiohttp.request('GET', service.url)\n",
    "    json_response = yield from response.json()\n",
    "    ip = json_response[service.ip_attr]\n",
    "    \n",
    "    response.close()\n",
    "    return '{} finished with result: {}, took: {:.2f} seconds'.format(\n",
    "        service.name, ip, time.time() - start)\n",
    "\n",
    "\n",
    "@asyncio.coroutine\n",
    "def asynchronous():\n",
    "    futures = [fetch_ip(service) for service in SERVICES]\n",
    "    done, pending = yield from asyncio.wait(\n",
    "        futures, return_when=FIRST_COMPLETED)\n",
    "    print(done.pop().result())\n",
    "\n",
    "    \n",
    "ioloop = asyncio.get_event_loop()\n",
    "ioloop.run_until_complete(asynchronous())\n",
    "#ioloop.close()"
   ]
  }
 ],
 "metadata": {
  "kernelspec": {
   "display_name": "Python 3",
   "language": "python",
   "name": "python3"
  },
  "language_info": {
   "codemirror_mode": {
    "name": "ipython",
    "version": 3
   },
   "file_extension": ".py",
   "mimetype": "text/x-python",
   "name": "python",
   "nbconvert_exporter": "python",
   "pygments_lexer": "ipython3",
   "version": "3.6.0"
  }
 },
 "nbformat": 4,
 "nbformat_minor": 2
}
