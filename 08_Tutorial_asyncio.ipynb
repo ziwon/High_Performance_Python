{
 "cells": [
  {
   "cell_type": "markdown",
   "metadata": {
    "collapsed": true,
    "deletable": true,
    "editable": true
   },
   "source": [
    "### [AsyncIO for the Working Python Developer](https://hackernoon.com/asyncio-for-the-working-python-developer-5c468e6e2e8e#.q6900g3w2)\n",
    "                                           \n",
    "Then I found [asyncio](https://docs.python.org/dev/library/asyncio.html), and everything changed."
   ]
  },
  {
   "cell_type": "markdown",
   "metadata": {
    "collapsed": true,
    "deletable": true,
    "editable": true
   },
   "source": [
    "- **event loop**: manages and distributes the execution of different tasks\n",
    "\n",
    "- **Coroutines**: generators that on yield they release the flow of control back to the event loop. A coroutine needs to be scheduled to run using the event loop, to do this we create a *Task*, which is a type of Future.\n",
    "\n",
    "- **Futures**: objects that represent the result of a task that may or may not have been executed. "
   ]
  },
  {
   "cell_type": "markdown",
   "metadata": {
    "deletable": true,
    "editable": true
   },
   "source": [
    "[Concurrency is not parallelism, it’s better](https://www.youtube.com/watch?v=cN_DpYBzKso)\n",
    "- **Parallelism**: just breaking down tasks into concurrent subtasks.\n",
    "- **Concurrency**: the scheduling of these subtasks that creates parallelism.\n",
    "\n",
    "**Asyncio** dose that concurrency, with structuring subtasks are defined as coroutines and allows you to schedule them, including simutaneously."
   ]
  },
  {
   "cell_type": "markdown",
   "metadata": {
    "deletable": true,
    "editable": true
   },
   "source": [
    "### Synchronous & Asynchronous Execution\n",
    "**yield** from on another coroutine:\n",
    " - give the control back to the event loop\n",
    " - in this case `sleep` will yield and \n",
    " - the event loop will switch contexts to the next task scheduled for execution: bar "
   ]
  },
  {
   "cell_type": "code",
   "execution_count": 1,
   "metadata": {
    "collapsed": false,
    "deletable": true,
    "editable": true
   },
   "outputs": [
    {
     "name": "stdout",
     "output_type": "stream",
     "text": [
      "Runing in foo\n",
      "Explicit context to bar\n",
      "Explicit context switch to foo again\n",
      "Implicit context switch back to bar\n"
     ]
    },
    {
     "data": {
      "text/plain": [
       "({<Task finished coro=<foo() done, defined at <ipython-input-1-035a604a3e03>:3> result=None>,\n",
       "  <Task finished coro=<bar() done, defined at <ipython-input-1-035a604a3e03>:9> result=None>},\n",
       " set())"
      ]
     },
     "execution_count": 1,
     "metadata": {},
     "output_type": "execute_result"
    }
   ],
   "source": [
    "import asyncio\n",
    "\n",
    "@asyncio.coroutine\n",
    "def foo():\n",
    "    print('Runing in foo')\n",
    "    yield from asyncio.sleep(0)\n",
    "    print ('Explicit context switch to foo again')\n",
    "    \n",
    "@asyncio.coroutine\n",
    "def bar():\n",
    "    print('Explicit context to bar')\n",
    "    yield from asyncio.sleep(0)\n",
    "    print('Implicit context switch back to bar')\n",
    "    \n",
    "ioloop = asyncio.get_event_loop()\n",
    "tasks = [ioloop.create_task(foo()), ioloop.create_task(bar())]\n",
    "wait_tasks = asyncio.wait(tasks)\n",
    "ioloop.run_until_complete(wait_tasks)\n",
    "#ioloop.close()"
   ]
  },
  {
   "cell_type": "markdown",
   "metadata": {
    "deletable": true,
    "editable": true
   },
   "source": [
    "> While the two blocking tasks are blocked a third one can take control of the flow."
   ]
  },
  {
   "cell_type": "code",
   "execution_count": 2,
   "metadata": {
    "collapsed": false,
    "deletable": true,
    "editable": true
   },
   "outputs": [
    {
     "name": "stdout",
     "output_type": "stream",
     "text": [
      "gr1 started work: at 0.0 seconds\n",
      "gr2 started work: at 0.0 seconds\n",
      "Let's do some stuff while the coroutines are blocked, at 0.0 seconds\n",
      "Done!\n",
      "gr1 ended work: at 2.0 seconds\n",
      "gr2 Ended work: at 2.0 seconds\n"
     ]
    },
    {
     "data": {
      "text/plain": [
       "({<Task finished coro=<gr3() done, defined at <ipython-input-2-023dec6d6210>:23> result=None>,\n",
       "  <Task finished coro=<gr2() done, defined at <ipython-input-2-023dec6d6210>:16> result=None>,\n",
       "  <Task finished coro=<gr1() done, defined at <ipython-input-2-023dec6d6210>:9> result=None>},\n",
       " set())"
      ]
     },
     "execution_count": 2,
     "metadata": {},
     "output_type": "execute_result"
    }
   ],
   "source": [
    "import time\n",
    "import asyncio\n",
    "\n",
    "start = time.time()\n",
    "\n",
    "def tic():\n",
    "    return 'at %1.1f seconds' % (time.time() - start)\n",
    "\n",
    "@asyncio.coroutine\n",
    "def gr1():\n",
    "    # Busy waits for a second, but we don't want to stick around...\n",
    "    print('gr1 started work: {}'.format(tic()))\n",
    "    yield from asyncio.sleep(2)\n",
    "    print('gr1 ended work: {}'.format(tic()))\n",
    "\n",
    "@asyncio.coroutine\n",
    "def gr2():\n",
    "    # Busy waits for a second, but we don't want to stick around...\n",
    "    print('gr2 started work: {}'.format(tic()))\n",
    "    yield from asyncio.sleep(2)\n",
    "    print('gr2 Ended work: {}'.format(tic()))\n",
    "\n",
    "@asyncio.coroutine\n",
    "def gr3():\n",
    "    print(\"Let's do some stuff while the coroutines are blocked, {}\".format(tic()))\n",
    "    yield from asyncio.sleep(1)\n",
    "    print(\"Done!\")\n",
    "    \n",
    "ioloop = asyncio.get_event_loop()\n",
    "tasks = [\n",
    "    ioloop.create_task(gr1()),\n",
    "    ioloop.create_task(gr2()),\n",
    "    ioloop.create_task(gr3())\n",
    "]\n",
    "ioloop.run_until_complete(asyncio.wait(tasks))\n",
    "#ioloop.close()"
   ]
  },
  {
   "cell_type": "markdown",
   "metadata": {
    "deletable": true,
    "editable": true
   },
   "source": [
    "### Order of execution\n",
    "Some tasks finish in different order than they were scheduled. asyncio does not magically make things non-blocking."
   ]
  },
  {
   "cell_type": "code",
   "execution_count": 3,
   "metadata": {
    "collapsed": false,
    "deletable": true,
    "editable": true
   },
   "outputs": [
    {
     "name": "stdout",
     "output_type": "stream",
     "text": [
      "Synchronous:\n",
      "Task 1 done\n",
      "Task 2 done\n",
      "Task 3 done\n",
      "Task 4 done\n",
      "Task 5 done\n",
      "Task 6 done\n",
      "Task 7 done\n",
      "Task 8 done\n",
      "Task 9 done\n",
      "Asynchronous:\n",
      "Task 1 done\n",
      "Task 7 done\n",
      "Task 9 done\n",
      "Task 2 done\n",
      "Task 3 done\n",
      "Task 8 done\n",
      "Task 4 done\n",
      "Task 5 done\n",
      "Task 6 done\n"
     ]
    }
   ],
   "source": [
    "import random\n",
    "from time import sleep\n",
    "import asyncio\n",
    "\n",
    "def task(pid):\n",
    "    \"\"\"\n",
    "    Some non-deterministic task\n",
    "    \"\"\"\n",
    "    sleep(random.randint(0, 2) * 0.001)\n",
    "    print('Task %s done' % pid)\n",
    "    \n",
    "@asyncio.coroutine\n",
    "def task_coro(pid):\n",
    "    \"\"\"\n",
    "    Some non-deterministic task\n",
    "    \"\"\"\n",
    "    yield from asyncio.sleep(random.randint(0, 2) * 0.001)\n",
    "    print('Task %s done' % pid)\n",
    "\n",
    "    \n",
    "def synchronous():\n",
    "    for i in range(1, 10):\n",
    "        task(i)\n",
    "\n",
    "        \n",
    "@asyncio.coroutine\n",
    "def asynchronous():\n",
    "    tasks = [asyncio.async(task_coro(i)) for i in range(1, 10)]\n",
    "    yield from asyncio.wait(tasks)\n",
    "\n",
    "\n",
    "print('Synchronous:')\n",
    "synchronous()\n",
    "\n",
    "ioloop = asyncio.get_event_loop()\n",
    "print('Asynchronous:')\n",
    "ioloop.run_until_complete(asynchronous())\n",
    "#ioloop.close()"
   ]
  },
  {
   "cell_type": "markdown",
   "metadata": {
    "deletable": true,
    "editable": true
   },
   "source": [
    "> The result is that requesting and retrieving the result of all requests takes only as long as the slowest request."
   ]
  },
  {
   "cell_type": "code",
   "execution_count": 4,
   "metadata": {
    "collapsed": false,
    "deletable": true,
    "editable": true
   },
   "outputs": [
    {
     "name": "stdout",
     "output_type": "stream",
     "text": [
      "Synchronous:\n",
      "Fetch sync process 1 started\n",
      "Process 1: Fri, 17 Feb 2017 23:27:10 GMT, took: 1.19 seconds\n",
      "Fetch sync process 2 started\n",
      "Process 2: Fri, 17 Feb 2017 23:27:12 GMT, took: 1.08 seconds\n",
      "Fetch sync process 3 started\n",
      "Process 3: Fri, 17 Feb 2017 23:27:13 GMT, took: 1.01 seconds\n",
      "Process took: 3.30 seconds\n",
      "Asynchronous:\n",
      "Fetch async process 1 started.\n",
      "Fetch async process 2 started.\n",
      "Fetch async process 3 started.\n",
      "Process 2: Fri, 17 Feb 2017 23:27:14 GMT, took: 1.00 seconds\n",
      "Process 1: Fri, 17 Feb 2017 23:27:14 GMT, took: 1.02 seconds\n",
      "Process 3: Fri, 17 Feb 2017 23:27:14 GMT, took: 1.06 seconds\n",
      "Process took: 1.08 seconds\n"
     ]
    }
   ],
   "source": [
    "import time\n",
    "import urllib.request\n",
    "import asyncio\n",
    "import aiohttp\n",
    "\n",
    "URL = 'https://api.github.com/events'\n",
    "MAX_CLIENTS = 3\n",
    "\n",
    "def fetch_sync(pid):\n",
    "    print('Fetch sync process {} started'.format(pid))\n",
    "    start = time.time()\n",
    "    response = urllib.request.urlopen(URL)\n",
    "    datetime = response.getheader('Date')\n",
    "\n",
    "    print('Process {}: {}, took: {:.2f} seconds'.format(pid, datetime, time.time() - start))\n",
    "    \n",
    "    return datetime\n",
    "\n",
    "@asyncio.coroutine\n",
    "def fetch_async(pid):\n",
    "    print('Fetch async process {} started.'.format(pid))\n",
    "    start = time.time()\n",
    "    response = yield from aiohttp.request('GET', URL)\n",
    "    datetime = response.headers.get('Date')\n",
    "    \n",
    "    print('Process {}: {}, took: {:.2f} seconds'.format(pid, datetime, time.time() - start))\n",
    "    \n",
    "    response.close()\n",
    "    return datetime\n",
    "\n",
    "def synchronous():\n",
    "    start = time.time()\n",
    "    for i in range(1, MAX_CLIENTS + 1):\n",
    "        fetch_sync(i)\n",
    "    print(\"Process took: {:.2f} seconds\".format(time.time() - start))\n",
    "    \n",
    "@asyncio.coroutine\n",
    "def asynchronous():\n",
    "    start = time.time()\n",
    "    # gathering the corouintes into a list. \n",
    "    tasks = [asyncio.ensure_future(fetch_async(i)) for i in range(1, MAX_CLIENTS + 1)]\n",
    "    yield from asyncio.wait(tasks)\n",
    "    print(\"Process took: {:.2f} seconds\".format(time.time() - start))\n",
    "\n",
    "print('Synchronous:')\n",
    "synchronous()\n",
    "\n",
    "print('Asynchronous:')\n",
    "ioloop = asyncio.get_event_loop()\n",
    "ioloop.run_until_complete(asynchronous())\n",
    "#ioloop.close()"
   ]
  },
  {
   "cell_type": "markdown",
   "metadata": {
    "deletable": true,
    "editable": true
   },
   "source": [
    "### Creating concurrency\n",
    "Coroutines can be scheduled to run or retrieve their results in different ways. Imagine a scenario where we need to process the results of the HTTP GET requests as soon as they arrive."
   ]
  },
  {
   "cell_type": "code",
   "execution_count": 5,
   "metadata": {
    "collapsed": false,
    "deletable": true,
    "editable": true
   },
   "outputs": [
    {
     "name": "stdout",
     "output_type": "stream",
     "text": [
      "Fetch async process 1 started, sleeping for 3 seconds\n",
      "Fetch async process 2 started, sleeping for 5 seconds\n",
      "Fetch async process 3 started, sleeping for 2 seconds\n",
      ">> Process 3: Fri, 17 Feb 2017 23:27:21 GMT, took: 3.01 seconds\n",
      ">>>> Process 1: Fri, 17 Feb 2017 23:27:22 GMT, took: 4.07 seconds\n",
      ">>>>>> Process 2: Fri, 17 Feb 2017 23:27:24 GMT, took: 6.07 seconds\n",
      "Process took: 6.08 seconds\n"
     ]
    }
   ],
   "source": [
    "import time\n",
    "import random\n",
    "import asyncio\n",
    "import aiohttp\n",
    "\n",
    "URL = 'https://api.github.com/events'\n",
    "MAX_CLIENTS = 3\n",
    "\n",
    "@asyncio.coroutine\n",
    "def fetch_async(pid):\n",
    "    start = time.time()\n",
    "    sleepy_time = random.randint(2, 5)\n",
    "    print('Fetch async process {} started, sleeping for {} seconds'\n",
    "          .format(pid, sleepy_time))\n",
    "    \n",
    "    yield from asyncio.sleep(sleepy_time)\n",
    "    \n",
    "    response = yield from aiohttp.request('GET', URL)\n",
    "    datetime = response.headers.get('Date')\n",
    "    \n",
    "    response.close()\n",
    "    return 'Process {}: {}, took: {:.2f} seconds'.format(pid, datetime, time.time() - start)\n",
    "    \n",
    "@asyncio.coroutine\n",
    "def asynchronous():\n",
    "    start = time.time()\n",
    "    futures = [fetch_async(i) for i in range(1, MAX_CLIENTS + 1)]\n",
    "    for i, future in enumerate(asyncio.as_completed(futures)):\n",
    "        result = yield from future\n",
    "        print('{} {}'.format(\">>\" * (i + 1), result))\n",
    "        \n",
    "    print(\"Process took: {:.2f} seconds\".format(time.time() - start))\n",
    "    \n",
    "\n",
    "ioloop = asyncio.get_event_loop()\n",
    "ioloop.run_until_complete(asynchronous())\n",
    "#ioloop.close()"
   ]
  },
  {
   "cell_type": "markdown",
   "metadata": {
    "deletable": true,
    "editable": true
   },
   "source": [
    "> `as_completed` and `wait` are both functions originally from `concurrent.futures`."
   ]
  },
  {
   "cell_type": "markdown",
   "metadata": {
    "deletable": true,
    "editable": true
   },
   "source": [
    "Sending concurrent requests to each service and pick the first one that responds using parameter **`return_when`** of **`wait`** method."
   ]
  },
  {
   "cell_type": "code",
   "execution_count": 6,
   "metadata": {
    "collapsed": false,
    "deletable": true,
    "editable": true
   },
   "outputs": [
    {
     "name": "stdout",
     "output_type": "stream",
     "text": [
      "Fetching IP from ip-api\n",
      "Fetching IP from ipify\n",
      "ip-api finished with result: 119.64.234.10, took: 0.48 seconds\n"
     ]
    }
   ],
   "source": [
    "from collections import namedtuple\n",
    "import time\n",
    "import asyncio\n",
    "from concurrent.futures import FIRST_COMPLETED\n",
    "import aiohttp\n",
    "\n",
    "Service = namedtuple('Service', ('name', 'url', 'ip_attr'))\n",
    "\n",
    "SERVICES = (\n",
    "    Service('ipify', 'https://api.ipify.org?format=json', 'ip'),\n",
    "    Service('ip-api', 'http://ip-api.com/json', 'query')\n",
    ")\n",
    "\n",
    "@asyncio.coroutine\n",
    "def fetch_ip(service):\n",
    "    start = time.time()\n",
    "    print('Fetching IP from {}'.format(service.name))\n",
    "    \n",
    "    response = yield from aiohttp.request('GET', service.url)\n",
    "    json_response = yield from response.json()\n",
    "    ip = json_response[service.ip_attr]\n",
    "    \n",
    "    response.close()\n",
    "    return '{} finished with result: {}, took: {:.2f} seconds'.format(\n",
    "        service.name, ip, time.time() - start)\n",
    "\n",
    "\n",
    "@asyncio.coroutine\n",
    "def asynchronous():\n",
    "    futures = [fetch_ip(service) for service in SERVICES]\n",
    "    done, pending = yield from asyncio.wait(\n",
    "        futures, return_when=FIRST_COMPLETED)\n",
    "    print(done.pop().result())\n",
    "\n",
    "    \n",
    "ioloop = asyncio.get_event_loop()\n",
    "ioloop.run_until_complete(asynchronous())\n",
    "#ioloop.close()"
   ]
  },
  {
   "cell_type": "markdown",
   "metadata": {},
   "source": [
    "### Exception handling\n",
    "Simply using **`try...except`**"
   ]
  },
  {
   "cell_type": "code",
   "execution_count": 7,
   "metadata": {
    "collapsed": false
   },
   "outputs": [
    {
     "name": "stdout",
     "output_type": "stream",
     "text": [
      "Fetching IP from borken\n",
      "Fetching IP from ipify\n",
      "Fetching IP from ip-api\n",
      "borken is unresponsive\n",
      "ipify finished with result: 119.64.234.10, took: 1.02 seconds\n",
      "ip-api finished with result: 119.64.234.10, took: 0.29 seconds\n"
     ]
    }
   ],
   "source": [
    "from collections import namedtuple\n",
    "import time\n",
    "import asyncio\n",
    "import aiohttp\n",
    "\n",
    "Service = namedtuple('Service', ('name', 'url', 'ip_attr'))\n",
    "\n",
    "SERVICES = (\n",
    "    Service('ipify', 'https://api.ipify.org?format=json', 'ip'),\n",
    "    Service('ip-api', 'http://ip-api.com/json', 'query'),\n",
    "    Service('borken', 'http://no-way-this-is-going-to-work.com/json', 'ip')\n",
    ")\n",
    "\n",
    "@asyncio.coroutine\n",
    "def fetch_ip(service):\n",
    "    start = time.time()\n",
    "    print('Fetching IP from {}'.format(service.name))\n",
    "    \n",
    "    try:\n",
    "        response = yield from aiohttp.request('GET', service.url)\n",
    "    except:\n",
    "        return '{} is unresponsive'.format(service.name)\n",
    "    \n",
    "    json_response = yield from response.json()\n",
    "    ip = json_response[service.ip_attr]\n",
    "    \n",
    "    response.close()\n",
    "    return '{} finished with result: {}, took: {:.2f} seconds'.format(\n",
    "        service.name, ip, time.time() - start)\n",
    "\n",
    "\n",
    "@asyncio.coroutine\n",
    "def asynchronous():\n",
    "    futures = [fetch_ip(service) for service in SERVICES]\n",
    "    done, _ = yield from asyncio.wait(futures)\n",
    "    \n",
    "    for future in done:\n",
    "        print(future.result())\n",
    "        \n",
    "ioloop = asyncio.get_event_loop()\n",
    "ioloop.run_until_complete(asynchronous())\n",
    "#ioloop.close()"
   ]
  },
  {
   "cell_type": "markdown",
   "metadata": {},
   "source": [
    "Handling the exceptions for the results of the futures"
   ]
  },
  {
   "cell_type": "code",
   "execution_count": 8,
   "metadata": {
    "collapsed": false
   },
   "outputs": [
    {
     "name": "stdout",
     "output_type": "stream",
     "text": [
      "Fetching IP from borken\n",
      "Fetching IP from ipify\n",
      "Fetching IP from ip-api\n",
      "ipify finished with result: 119.64.234.10, took: 2.13 seconds\n",
      "Unexpected error: Traceback (most recent call last):\n",
      "  File \"<ipython-input-8-12960ffa9feb>\", line 41, in asynchronous\n",
      "    print(future.result())\n",
      "  File \"<ipython-input-8-12960ffa9feb>\", line 27, in fetch_ip\n",
      "    ip = json_response[service.ip_attr]\n",
      "KeyError: 'this-is-not-an-attr'\n",
      "\n",
      "borken is unresponsive\n"
     ]
    }
   ],
   "source": [
    "from collections import namedtuple\n",
    "import time\n",
    "import asyncio\n",
    "import aiohttp\n",
    "import traceback\n",
    "\n",
    "Service = namedtuple('Service', ('name', 'url', 'ip_attr'))\n",
    "\n",
    "SERVICES = (\n",
    "    Service('ipify', 'https://api.ipify.org?format=json', 'ip'),\n",
    "    Service('ip-api', 'http://ip-api.com/json', 'this-is-not-an-attr'),\n",
    "    Service('borken', 'http://no-way-this-is-going-to-work.com/json', 'ip')\n",
    ")\n",
    "\n",
    "\n",
    "@asyncio.coroutine\n",
    "def fetch_ip(service):\n",
    "    start = time.time()\n",
    "    print('Fetching IP from {}'.format(service.name))\n",
    "\n",
    "    try:\n",
    "        response = yield from aiohttp.request('GET', service.url)\n",
    "    except:\n",
    "        return '{} is unresponsive'.format(service.name)\n",
    "\n",
    "    json_response = yield from response.json()\n",
    "    ip = json_response[service.ip_attr]\n",
    "\n",
    "    response.close()\n",
    "    return '{} finished with result: {}, took: {:.2f} seconds'.format(\n",
    "        service.name, ip, time.time() - start)\n",
    "\n",
    "\n",
    "@asyncio.coroutine\n",
    "def asynchronous():\n",
    "    futures = [fetch_ip(service) for service in SERVICES]\n",
    "    done, _ = yield from asyncio.wait(futures)\n",
    "\n",
    "    for future in done:\n",
    "        try:\n",
    "            print(future.result())\n",
    "        except:\n",
    "            print(\"Unexpected error: {}\".format(traceback.format_exc()))\n",
    "\n",
    "\n",
    "ioloop = asyncio.get_event_loop()\n",
    "ioloop.run_until_complete(asynchronous())\n",
    "#ioloop.close()"
   ]
  },
  {
   "cell_type": "markdown",
   "metadata": {},
   "source": [
    "scheduling a task and not retrieving the possible exceptions raised will throw a warning:"
   ]
  },
  {
   "cell_type": "code",
   "execution_count": 9,
   "metadata": {
    "collapsed": false
   },
   "outputs": [
    {
     "name": "stdout",
     "output_type": "stream",
     "text": [
      "Fetching IP from ipify\n",
      "Fetching IP from ip-api\n",
      "Fetching IP from borken\n",
      "borken is unresponsive\n"
     ]
    },
    {
     "name": "stderr",
     "output_type": "stream",
     "text": [
      "Task exception was never retrieved\n",
      "future: <Task finished coro=<fetch_ip() done, defined at <ipython-input-9-9c6b4d7df7c5>:15> exception=KeyError('this-is-not-an-attr',)>\n",
      "Traceback (most recent call last):\n",
      "  File \"<ipython-input-9-9c6b4d7df7c5>\", line 26, in fetch_ip\n",
      "    ip = json_response[service.ip_attr]\n",
      "KeyError: 'this-is-not-an-attr'\n"
     ]
    },
    {
     "name": "stdout",
     "output_type": "stream",
     "text": [
      "ipify finished with result: 119.64.234.10, took: 1.16 seconds\n"
     ]
    }
   ],
   "source": [
    "from collections import namedtuple\n",
    "import time\n",
    "import asyncio\n",
    "import aiohttp\n",
    "\n",
    "Service = namedtuple('Service', ('name', 'url', 'ip_attr'))\n",
    "\n",
    "SERVICES = (\n",
    "    Service('ipify', 'https://api.ipify.org?format=json', 'ip'),\n",
    "    Service('ip-api', 'http://ip-api.com/json', 'this-is-not-an-attr'),\n",
    "    Service('borken', 'http://no-way-this-is-going-to-work.com/json', 'ip')\n",
    ")\n",
    "\n",
    "\n",
    "@asyncio.coroutine\n",
    "def fetch_ip(service):\n",
    "    start = time.time()\n",
    "    print('Fetching IP from {}'.format(service.name))\n",
    "\n",
    "    try:\n",
    "        response = yield from aiohttp.request('GET', service.url)\n",
    "    except:\n",
    "        print('{} is unresponsive'.format(service.name))\n",
    "    else:\n",
    "        json_response = yield from response.json()\n",
    "        ip = json_response[service.ip_attr]\n",
    "        \n",
    "        response.close()\n",
    "        print('{} finished with result: {}, took: {:.2f} seconds'.format(\n",
    "            service.name, ip, time.time() - start))\n",
    "\n",
    "\n",
    "@asyncio.coroutine\n",
    "def asynchronous():\n",
    "    futures = [fetch_ip(service) for service in SERVICES]\n",
    "    yield from asyncio.wait(futures)  # intentionally ignore results\n",
    "\n",
    "\n",
    "ioloop = asyncio.get_event_loop()\n",
    "ioloop.run_until_complete(asynchronous())\n",
    "#ioloop.close()"
   ]
  },
  {
   "cell_type": "markdown",
   "metadata": {},
   "source": [
    "### Timeouts"
   ]
  },
  {
   "cell_type": "code",
   "execution_count": 10,
   "metadata": {
    "collapsed": false
   },
   "outputs": [
    {
     "name": "stdout",
     "output_type": "stream",
     "text": [
      "Using a 0.01 timeout\n",
      "Fetching IP from ip-api\n",
      "Fetching IP from ipify\n",
      "{'message': 'Result from asynchronous.', 'ip': 'not available'}\n",
      "Using a 5.0 timeout\n",
      "Fetching IP from ip-api\n",
      "Fetching IP from ipify\n",
      "ip-api finished with result: 119.64.234.10, took: 0.39 seconds\n",
      "{'message': 'Result from asynchronous.', 'ip': '119.64.234.10'}\n"
     ]
    }
   ],
   "source": [
    "import time\n",
    "import random\n",
    "import asyncio\n",
    "import aiohttp\n",
    "import argparse\n",
    "from collections import namedtuple\n",
    "from concurrent.futures import FIRST_COMPLETED\n",
    "\n",
    "Service = namedtuple('Service', ('name', 'url', 'ip_attr'))\n",
    "\n",
    "SERVICES = (\n",
    "    Service('ipify', 'https://api.ipify.org?format=json', 'ip'),\n",
    "    Service('ip-api', 'http://ip-api.com/json', 'query')\n",
    ")\n",
    "\n",
    "\n",
    "DEFAULT_TIMEOUT = 0.01\n",
    "\n",
    "\n",
    "@asyncio.coroutine\n",
    "def fetch_ip(service):\n",
    "    start = time.time()\n",
    "    print('Fetching IP from {}'.format(service.name))\n",
    "    \n",
    "    yield from asyncio.sleep(random.randint(1, 3) * 0.1)\n",
    "    try:\n",
    "        response = yield from aiohttp.request('GET', service.url)\n",
    "    except:  \n",
    "        return '{} is unresponsive'.format(service.name)\n",
    "    else:\n",
    "        json_response = yield from response.json()\n",
    "        ip = json_response[service.ip_attr]\n",
    "        response.close()\n",
    "        print('{} finished with result: {}, took: {:.2f} seconds'.format(\n",
    "            service.name, ip, time.time() - start))\n",
    "        return ip\n",
    "        \n",
    "\n",
    "@asyncio.coroutine\n",
    "def asynchronous(timeout):\n",
    "    response = {\n",
    "        \"message\": \"Result from asynchronous.\",\n",
    "        \"ip\": \"not available\"\n",
    "    }\n",
    "    \n",
    "    futures = [fetch_ip(service) for service in SERVICES]\n",
    "    done, pending = yield from asyncio.wait(\n",
    "        futures, timeout=timeout, return_when=FIRST_COMPLETED\n",
    "    )\n",
    "    \n",
    "    for future in pending:\n",
    "        future.cancel()\n",
    "        \n",
    "    for future in done:\n",
    "        response[\"ip\"] = future.result()\n",
    "        \n",
    "    print(response)\n",
    "\n",
    "#parser = argparse.ArgumentParser()\n",
    "#parser.add_argument(\n",
    "#    '-t', '--timeout',\n",
    "#    help='Timeout to use, defaults to {}'.format(DEFAULT_TIMEOUT),\n",
    "#    default=DEFAULT_TIMEOUT, type=float)\n",
    "#args = parser.parse_args()\n",
    "\n",
    "timeout=0.01\n",
    "print(\"Using a {} timeout\".format(timeout))\n",
    "ioloop = asyncio.get_event_loop()\n",
    "ioloop.run_until_complete(asynchronous(timeout))\n",
    "\n",
    "timeout=5.0\n",
    "print(\"Using a {} timeout\".format(timeout))\n",
    "ioloop = asyncio.get_event_loop()\n",
    "ioloop.run_until_complete(asynchronous(timeout))\n",
    "\n",
    "#ioloop.close()"
   ]
  },
  {
   "cell_type": "markdown",
   "metadata": {},
   "source": [
    "## Related Readings\n",
    "- [Python’s asyncio documentation](https://docs.python.org/3/library/asyncio.html)\n",
    "- [PEP 492 — Coroutines with async and await syntax](https://www.python.org/dev/peps/pep-0492/)\n",
    "- [asyncio — Asynchronous I/O, event loop, and concurrency tools](https://pymotw.com/3/asyncio/index.html)\n",
    "- [A Web Crawler With asyncio Coroutines](http://www.aosabook.org/en/500L/a-web-crawler-with-asyncio-coroutines.html)"
   ]
  }
 ],
 "metadata": {
  "kernelspec": {
   "display_name": "Python 3",
   "language": "python",
   "name": "python3"
  },
  "language_info": {
   "codemirror_mode": {
    "name": "ipython",
    "version": 3
   },
   "file_extension": ".py",
   "mimetype": "text/x-python",
   "name": "python",
   "nbconvert_exporter": "python",
   "pygments_lexer": "ipython3",
   "version": "3.6.0"
  }
 },
 "nbformat": 4,
 "nbformat_minor": 2
}
