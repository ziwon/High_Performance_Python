{
 "cells": [
  {
   "cell_type": "code",
   "execution_count": 1,
   "metadata": {
    "collapsed": true
   },
   "outputs": [],
   "source": [
    "# simple implementations of the range and xrange\n",
    "\n",
    "def range2(start, stop, step=1): # this version uses N*x more memory\n",
    "    numbers = []\n",
    "    while start < stop:\n",
    "        numbers.append(start)\n",
    "        start += step\n",
    "        return numbers\n",
    "    \n",
    "def xrange2(start, stop, step=1):\n",
    "    while start < stop: # StopIteration excpetion is thrown when the function reaches its end.\n",
    "        yield start # generator is able to 'return' many values, emits value\n",
    "        start += step\n",
    "        \n",
    "for i in range2(1,10000):\n",
    "    pass\n",
    "\n",
    "for i in xrange2(1,10000):\n",
    "    pass"
   ]
  },
  {
   "cell_type": "code",
   "execution_count": null,
   "metadata": {
    "collapsed": false
   },
   "outputs": [],
   "source": [
    "# Python for loop deconstructed\n",
    "# The python loop\n",
    "for i in object:\n",
    "    do_work(i)\n",
    "    \n",
    "# Is equipvalent to\n",
    "object_iteraor = iter(object)\n",
    "while True:\n",
    "    try: \n",
    "        i = object_iterator.next()\n",
    "        do_work(i)\n",
    "    except StopIteration:\n",
    "        break;"
   ]
  },
  {
   "cell_type": "code",
   "execution_count": 2,
   "metadata": {
    "collapsed": false
   },
   "outputs": [
    {
     "name": "stdout",
     "output_type": "stream",
     "text": [
      "The slowest run took 5.65 times longer than the fastest. This could mean that an intermediate result is being cached.\n",
      "1000000 loops, best of 3: 548 ns per loop\n",
      "1 loop, best of 3: 1.42 s per loop\n"
     ]
    }
   ],
   "source": [
    "def test_range():\n",
    "    # range(100,000,000) would create a list 3.1 GB large\n",
    "    for i in range2(1, 10000000):\n",
    "        pass\n",
    "    \n",
    "def test_xrange():\n",
    "    for i in xrange2(1, 10000000):\n",
    "        pass\n",
    "    \n",
    "%timeit test_range()\n",
    "%timeit test_xrange()"
   ]
  },
  {
   "cell_type": "code",
   "execution_count": 3,
   "metadata": {
    "collapsed": false
   },
   "outputs": [
    {
     "name": "stdout",
     "output_type": "stream",
     "text": [
      "1 loop, best of 3: 1.26 s per loop\n",
      "1 loop, best of 3: 1.41 s per loop\n"
     ]
    }
   ],
   "source": [
    "# list comprehension vs generator comprehension\n",
    "def list_comprehension(list_of_numbers):\n",
    "    return len([n for n in list_of_numbers if n % 3 == 0])\n",
    "  \n",
    "    \n",
    "def gen_comprehension(list_of_numbers):\n",
    "    return sum((1 for n in list_of_numbers if n % 3 == 0))\n",
    "\n",
    "list_of_numbers = range(0, 10000000)\n",
    "%timeit list_comprehension(list_of_numbers)\n",
    "%timeit gen_comprehension(list_of_numbers)"
   ]
  },
  {
   "cell_type": "code",
   "execution_count": 4,
   "metadata": {
    "collapsed": false
   },
   "outputs": [
    {
     "name": "stdout",
     "output_type": "stream",
     "text": [
      "<class 'list'>\n",
      "<class 'generator'>\n",
      "10000 loops, best of 3: 83.4 µs per loop\n",
      "The slowest run took 5.50 times longer than the fastest. This could mean that an intermediate result is being cached.\n",
      "1000000 loops, best of 3: 425 ns per loop\n",
      "9024\n",
      "88\n"
     ]
    }
   ],
   "source": [
    "r = range(0, 1000)\n",
    "l = [n*2 for n in r] # List comprehension\n",
    "g = (n*2 for n in r) # Generator expression\n",
    " \n",
    "print(type(l))  # <class 'list'>\n",
    "print(type(g))  # <class 'generator'>\n",
    "\n",
    "%timeit [n*2 for n in r] \n",
    "%timeit (n*2 for n in r)\n",
    "\n",
    "import sys\n",
    "print(sys.getsizeof(l))  # 9024\n",
    "print(sys.getsizeof(g))  # 88, same performance but low memory"
   ]
  },
  {
   "cell_type": "code",
   "execution_count": 6,
   "metadata": {
    "collapsed": false
   },
   "outputs": [],
   "source": [
    "# infinite series\n",
    "def fibonacchi():\n",
    "    i, j = 0, 1\n",
    "    while True:\n",
    "        yield j\n",
    "        i, j = j, i + j\n",
    "        \n",
    "# count of fibonacci numbers below 5,000\n",
    "def fibonacchi_native():\n",
    "    i, j = 0, 1\n",
    "    count = 0\n",
    "    while j <= 5000:\n",
    "        if j % 2:\n",
    "            count += 1\n",
    "        i, j = j, i + j\n",
    "    return count\n",
    "\n",
    "def fibonacci_transform():\n",
    "    count = 0\n",
    "    for f in fibonacchi():\n",
    "        if f > 5000:\n",
    "            break\n",
    "        if f % 2:\n",
    "            count += 1\n",
    "    return count\n",
    "\n",
    "# generating data and transforming data\n",
    "from itertools import islice\n",
    "def fibonacci_succinct():\n",
    "    is_odd = lambda x : x % 2\n",
    "    first_5000 = islice(fibonacci(), 0, 5000)\n",
    "    return sum(1 for x in first_5000 if is_odd(x))"
   ]
  },
  {
   "cell_type": "code",
   "execution_count": 7,
   "metadata": {
    "collapsed": false
   },
   "outputs": [
    {
     "name": "stdout",
     "output_type": "stream",
     "text": [
      "The first anomalous date is:  1970-01-01\n",
      "The next 10 anomalous dates are:  [datetime.date(1970, 1, 3), datetime.date(1970, 1, 5), datetime.date(1970, 1, 6), datetime.date(1970, 1, 8), datetime.date(1970, 1, 9), datetime.date(1970, 1, 11), datetime.date(1970, 1, 12), datetime.date(1970, 1, 13), datetime.date(1970, 1, 14), datetime.date(1970, 1, 15)]\n",
      "Using rolling_window_grouper:\n",
      "The first anomalous date is:  1970-01-01 09:00:00\n",
      "The next 10 anomalous dates are:  [datetime.datetime(1970, 1, 1, 9, 0, 1), datetime.datetime(1970, 1, 1, 9, 0, 2), datetime.datetime(1970, 1, 1, 9, 0, 3), datetime.datetime(1970, 1, 1, 9, 0, 4), datetime.datetime(1970, 1, 1, 9, 0, 5), datetime.datetime(1970, 1, 1, 9, 0, 6), datetime.datetime(1970, 1, 1, 9, 0, 7), datetime.datetime(1970, 1, 1, 9, 0, 8), datetime.datetime(1970, 1, 1, 9, 0, 9), datetime.datetime(1970, 1, 1, 9, 0, 10)]\n"
     ]
    }
   ],
   "source": [
    "# Lazily reading data\n",
    "import math\n",
    "from random import normalvariate, random\n",
    "from itertools import count, groupby, islice\n",
    "from datetime import (date, datetime)\n",
    "\n",
    "\n",
    "def read_data(filename):\n",
    "    with open(filename) as fd:\n",
    "        for line in fd:\n",
    "            data = line.strip().split(',')\n",
    "            yield map(int, data)\n",
    "\n",
    "\n",
    "def read_fake_data(filename):\n",
    "    for i in count():\n",
    "        sigma = random() * 10\n",
    "        yield (i, normalvariate(0, sigma))\n",
    "\n",
    "\n",
    "# Grouping data\n",
    "from datetime import date\n",
    "from itertools import groupby\n",
    "def day_grouper(iterable):\n",
    "    key = lambda timestamp_value: date.fromtimestamp(timestamp_value[0])\n",
    "    return groupby(iterable, key)\n",
    "\n",
    "\n",
    "def check_anomaly(xxx_todo_changeme):\n",
    "    # We find the mean, standard deviation and maximum values for the day.\n",
    "    # Using a single pass mean/standard deviation algorithm allows us to only\n",
    "    # read through the day's data once.\n",
    "    (day, day_data) = xxx_todo_changeme\n",
    "    n = 0\n",
    "    mean = 0\n",
    "    M2 = 0\n",
    "    max_value = None\n",
    "    for timestamp, value in day_data:\n",
    "        n += 1\n",
    "        delta = value - mean\n",
    "        mean = mean + delta / n\n",
    "        M2 += delta * (value - mean)\n",
    "        max_value = max(max_value, value) if max_value else value\n",
    "    variance = M2 / (n - 1)\n",
    "    standard_deviation = math.sqrt(variance)\n",
    "\n",
    "    # Here is the actual check of whether that day's data is anomalous.  If it\n",
    "    # is, we return the value of the day, otherwise we return false\n",
    "    if max_value > mean + 6 * standard_deviation:\n",
    "        return day\n",
    "    return False\n",
    "\n",
    "\n",
    "def rolling_window_grouper(data, window_size):\n",
    "    window = tuple(islice(data, 0, window_size))\n",
    "    while True:\n",
    "        current_datetime = datetime.fromtimestamp(window[0][0])\n",
    "        yield (current_datetime, window)\n",
    "        window = window[1:] + (next(data),)\n",
    "\n",
    "        \n",
    "data = read_fake_data(\"fake_filename\")\n",
    "data_day = day_grouper(data)\n",
    "anomalous_dates = filter(None, map(check_anomaly, data_day))\n",
    "\n",
    "first_anomalous_date = next(anomalous_dates)\n",
    "print (\"The first anomalous date is: \", first_anomalous_date)\n",
    "next_10_dates = islice(anomalous_dates, 10)\n",
    "print (\"The next 10 anomalous dates are: \", list(next_10_dates))\n",
    "\n",
    "print (\"Using rolling_window_grouper:\")\n",
    "data = read_fake_data(\"fake_filename\")\n",
    "data_day = rolling_window_grouper(data, window_size=86400)\n",
    "anomalous_dates = filter(None, map(check_anomaly, data_day))\n",
    "first_anomalous_date = next(anomalous_dates)\n",
    "print (\"The first anomalous date is: \", first_anomalous_date)\n",
    "next_10_dates = islice(anomalous_dates, 10)\n",
    "print (\"The next 10 anomalous dates are: \", list(next_10_dates))"
   ]
  },
  {
   "cell_type": "code",
   "execution_count": 8,
   "metadata": {
    "collapsed": false
   },
   "outputs": [
    {
     "name": "stdout",
     "output_type": "stream",
     "text": [
      "None\n",
      "The Number: 6\n",
      "None\n",
      "The Number: 12\n",
      "None\n",
      "The Number: 18\n",
      "None\n",
      "The Number: 24\n",
      "None\n",
      "The Number: 30\n"
     ]
    }
   ],
   "source": [
    "# Pipeline using Generator, https://brett.is/writing/about/generator-pipelines-in-python/\n",
    "\n",
    "# Without Generators\n",
    "def process(num):\n",
    "    # filter out non-evens\n",
    "    if num % 2 != 0:\n",
    "        return\n",
    "    num = num * 3\n",
    "    num = 'The Number: %s' % num\n",
    "    return num\n",
    "nums = [1, 2, 3, 4, 5, 6, 7, 8, 9, 10]\n",
    "for num in nums:\n",
    "    print (process(num))"
   ]
  },
  {
   "cell_type": "code",
   "execution_count": 10,
   "metadata": {
    "collapsed": false
   },
   "outputs": [
    {
     "name": "stdout",
     "output_type": "stream",
     "text": [
      "The Number: 6\n",
      "The Number: 12\n",
      "The Number: 18\n",
      "The Number: 24\n",
      "The Number: 30\n"
     ]
    }
   ],
   "source": [
    "# With Generators\n",
    "def even_filter(nums):\n",
    "    for num in nums:\n",
    "        if num % 2 == 0:\n",
    "            yield num\n",
    "            \n",
    "def multiply_by_three(nums):\n",
    "    for num in nums:\n",
    "        yield num * 3\n",
    "        \n",
    "def convert_to_string(nums):\n",
    "    for num in nums:\n",
    "        yield \"The Number: %s\" % num\n",
    "    \n",
    "nums = [1, 2, 3, 4, 5, 6, 7, 8, 9, 10]\n",
    "pipeline = convert_to_string(multiply_by_three(even_filter(nums)))\n",
    "for num in pipeline:\n",
    "    print (num)"
   ]
  }
 ],
 "metadata": {
  "kernelspec": {
   "display_name": "Python 3",
   "language": "python",
   "name": "python3"
  },
  "language_info": {
   "codemirror_mode": {
    "name": "ipython",
    "version": 3
   },
   "file_extension": ".py",
   "mimetype": "text/x-python",
   "name": "python",
   "nbconvert_exporter": "python",
   "pygments_lexer": "ipython3",
   "version": "3.5.2"
  }
 },
 "nbformat": 4,
 "nbformat_minor": 0
}
