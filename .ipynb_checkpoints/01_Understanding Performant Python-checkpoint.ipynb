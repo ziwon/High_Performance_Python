{
 "cells": [
  {
   "cell_type": "markdown",
   "metadata": {
    "collapsed": true
   },
   "source": [
    "## The Fundamental Computer System\n",
    "Three basic parts: the computing units, the memory units, and the communications layers between them.\n",
    "\n",
    "### Computing Units\n",
    "\n",
    "- IPC (Instruction Per Cycle): The number of operations it can done in one cycle (ex. vectorization, SIMD - single instruction, multiple data)\n",
    "- Clock Speed: How many cycles it can do in one second\n",
    "- Hyperthreading: A virtual second CPU to the host OS\n",
    " - Interleave two threads of instructions into the execution units on a single CPU (ex. floating-point operations and integer operations)\n",
    "- Out-of-order execution: Not depend on the previous results (ex. waiting for a memory access)\n",
    "- Multicore architecture\n",
    " - Amdahl's law: Some routines that must run on one core will be the bottleneck for the final speedup of adding more cores.\n",
    " - GIL (Global Interpreter Lock, one instruction at a time) in Python is a major hurdle with utilizing multiple cores\n",
    "  - Even with 100 question askers, only one could ask a question at a time\n",
    "  - Can be avoided by `multiprocessing`, `numexpr`, `Cython` or distributed computing \n",
    "  \n",
    "### Memory Units\n",
    "\n",
    "- Used to store bits: variables, the pixels of an image\n",
    "- The read/write speed is depend on the way the data is being read\n",
    "- *Sequential Read* is much better than *Random Data*\n",
    "- Latency is big on the hard drive and is small on RAM\n",
    "- The types of various memory units: Spinning hard drive, Solid stae hard drive, RAM, L1/L2 cache\n",
    "\n",
    "### Communications Layers\n",
    "\n",
    "- frontside bus: between RAM and the L1/L2 cache\n",
    "- backside bus: from cache to CPU \n",
    "- external bus: the routes from hardware devices to the CPU and system memory\n",
    "- GPU as a peripheral device communiates through the PCI bus.\n",
    "- the network is limited than the frontside bus which transfers gigabits per second\n",
    "- **bus width**: how much data can be moved in one transfer\n",
    "- **bud frequencey**: how many transfer it can do per second\n",
    "\n",
    "## Putting the Fundamental Elements Together"
   ]
  }
 ],
 "metadata": {
  "kernelspec": {
   "display_name": "Python 3",
   "language": "python",
   "name": "python3"
  },
  "language_info": {
   "codemirror_mode": {
    "name": "ipython",
    "version": 3
   },
   "file_extension": ".py",
   "mimetype": "text/x-python",
   "name": "python",
   "nbconvert_exporter": "python",
   "pygments_lexer": "ipython3",
   "version": "3.5.2"
  }
 },
 "nbformat": 4,
 "nbformat_minor": 0
}
